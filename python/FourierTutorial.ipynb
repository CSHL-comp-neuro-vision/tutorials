{
 "cells": [
  {
   "cell_type": "markdown",
   "metadata": {},
   "source": [
    "# Fourier Tutorial\n",
    "\n",
    "Fourier analysis tutorial for NeuBeh/PBIO 545, Winter 2003\n",
    "- Created 1/03 Mike Shadlen\n",
    "- Revisions:\n",
    "  - GDF: cleaned up some typos\n",
    "  - RK: 6/2010\n",
    "  - MLW: 6/2018: Python translation\n",
    "\n",
    "The fourier transform is probably the most important transform in applied\n",
    "math. It takes a function of time or space (or whatever) and expresses it\n",
    "as a function of frequency. The goal of this tutorial is make you\n",
    "comfortable with what a fourier transform is and why it is useful. We\n",
    "will focus on two topics: (1) definition and properties of the fourier\n",
    "transform, (2) convolution, and (3) the connection between the two. \n"
   ]
  },
  {
   "cell_type": "code",
   "execution_count": null,
   "metadata": {},
   "outputs": [],
   "source": [
    "%matplotlib inline\n",
    "import numpy as np\n",
    "from numpy import sin, cos, exp, pi\n",
    "from numpy.fft import fft, ifft, fftshift, ifftshift, fftfreq\n",
    "import matplotlib as mpl\n",
    "import matplotlib.pyplot as plt\n",
    "from matplotlib import animation\n",
    "from IPython.display import HTML"
   ]
  },
  {
   "cell_type": "markdown",
   "metadata": {},
   "source": [
    "\n",
    "## Part I. The discrete fourier transform\n",
    "\n",
    "A transform takes a value and makes it into a new value. Log is a\n",
    "familiar example. Or, we might say that it takes a list of values and\n",
    "makes them into a new list of values.  When we think about the fourier\n",
    "transform, we consider a list of intensities at points in time (or space)\n",
    "and transform them to a list of \"intensities\" at different frequencies.\n",
    "Thinking about a signal as a collection of time intensities, each\n",
    "associated with its own time point, is simple enough. Thinking about a\n",
    "signal as a list of intensities, each associated with its own sinusoidal\n",
    "frequency, is also convenient. You do it every day when you adjust the\n",
    "bass and treble on your stereo -- or better yet, if you adjust knobs on\n",
    "an equalizer. You can imagine that describing a signal in terms of its\n",
    "frequencies can be convenient in certain settings. That's what the\n",
    "fourier transform is for. \n",
    "\n",
    "I want to emphasize from the start that the fourier transform (FT, for\n",
    "short) does not change the signal; it just represents it differently. To\n",
    "be concrete, suppose there is some electrical signal that we want to\n",
    "describe over the phone to a friend. We could list the voltages at each\n",
    "time or we could list the amplitudes and phases of each of the\n",
    "frequencies that comprise the signal. It's the same signal, just a\n",
    "different list of numbers. \n",
    "\n",
    "Often, when we describe signals, we don't think of them as lists of\n",
    "numbers but rather as functions of time. Of course, the function can be\n",
    "viewed as a way to generate a list of values at each time point. We\n",
    "can also use a function to describe the list of \"intensities\" at each\n",
    "frequency in a fourier transform. The two functions are called fourier\n",
    "transform pairs. For example, suppose $s(t)$ is some function of time (it\n",
    "returns a value at each time point). And suppose that you could describe\n",
    "the same signal by \"intensities\" of frequency ($\\omega$) using a function, $S(\\omega)$.\n",
    "Then, we say that $s(t)$ and $S(\\omega)$ are a Fourier transform pair. Or we say\n",
    "that $S(w)$ is the Fourier transform of $s(t)$, or that $s(t)$ is the inverse\n",
    "Fourier transform of $S(\\omega)$. \n",
    "\n",
    "Before we look at FTs, let's get comfortable with a few illustrative\n",
    "functions. We will focus on discrete functions. What is meant by this is\n",
    "that the argument of the function, say time, has discrete values. We're\n",
    "used to thinking of t occupying some continuous interval on a the real\n",
    "number line, but I'm asking you to think of time as integers, or really\n",
    "integers multiplied by some constant or scaling factor.\n",
    "\n"
   ]
  },
  {
   "cell_type": "code",
   "execution_count": null,
   "metadata": {},
   "outputs": [],
   "source": [
    "# Define a discrete time axis. The spacing is dt\n",
    "dt = .01  # our units are seconds. So each integer time point is scaled to dt sec\n",
    "tmax = 1\n",
    "t = np.arange(0, tmax, dt)\n",
    "\n",
    "#Notice that we are sampling time at a rate of 1/dt. This will be important later.\n",
    "samplingRate = 1 / dt  # in Hz"
   ]
  },
  {
   "cell_type": "markdown",
   "metadata": {},
   "source": [
    "Think of a discrete function as a series of weights at each of the points in `t`.  Let's look at some functions this way. Here's a gaussian profile centered at .5:"
   ]
  },
  {
   "cell_type": "code",
   "execution_count": null,
   "metadata": {},
   "outputs": [],
   "source": [
    "f1 = exp(-.5 * (t - .5) ** 2 / (.05) ** 2)\n",
    "f, ax = plt.subplots()\n",
    "ax.plot(t, f1)\n",
    "ax.set(xlabel='Time [s]', ylabel='Amplitude')"
   ]
  },
  {
   "cell_type": "markdown",
   "metadata": {},
   "source": [
    "Pause here. The function is drawn continously: there are no gaps. That's because matplotlib interpolated between the values at the discrete time points. In reality, the function is just a bunch of heights at each of the time points. We can use the stem function to highlight this fact."
   ]
  },
  {
   "cell_type": "code",
   "execution_count": null,
   "metadata": {},
   "outputs": [],
   "source": [
    "f, ax = plt.subplots()\n",
    "ax.stem(t, f1)"
   ]
  },
  {
   "cell_type": "markdown",
   "metadata": {},
   "source": [
    "Now... that's a discrete function.Each of the points can be thought of as a weight given to the basis set of discrete time points. We represent the function as a list of these weights. Indeed, f1 is a vector."
   ]
  },
  {
   "cell_type": "code",
   "execution_count": null,
   "metadata": {},
   "outputs": [],
   "source": [
    "print(f1.shape)"
   ]
  },
  {
   "cell_type": "markdown",
   "metadata": {},
   "source": [
    "Let's remember this function by calling it something mnemonic"
   ]
  },
  {
   "cell_type": "code",
   "execution_count": null,
   "metadata": {},
   "outputs": [],
   "source": [
    "gaus1 = f1"
   ]
  },
  {
   "cell_type": "markdown",
   "metadata": {},
   "source": [
    "Let's look at a few more functions:"
   ]
  },
  {
   "cell_type": "code",
   "execution_count": null,
   "metadata": {},
   "outputs": [],
   "source": [
    "f, axes = plt.subplots(1, 7, figsize=(15, 3), sharex=True, sharey=True)\n",
    "\n",
    "pulse = f2 = (t > .45) & (t <= .55)\n",
    "axes[0].set(title=\"Pulse\")\n",
    "axes[0].stem(t, pulse)\n",
    "\n",
    "# a sine \n",
    "sin1 = f3 = sin(2 * pi * 1 * (t - .5))\n",
    "axes[1].set(title=\"Sin\")\n",
    "axes[1].stem(t, f3)\n",
    "\n",
    "# the cosine\n",
    "cos10 = f4 = cos(2 * pi * 10 * (t - .5))\n",
    "axes[2].set(title=\"Cos\")\n",
    "axes[2].stem(t, f4)\n",
    "# this looks better interpolated\n",
    "axes[2].plot(t, f4)\n",
    "\n",
    "# the sum of sine and cossine\n",
    "sos = .5 * f3 + f4\n",
    "axes[3].set(title=\"Sum of sin and cos\")\n",
    "axes[3].stem(t, sos)\n",
    "axes[3].plot(t, sos)\n",
    "\n",
    "# exponential\n",
    "tau = .1\n",
    "exp1 = f5 = exp(-(t - .5) / tau) * (t > .5)\n",
    "axes[4].set(title=\"Exponential\")\n",
    "axes[4].stem(t, f5)\n",
    "\n",
    "# delta function - take special note of this one\n",
    "delt1 = f6 = t == .5\n",
    "axes[5].set(title=\"Delta\")\n",
    "axes[5].stem(t, f6)\n",
    "\n",
    "# comb(.1t) function.\n",
    "# This is a sampling function or strobe function that\n",
    "# turns on at a rate of 10 times per second (10 Hz).\n",
    "# But it is also a bunch of delta functions.\n",
    "comb10 = f7 = (t / dt % 10) == 0\n",
    "axes[6].stem(t, comb10)\n",
    "axes[6].set(title=\"Comb\")\n",
    "\n",
    "axes[0].set(xlabel='Time [s]', ylabel='Amplitude')\n",
    "f.tight_layout()"
   ]
  },
  {
   "cell_type": "markdown",
   "metadata": {},
   "source": [
    "Reflection point. You have yet to look at a fourier transform. You are\n",
    "supposed to simply marvel at the idea of discreteness. And here is the\n",
    "one thing extra that you need to think about. All of the functions above\n",
    "can be thought of as sums of delta functions with appropriately chosen\n",
    "weights. The most obvious example is the comb function, as we have\n",
    "already noted. But all the functions are just values at the discrete time\n",
    "points. So all can be thought of as delta functions. In fact, a discrete\n",
    "function is exactly this: the multiplication of a continuous function by\n",
    "comb(dt), where d is the gap between samples (i.e., the reciprocal of the\n",
    "sampling rate). We will return to this point later.\n",
    " \n",
    "\n",
    "One other point to make before moving on. You can think of the discrete\n",
    "times as a basis set -- a list of variables or causes such that each\n",
    "member of the list is  conceptualized as dimension of some (high\n",
    "dimensional) space. Instead of thinking about s(t) as a 1-dimensional\n",
    "function of time, we can think of it as a vector of weights (a point in a\n",
    "high dimensional space). The length of the vector is the number of time\n",
    "samples, which is also the dimensionality of the space. A value of a\n",
    "function at one time and a value at any another time are set\n",
    "independently. One way to put this is that a delta function at t=k\n",
    "multiplied with any other function is 0 everywhere except at t=k. A\n",
    "second point which is so trivial that it's almost confusing concerns\n",
    "linearity. All of the functions we generated above are nonlinear: it is\n",
    "simply not the case that $f(t_1 + t_2) = f(t_1) + f(t_2)$. However, if we think\n",
    "about what we are doing with each of the weights at each sample time\n",
    "point, then it is the case that linearity holds. That is, any function\n",
    "can be described as a sum of delta functions at some (or all) of the\n",
    "discrete sample times. \n",
    "\n",
    "\n",
    "Now, let's look at the fourier transforms of the functions above. We had\n",
    "better start by defining a fourier transform. Calling it a transform\n",
    "already gives away something important. The thing we're describing is not\n",
    "changed; it's just expressed differently. Just like when you take a log\n",
    "-- you don't change the quantity of stuff. The transform is of a function.\n",
    "Now, instead of thinking of the function as returning a list of weights at the\n",
    "discrete time samples, we now think of it as returning a list of \"weights\" on\n",
    "sinsoids. We'll approach this from a couple of angles. First, let's get\n",
    "the big picture.\n",
    "\n",
    "Start with the sinusoids. They are pretty easy to conceive of as \"sums of\n",
    "sinusoids\".  On your first pass through this, please ignore the details\n",
    "of the matlab commands and pay attention to the graphs (the exception is\n",
    "the line of code marked \"** Look at this one **\"). The left columns shows\n",
    "the function of time expressed as weights at each time sample. The right\n",
    "shows the corresponding fourier transform expressed as amplitudes at each\n",
    "frequency. You'll want to ponder each of the 7 examples in Figure 1, but\n",
    "I would encourage you to look at the two sinusoids first. The FT says\n",
    "that they consist of a weight at a single frequency. The plots I made\n",
    "throw away information about phase (we'll get to that in a moment). But\n",
    "they make it pretty clear which frequencies comprise the 7 signals.\n"
   ]
  },
  {
   "cell_type": "code",
   "execution_count": null,
   "metadata": {},
   "outputs": [],
   "source": [
    "f, axes = plt.subplots(2, 2, figsize=(7, 7), sharex=\"col\")\n",
    "nyq = 1 / (2 * dt)\n",
    "fax = fftshift(fftfreq(t.size, dt))\n",
    "\n",
    "axes[0, 0].stem(t, sin1)\n",
    "\n",
    "axes[0, 1].stem(fax, fftshift(abs(fft(sin1))))\n",
    "axes[0, 1].set(xlim=(0, nyq))\n",
    "\n",
    "axes[1, 0].stem(t, cos10)\n",
    "axes[1, 0].plot(t, cos10)\n",
    "\n",
    "axes[1, 1].stem(fax, fftshift(abs(fft(cos10))))\n",
    "axes[1, 1].set(xlim=(0, nyq))\n",
    "\n",
    "axes[1, 0].set(xlabel='Time')\n",
    "axes[1, 1].set(xlabel='Frequency')\n",
    "\n",
    "f.tight_layout()"
   ]
  },
  {
   "cell_type": "markdown",
   "metadata": {},
   "source": [
    "Now let's look at a sum of 3 sinusoids. **Look at this one.**"
   ]
  },
  {
   "cell_type": "code",
   "execution_count": null,
   "metadata": {},
   "outputs": [],
   "source": [
    "y = sin(2 * pi * 3 * t) + .33 * sin(2 * pi * 9 * t) + .2 * sin(2 * pi * 15 * t)\n",
    "f, axes = plt.subplots(1, 2, figsize=(7, 4))\n",
    "axes[0].plot(t, y)\n",
    "axes[1].stem(fax, fftshift(abs(fft(y))))\n",
    "axes[1].set(xlim=(0, nyq))\n",
    "axes[0].set(xlabel='Time')\n",
    "axes[1].set(xlabel='Frequency')\n",
    "f.tight_layout()"
   ]
  },
  {
   "cell_type": "markdown",
   "metadata": {},
   "source": [
    "Notice that the time function is almost square wave like. It's definition makes it crystal clear that it is a sum of three sinusoids. This is pretty easy to see in the fourier transform.\n",
    "\n",
    "Now let's look at each of the functions we made earlier. For ease of viewing, I will plot some of the time functions with lines that interpolate between the (time or frquency) points. For some functions, I use the stem command to emphasize the discreteness.   \n"
   ]
  },
  {
   "cell_type": "code",
   "execution_count": null,
   "metadata": {},
   "outputs": [],
   "source": [
    "f, axes = plt.subplots(2, 7, figsize=(15, 5), sharey=\"row\")\n",
    "\n",
    "fs = [f1, f2, f3, f4, f5, f6, f7]\n",
    "for ax_i, f_i in zip(axes.T, fs):\n",
    "    ax_i[0].plot(t, f_i)\n",
    "    ax_i[1].stem(fax, fftshift(abs(fft(f_i))))\n",
    "    ax_i[1].set(xlim=(0, nyq))\n",
    "\n",
    "axes[0, 0].set(xlabel=\"Time\")\n",
    "axes[1, 0].set(xlabel=\"Frequency\")\n",
    "f.tight_layout()"
   ]
  },
  {
   "cell_type": "markdown",
   "metadata": {},
   "source": [
    "#### Summary of the pairs\n",
    "\n",
    "1. A gaussian is composed of frequencies that fall off from 0 in the shape of a gaussian. This will turn out to be more true that it may seem from the figure.\n",
    "2. A pulse has FT that is periodic under an envelope that falls off with frequency. This turns out to be the $\\sin(\\omega)/\\omega$ function, called $\\mathrm{sinc}(\\omega)$.\n",
    "3. A sine function with frequency 1 has an FT with weight only at `freq = 1`. We'll deal with phase in a moment.\n",
    "4. A sinewave with frequence 10 Hz has FT with all weight at (brace yourself!) `freq = 10`.\n",
    "5. An exponential looks a lot like an exponential; the weights fall off as `1 / frequency` (recall `1 / (1 + s)` from the DiffEq section).\n",
    "6. A delta function is made by adding sinusoids of equal wieght at every frequency.\n",
    "7. A comb function has FT that is also a comb function at the frequency of the samples and its harmonics.\n",
    "\n",
    "\n",
    "Elaboration: Each frequency really gets two values or weights. Why? Because\n",
    "each sinusoid has an amplitude and a phase. There are several ways to\n",
    "think about this. What is probably most intuitive is just what I said\n",
    "already. A sinusoid of a particular frequency needs two numbers to\n",
    "describe its \"intensity\": amplitude and phase.  It may not be immediately\n",
    "obvious that \"intensity\" is a good word for phase, but bear with me. The\n",
    "most convenient way to think about amplitude and phase is to comprise the\n",
    "sinusoid as a sum of a sine and a cosine wave. A cosine wave with 0 deg\n",
    "phase is just `a * cos + 0 * sin`. A cos wave shifted by `pi / 2` radians (90 deg)\n",
    "is just `0 * cos + a * sin`. A cos wave shifted by `pi / 4` radians (45 deg phase)\n",
    "is `sqrt(a / 2) * cos + sqrt(a / 2) * sin`. Notice that in all these cases the\n",
    "amplitude is `a`. \n",
    "\n",
    "Here's a demo to make this clear. What you see in the top is a sinusoid"
   ]
  },
  {
   "cell_type": "code",
   "execution_count": null,
   "metadata": {},
   "outputs": [],
   "source": [
    "f = plt.figure(figsize=(8, 3))\n",
    "gs = plt.GridSpec(1, 2, width_ratios=(3, 2))\n",
    "n_steps = 36\n",
    "\n",
    "ax_sin = f.add_subplot(gs[0])\n",
    "wave, = ax_sin.plot(t, cos(t * n_steps))\n",
    "\n",
    "ax_pol = f.add_subplot(gs[1], projection=\"polar\")\n",
    "a_all, = ax_pol.plot([0, 0], [0, 1], color=\"r\")\n",
    "a_comp, = ax_pol.plot([], [], color=\".2\", ls=\"--\")\n",
    "ax_pol.set(ylim=(0, 1), yticklabels=[])\n",
    "\n",
    "def init_movie():\n",
    "    return wave, a_all, a_sin, a_cos\n",
    "\n",
    "def animate_movie(i):\n",
    "    th = i * 2 * pi / n_steps\n",
    "    wave.set_ydata(cos(2 * pi * t - th))\n",
    "    a_all.set_xdata([th, th])\n",
    "    if cos(th) >= 0 and sin(th) > 0: \n",
    "        a_comp.set_xdata([0, 0, th, pi / 2, 0])\n",
    "        a_comp.set_ydata([0, cos(th), 1, sin(th), 0])\n",
    "    elif cos(th) < 0 and sin(th) > 0:\n",
    "        a_comp.set_xdata([0, pi / 2, th, pi, 0])\n",
    "        a_comp.set_ydata([0, sin(th), 1, -cos(th), 0])\n",
    "    elif cos(th) <= 0 and sin(th) < 0:\n",
    "        a_comp.set_xdata([0, pi, th, 3 * pi / 2, 0])\n",
    "        a_comp.set_ydata([0, -cos(th), 1, -sin(th), 0])\n",
    "    else:\n",
    "        a_comp.set_xdata([0, 3 * pi / 2, th, 0, 0])\n",
    "        a_comp.set_ydata([0, -sin(th), 1, cos(th), 0])\n",
    "    a_cos.set_ydata([0, abs(cos(th))])\n",
    "    return wave, a_all, a_sin, a_cos\n",
    "\n",
    "anim = animation.FuncAnimation(f,\n",
    "                               frames=n_steps,\n",
    "                               interval=100,\n",
    "                               blit=True,\n",
    "                               func=animate_movie,\n",
    "                               init_func=init_movie)\n",
    "\n",
    "f.tight_layout()\n",
    "plt.close(f)\n",
    "HTML(anim.to_html5_video())"
   ]
  },
  {
   "cell_type": "markdown",
   "metadata": {},
   "source": [
    "Don't move on unless you are completely comfortable with the concept that\n",
    "a sinusoid of a particular frequency and phase can be represented as the\n",
    "sum of a cosine and a sine wave with different weights. When represented\n",
    "on a graph with the cosine component giving the x-coordinate and the sine\n",
    "component giving  the y-coordinate, the sinusoid has amplitude `sqrt(x ** 2 +\n",
    "y ** 2)` and phase `arctan(y / x)`. In other words, each frequency must be\n",
    "described by two numbers: either a cosine component and a sine component\n",
    "or an amplitude and phase. I think most of us have better intuitions\n",
    "about amplituded and phase, but the math is much easier if the two terms\n",
    "are on common footing. So we usually describe the \"intensity\" at each\n",
    "frequency by a cosine component and a sine component. These are just two\n",
    "numbers or weights. Often we refer to this using a single complex number:\n",
    "`x + i * y`, where x is the weight of the cosine part and y is the wieght of\n",
    "the sine part. So we often refer to the cosine part as the real part of\n",
    "the FT and the sine part as the imaginary part of the FT. We'll come back\n",
    "to this in a moment.  It's important that you know this because when you\n",
    "look at how matlab represents the value of the FT at any one frequency,\n",
    "you'll see that it is a complex number!\n",
    "\n",
    "Now, given all this talk about representing each frequency \"intensity\" by\n",
    "two numbers, you might wonder how I plotted the graphs in Fig. 3 as\n",
    "simple single-valued functions of frequency. The answer is that I used\n",
    "the amplitude. That's what the 'abs' expression achieved. In fact, there\n",
    "was another simplification besides. I plotted amplitudes at positive\n",
    "values for frequency. In fact, the fourier transform is a function of\n",
    "both positive and negative frequency.\n",
    "\n",
    "So let's look at the fourier transforms again, but this time plot the\n",
    "cosine and sine parts. I will label these the  real and imaginary parts\n",
    "to get you used to the nomenclature. \n",
    "\n",
    "Detail. I do one sneaky thing to you here. I changed the abscissa so\n",
    "that 0 shows up in the middle. I know that negative time may not mean\n",
    "anything to you, but negative position (e.g., left of center) is just\n",
    "as imporant as positive. I'm doing this here so that I can make a\n",
    "point about symmetry later. \n"
   ]
  },
  {
   "cell_type": "code",
   "execution_count": null,
   "metadata": {},
   "outputs": [],
   "source": [
    "f, axes = plt.subplots(7, 4, figsize=(12, 12), sharex=\"col\")\n",
    "\n",
    "for ax_i, f_i in zip(axes, fs):\n",
    "\n",
    "    ax_i[0].plot(t, f_i)\n",
    "\n",
    "    a = fft(ifftshift(f_i))\n",
    "    ax_i[1].plot(fax, fftshift(a.real))\n",
    "    ax_i[2].plot(fax, fftshift(a.imag))\n",
    "    ax_i[3].plot(fax, abs(fftshift(a)))\n",
    "    plt.setp(ax_i[1:], ylim=abs(a).max()* np.array([-1.1, 1.1]))\n",
    "\n",
    "axes[0, 0].set(title='s(t)')\n",
    "axes[0, 1].set(title='Real part of FT')\n",
    "axes[0, 2].set(title='Imaginary part of FT')\n",
    "axes[0, 3].set(title='Amplitude of FT')\n",
    "axes[-1, 0].set(xlabel='Time [s]')\n",
    "plt.setp(axes[-1, 1:], xlabel='Frequency [Hz]')\n",
    "\n",
    "f.tight_layout()"
   ]
  },
  {
   "cell_type": "markdown",
   "metadata": {},
   "source": [
    "Pause and reflect. There are a few things to notice:\n",
    "\n",
    "#### (1) Invertibility\n",
    "\n",
    "The FT effectively decomposes our signals into sums of\n",
    "sines and cosines. This process is invertible. We could start with the\n",
    "fourier transform -- a list of \"intensities\" at each frequency -- and\n",
    "convert it to a list of \"intensities\" as a function of time. The reason\n",
    "we can get away with this is that when we listed our intensities in the\n",
    "\"frequency domain,\" we were careful to give two values: amplitude and\n",
    "phase, or cosine and sine components, or real and imaginary parts.  To\n",
    "ensure that the process is really invertible, we also need to make sure\n",
    "that we have the right number of values in the transforms. Put simply, we\n",
    "had better represent enough frequencies in the FT so that we can\n",
    "reconstitute the original signal by adding together all the right\n",
    "sinusoids. Let's look at how many frequencies we need.\n",
    "\n",
    "#### (2) The nyquist frequency.\n",
    "\n",
    "Notice the range of frequencies used to represent the FTs in this figure:"
   ]
  },
  {
   "cell_type": "code",
   "execution_count": null,
   "metadata": {},
   "outputs": [],
   "source": [
    "min(fax), max(fax)"
   ]
  },
  {
   "cell_type": "markdown",
   "metadata": {},
   "source": [
    "The maximum frequency is half the sampling rate we used to make a discrete time axis:"
   ]
  },
  {
   "cell_type": "code",
   "execution_count": null,
   "metadata": {},
   "outputs": [],
   "source": [
    "samplingRate = 1 / dt\n",
    "samplingRate"
   ]
  },
  {
   "cell_type": "markdown",
   "metadata": {},
   "source": [
    "We call half of the sampling rate the nyquist frequency. This is the\n",
    "highest frequency cosine wave that can be represented. This is easy to\n",
    "see. To represent a sinusoid as a discrete function of time, we need a\n",
    "sample in the positive going and negative going portions of the sinusoid.\n",
    "The discrete FT goes from `-nyq` to `nyq - 1`. The 0 frequency (in the middle\n",
    "of these graphs) is special. It represents the mean level: the\n",
    "nonsinusoidal component: the `cos(0)` componenent. In fact, the traditional\n",
    "way to plot the fourier transform is to begin with freq=0, increment up\n",
    "to nyquist-1 and then start from -nyquist and increment up to -1 (there's\n",
    "actually a good reason for this). I like seeing the 0 frequency in the\n",
    "middle of graph. So I used the 'fftshift' command. You can read about\n",
    "this. Try making some of the FTs without using the fftshift. What do you\n",
    "see?\n",
    "\n",
    "#### 3) Bookeeping and Hermitian symmetry.\n",
    "\n",
    "Let's return to the theme of invertibility and do some bookeeping on the\n",
    "transform? How many numbers does it take to represent the time functions\n",
    "we've been dealing with? If you left `dt = 0.01` alone, the answer is 100. \n",
    "\n",
    "So all of the functions of time that we've considered are described by a\n",
    "list this long containing the weights at each time point. What about the\n",
    "FT? We just discovered that the highest frequency is the nyquist, which\n",
    "is half the sampling rate. That gives us just 50 frequencies.  How do\n",
    "we transform 100 values into just 50 frequencies? You know the answer: at each\n",
    "frequency we need 2 numbers, a cosine and a sine component (or amplitude\n",
    "and phase). Moreover, for the 0 frequency, there is just one component\n",
    "becuase sin(0)=0. Since cos(0)=1, it's clear that the weight at freq=0 is\n",
    "just a constant function of time. Also, at the nyquist frequency itself,\n",
    "all we can have is a cosine component. To see why, recognize that we only\n",
    "have enough samples in time to represent alternating positive and\n",
    "negative values at adjacent time points. If you put a 0 at t=0, which you\n",
    "must for sin(t), then there's nothing to alterate. Okay, cool, we've got\n",
    "two components for each of the frequencies 1 to `nyquist - 1`, one weight at\n",
    "`freq = 0` and one weight at `freq = nyquist`. That's 100 values in the FT, which\n",
    "corresponds to 100 values in the time function. Perfect!\n",
    "\n",
    "So what's the deal with the negative frequencies in Figure 5? The\n",
    "frequency axis does not go from 0 to nyquist but from -nyquist to\n",
    "nyquist-1. Doesn't that screw up our bookeeping?  Here's the answer. We\n",
    "have considered the fourier transform of real valued functions of time\n",
    "(left column of Fig. 5). The fourier transform returns complex numbers at\n",
    "each frequency, which we can think of a sine waves (imaginary part) and\n",
    "cosine waves (real part). I should say that the fourier transform can act\n",
    "on complex functions of time. Instead of a  real value at each time, we\n",
    "would have a complex number. We may not have any use for this, but the\n",
    "full transform takes these 2-vectors (real and imaginary parts) and\n",
    "transforms them to 4 values: a real and imaginary value at two\n",
    "frequencies, one positive and one negative. Of course, there are half as\n",
    "many frequencies as there are time points. What I'm saying is that we\n",
    "actually had twice as many values in our time functions as we thought. We\n",
    "used real functions of time. The extra 100 values were zeros: the weights\n",
    "on the imaginary part of the signals.  So the transform is 1 to 1.\n",
    "\n",
    "That's all fine and good in theory, but what we care about for most\n",
    "applications is the fourier transform of real valued functions. That's\n",
    "like saying that we know that the imaginary part of the functions in the\n",
    "left column of this figure, is 0 at every time point. So, I'll ask again, why\n",
    "should the FT have 200 values to represent a signal that we can describe\n",
    "by 100 points in time? The answer is that the FTs of real signals really\n",
    "can be represented with just 100 numbers, just like we said. You really\n",
    "don't need both positive and negative frequencies. If I tell you the\n",
    "weights for one of them (e.g., +5 Hz component), you know the weights of\n",
    "the negative frequency (e.g., -5 Hz component). This shows up as a kind\n",
    "of symmetry in the graphs in Figure 5. See if you can figure out what\n",
    "this is.\n",
    "\n",
    "I will pose this as a homework problem. Please turn in your answers to\n",
    "Greg. First a reminder. An even symmetric function obeys the rule `f(x) =\n",
    "f(-x)`. An example is `cos(x)`. An odd symmetric function is one that obeys\n",
    "the rule `f(x) = -f(-x)`. An example is `sin(x)`.  \n",
    "\n",
    "*QUESTION: Which of the seven functions in Fig. 5 are even? Which is odd?\n",
    "Which is neither even nor odd? What do you notice about the fourier\n",
    "transforms of the even and odd symmetric functions. Answer this for the\n",
    "three categories: even, odd, neither even nor odd.*"
   ]
  },
  {
   "cell_type": "markdown",
   "metadata": {},
   "source": [
    "----"
   ]
  },
  {
   "cell_type": "markdown",
   "metadata": {},
   "source": [
    "### The complex exponential. \n",
    "\n",
    "I think you would not lose a lot if you skip this section, but it is\n",
    "essential if you want to really grasp the math. After all, the\n",
    "definition of the FT is an integral (or sum) over time of\n",
    "$\\exp(i \\times 2 \\times \\pi \\times w \\times f(t))$, where $f(t)$ is the function of time. \n",
    "\n",
    "There is one other way to represent a sinusoid. It uses a complex\n",
    "exponential notation. The reason this is important is that the fourier\n",
    "transform is usually written using this complex exponential. This is\n",
    "known as Euler's identity: $$\\exp(i \\times x) = \\cos(x) + i \\sin(x)$$\n",
    "\n",
    "\n",
    "First, let's just convince ourselves that this is true."
   ]
  },
  {
   "cell_type": "code",
   "execution_count": null,
   "metadata": {},
   "outputs": [],
   "source": [
    "result_1 = exp(2j * pi * t)\n",
    "result_2 = cos(2 * pi * t) + 1j * sin(2 * pi * t) \n",
    "np.allclose(result_1, result_2)"
   ]
  },
  {
   "cell_type": "code",
   "execution_count": null,
   "metadata": {},
   "outputs": [],
   "source": [
    "We can see the correspondence by plotting real and imaginary parts. \n",
    "figure(6), clf, hold on\n",
    "plot(t,real(result_1),'r-',t,imag(result_1),'g-')\n",
    "plot(t,real(result_2),'ro',t,imag(result_1),'go')\n"
   ]
  },
  {
   "cell_type": "code",
   "execution_count": null,
   "metadata": {},
   "outputs": [],
   "source": [
    "f, ax = plt.subplots()\n",
    "ax.plot(t, result_1.real, \"C0-\")\n",
    "ax.plot(t, result_1.imag, \"C1-\")\n",
    "ax.plot(t, result_2.real, \"C0.\")\n",
    "ax.plot(t, result_2.imag, \"C1.\")"
   ]
  },
  {
   "cell_type": "markdown",
   "metadata": {},
   "source": [
    "Why is Euler's identity true? Here are a few intuitions. One of these\n",
    "should work for you. The simplest is to recall the Taylor series\n",
    "respresentation of trig functions and exp. Recall that the Taylor series\n",
    "for $\\cos(x)$ is: \n",
    "$$\\cos(x) = 1 - \\frac{x^2}{2!} + \\frac{x^4}{4!} - \\frac{x^6}{6!} + \\frac{x^8}{8!} + \\ldots$$\n",
    "\n",
    "For sin(x) the series contains odd power terms, also alternating in sign\n",
    "$$\\sin(x) = x - \\frac{x^3}{3!} + \\frac{x^5}{5!} - \\frac{x^7}{7!} + \\frac{x^9}{9!} + \\ldots$$\n",
    "\n",
    "For $\\exp(x)$, we get all the terms without the sign flips:\n",
    "$$\\exp(x) = 1 + x + \\frac{x^2}{2!} + \\frac{x^3}{3!} + \\frac{x^4}{4!} + \\frac{x^5}{5!} + \\ldots$$\n",
    "\n",
    "So, $\\exp(i\\,x)$ leads to a series in which the $i^n$ terms go away for the\n",
    "even powers producing alternating $-1$ for $n=2$, $+1$ for $n=4$, etc...\n",
    "The $i^n$ terms leave an $i$ behind for the odd $n$ terms and also produce an\n",
    "alternation of sign. \n",
    "$$\n",
    "\\begin{align}\n",
    "\\exp(i\\,x)\n",
    "&= 1 + i\\,x - \\frac{x^2}{2!} - \\frac{i\\,x^3}{3!} + \\frac{x^4}{4!} + \\frac{i\\,x^5}{5!} + \\ldots \\\\\n",
    "&= \\cos(x) + i\\,\\sin{x}\n",
    "\\end{align}\n",
    "$$\n",
    "\n",
    "The second intuition builds on your knowledge of differential equations.\n",
    "If I tell  you that there is a function, $x(t)$, whose second derivative is\n",
    "negative-proportional to itself, as in $x'' = -k\\times x$,  your immediate\n",
    "reaction is, \"sinusoid, because that's like mass on spring\". Notice that\n",
    "$x(t) = \\exp(i \\times k \\times t)$ has first derivative $i \\times k \\times x(t)$\n",
    "and second derivative $-k^2 \\times x(t)$.\n",
    "\n",
    "Of course, I should have written $x(t) = exp(i \\sqrt(k) \\times t)$ and\n",
    "we would get out our friend $x''=-k\\times x$.\n",
    "\n",
    "So here is the function $a * \\cos(2 \\times \\pi \\times w \\times t - \\phi)$. The real and imaginary parts are in dashed blue and green:"
   ]
  },
  {
   "cell_type": "code",
   "execution_count": null,
   "metadata": {},
   "outputs": [],
   "source": [
    "w = 1\n",
    "phi = pi / 4\n",
    "a = 3\n",
    "A = a * cos(phi)\n",
    "B = a * sin(phi)\n",
    "y = ((A / 2) * (exp(2j * pi * w * t) + exp(-2j * pi * w * t))\n",
    "     + (B / 2) * (exp(2j * pi * w * t) - exp(-2j * pi * w * t)))\n",
    "\n",
    "f, ax = plt.subplots()\n",
    "ax.plot(t, y.real, \"C2--\")\n",
    "ax.plot(t, y.imag, \"C3--\")\n",
    "ax.plot(t, y.real + y.imag, \"C4\")"
   ]
  },
  {
   "cell_type": "markdown",
   "metadata": {},
   "source": [
    "## Part II. Convolution\n",
    "\n",
    "One of the most important uses of the FT is for computing convolution.\n",
    "Convolution is an operation that looks like filtering. It takes a signal\n",
    "and converts it to a new signal. Usually, we can think of the new signal\n",
    "as a filtered version of the old one. We gain a deep intuition for the\n",
    "process by conceptualizing the operation in the time domain and in the\n",
    "frequency domain (i.e., via the fourier transform). I think this is one\n",
    "of the most beautiful concepts in applied math -- and it comes up all the\n",
    "time (or often if you prefer a frequency based description!).\n",
    "\n",
    "### II.1 Convolution in the time domain\n",
    "\n",
    "In this section, we spend a lot of time understanding convolution without\n",
    "talking about FTs. But I want you to keep FTs in the back of your mind\n",
    "while we do this. What you should be asking yourself is this. When\n",
    "filtering looks like blurring, isn't that a lot like attenuating sharp\n",
    "aspects of a signal, and isn't that a lot like attenuating high\n",
    "frequencies?\n",
    "\n",
    "Let's get started. Consider the simplest of all possible signals: a delta function,\n",
    "otherwise known as a click (if it were sound pressure as a function of\n",
    "time) or a line (if it were light intensity as a function of horizontal\n",
    "position)."
   ]
  },
  {
   "cell_type": "code",
   "execution_count": null,
   "metadata": {},
   "outputs": [],
   "source": [
    "time_of_impulse = .1\n",
    "s1 = t == time_of_impulse\n",
    "f, ax = plt.subplots()\n",
    "ax.plot(t, s1)"
   ]
  },
  {
   "cell_type": "markdown",
   "metadata": {},
   "source": [
    "Consider a blurring function. Let's start with one that you've grown\n",
    "accustomed to: eponential decay. We'll see in a moment that this function\n",
    "is causal, a useful property when it comes to time-dependent functions.\n",
    "\n",
    "tau = .03;      % choose a time constant\n",
    "b = exp(-t/tau);\n",
    "plot(t,b)\n",
    "set(gca,'XLim',[0 timeOfImpulse+10*tau])\n",
    "xlabel('Time [out to 10\\tau]')\n"
   ]
  },
  {
   "cell_type": "code",
   "execution_count": null,
   "metadata": {},
   "outputs": [],
   "source": [
    "tau = .03  # choose a time constant\n",
    "b = exp(-t / tau)\n",
    "ax.plot(t, b)\n",
    "ax.set(xlim=(0, time_of_impulse + 10 * tau))\n",
    "f"
   ]
  },
  {
   "cell_type": "markdown",
   "metadata": {},
   "source": [
    "Please run this next step without thinking about it. It's a trick that\n",
    "allows me to make some pictures easily. You can come back to this if you\n",
    "want to pursue the matrix version of convolution."
   ]
  },
  {
   "cell_type": "code",
   "execution_count": null,
   "metadata": {},
   "outputs": [],
   "source": []
  },
  {
   "cell_type": "code",
   "execution_count": null,
   "metadata": {},
   "outputs": [],
   "source": [
    "from scipy.linalg import toeplitz\n",
    "A = np.tril(toeplitz(b))\n",
    "f, ax = plt.subplots()\n",
    "ax.imshow(A)\n",
    "ax.plot(A[:, -1])"
   ]
  },
  {
   "cell_type": "markdown",
   "metadata": {},
   "source": [
    "### What is convolution?\n",
    "\n",
    "It is a blurring of $s1$ by $b$. It is a new function of time that can be\n",
    "thought of as a weighted sum of s1. It's actually easy to see what it is\n",
    "by looking at the formula.  \n",
    "$$s2(k) = \\sum_d s1(d) \\times b(k - d)$$\n",
    "\n",
    "$s2$ is the result of the convolution. It is a function of time, but you've\n",
    "probably noticed that the variable $t$ is not in the equation.  Actually\n",
    "both $k$ and $d$ refer to time, but because we are about to shift things\n",
    "around time takes on several meanings.   It's actually easier to keep\n",
    "things straight if we keep $t$ out of the equation. The convolution is\n",
    "defined at each time, which I will denote this by k. You will come to\n",
    "view $k$ as an offset of the blur function.  The original signal remains a\n",
    "function of time, but we'll use a dummy variable for time. That's what $d$\n",
    "stands for: we can refer to $d$ as \"dime\".  There is nothing special about\n",
    "$s1(d)$. It is the signal plotted as a function of \"dime\" instead of time.\n",
    "\n",
    "Same thing -- no problem. What is $b(k-d)$?  It is $b$ reflected about the\n",
    "y-axis and then offset by $k$ time steps to the right.  Here is what $b(k-d)$\n",
    "looks like when $k=0$."
   ]
  },
  {
   "cell_type": "code",
   "execution_count": null,
   "metadata": {},
   "outputs": [],
   "source": [
    "d = t;\n",
    "figure(1), clf\n",
    "plot(-d,b)\n",
    "xlabel('-dime')\n"
   ]
  },
  {
   "cell_type": "code",
   "execution_count": null,
   "metadata": {},
   "outputs": [],
   "source": [
    "d = t\n",
    "f, ax = plt.subplots()\n",
    "ax.plot(-d, b)\n",
    "ax.set(xlabel=\"-dime\")"
   ]
  },
  {
   "cell_type": "markdown",
   "metadata": {},
   "source": [
    "Here is what b(k-d) looks like for increasing values of k."
   ]
  },
  {
   "cell_type": "code",
   "execution_count": null,
   "metadata": {},
   "outputs": [],
   "source": [
    "f, axes = plt.subplots(10)\n",
    "for k, ax in enumerate(axes):\n",
    "    ax.plot(t[k] - d, b)\n",
    "    ax.set(xlim=(-10 * tau, time_of_impulse + 10 * tau))\n",
    "axes[-1].set(xlabel=\"Time [d]\")\n",
    "axes[0].set(title=\"b(k-d) for k=1 to 10\")\n",
    "plt.setp(axes[:-1], xticklabels=[], yticklabels=[])"
   ]
  },
  {
   "cell_type": "markdown",
   "metadata": {},
   "source": [
    "It is a picture of the function reflected around the ordinate and then\n",
    "offet to the right by k. Can you see this? \n",
    "\n",
    "Now let's generate the convolution, $s2(k)$, step of $k$ by step of $k$.\n",
    "First look at the equation and convince yourself that there is one value of the\n",
    "convolution produced at each offset step. Run the animation in the next\n",
    "loop. You might want to put some pauses in the code. Here's what you\n",
    "should see. In the top panel, $s1(d)$ is shown by a stem function in red. It is\n",
    "just an impulse. The blur function, $b(k-d)$ is shown in blue. It is\n",
    "stepped along as $k$ increases. The middle panel shows the product of $s1(d)$\n",
    "times b(k-d). Notice that there is a value at each value for dummy time.\n",
    "The bottom plot shows the sum of the products. At each time step, $k$, we\n",
    "get just one value. This is the convolution, $s2(k)$. You will notice that\n",
    "the sum is weighted by the width of the time bins. Why is this? What\n",
    "effect does this have on the relationship between $s1$ and $s2$?\n"
   ]
  },
  {
   "cell_type": "code",
   "execution_count": null,
   "metadata": {},
   "outputs": [],
   "source": [
    "f, axes = plt.subplots(3, figsize=(8, 6), sharex=True)\n",
    "\n",
    "# TODO convolution animation"
   ]
  },
  {
   "cell_type": "markdown",
   "metadata": {},
   "source": [
    "### II.2 Convolution and Fourier transforms\n",
    "\n",
    "Fourier transforms make convolution easy. That's because convolution\n",
    "between two functions of time, like $s1(t)$ and $b(t)$, is equivalent to\n",
    "multiplying their fourier transforms. To be more precise, if $S_1(w)$ is the\n",
    "fourier transform of $s_1(t)$ and $B(w)$ is the FT of $b(t)$, then\n",
    "$$S_2(w) = S_1(w) \\times B(w)$$\n",
    "is the FT of $s_2(t)$.\n",
    "\n",
    "This provides a simple recipe for computing convolutions\n",
    "  1. Take the fourier transforms of the two functions you want to convolve.\n",
    "  2. Multiply the FTs (there's a complex number at each frequency!)\n",
    "  3. Take the inverse fourier transform\n",
    "\n",
    "Let's do this with the exponential blurring function and $s_1$. To work with\n",
    "$b$, I need it to be defined on the same time axis as $s_1$. I'll call it\n",
    "`newb`."
   ]
  },
  {
   "cell_type": "code",
   "execution_count": null,
   "metadata": {},
   "outputs": [],
   "source": [
    "# Take the fourier transforms\n",
    "B = fft(b)\n",
    "S1 = fft(s1);\n",
    "\n",
    "# Multiply them at each frequency.\n",
    "S2 = B * S1\n",
    "\n",
    "# Take the inverse fourier transform\n",
    "s2 = ifft(S2)\n",
    "\n",
    "# How does s2 look?\n",
    "f, ax = plt.subplots()\n",
    "ax.plot(t, s2.real)"
   ]
  },
  {
   "cell_type": "markdown",
   "metadata": {},
   "source": [
    "Let's illustrate with a more realistic set of functions."
   ]
  }
 ],
 "metadata": {
  "kernelspec": {
   "display_name": "Python 3",
   "language": "python",
   "name": "python3"
  },
  "language_info": {
   "codemirror_mode": {
    "name": "ipython",
    "version": 3
   },
   "file_extension": ".py",
   "mimetype": "text/x-python",
   "name": "python",
   "nbconvert_exporter": "python",
   "pygments_lexer": "ipython3",
   "version": "3.6.2"
  }
 },
 "nbformat": 4,
 "nbformat_minor": 2
}

{
 "cells": [
  {
   "cell_type": "markdown",
   "metadata": {},
   "source": [
    "# Filtering exercises..."
   ]
  },
  {
   "cell_type": "markdown",
   "metadata": {},
   "source": [
    "## First import data from eeg_data00.npz"
   ]
  },
  {
   "cell_type": "code",
   "execution_count": 1,
   "metadata": {},
   "outputs": [],
   "source": [
    "# first import the modules that you'll need. \n",
    "import numpy as np\n",
    "import scipy.io as sio\n",
    "import matplotlib.pyplot as plt\n",
    "\n",
    "# import our sinc filter implementation function...\n",
    "import my_brick_filt as mbf"
   ]
  },
  {
   "cell_type": "markdown",
   "metadata": {},
   "source": [
    "## Just like in the first FFT tutorial load eeg_data00.npz so that we have an EEG data set to play with\n",
    "* you should find that it has three arrays: data, tx, and sr (with 'data' a #trials x # timepoints array containing the EEG data, the time of each data acquisition in tx, and the sample rate stored as sr).  "
   ]
  },
  {
   "cell_type": "code",
   "execution_count": 2,
   "metadata": {},
   "outputs": [
    {
     "name": "stdout",
     "output_type": "stream",
     "text": [
      "Shape of the big eeg data set:  (960, 876)\n",
      "Sample rate:  250\n"
     ]
    }
   ],
   "source": [
    "# load the data...\n",
    "eeg = np.load('eeg_data00.npz')\n",
    "\n",
    "# get the different arrays like this...kind of like a structure in matlab. \n",
    "eeg['data']\n",
    "eeg['sr']\n",
    "eeg['tx']\n",
    "\n",
    "# and can query the attributes of the data like this...which will tell us that there 960 trials and 876 timepoints per trial sampled\n",
    "# at 250Hz\n",
    "print('Shape of the big eeg data set: ', eeg['data'].shape)\n",
    "print('Sample rate: ', eeg['sr'])\n",
    "\n",
    "# and if you want to save some typing, especially because we only have a few variables, you reassign the different arrays like this\n",
    "data = eeg['data']\n",
    "sr = eeg['sr']\n",
    "tx = eeg['tx']\n",
    "# now you can just write data instead of eeg['data'] (and can for tx and sr as well...)"
   ]
  },
  {
   "cell_type": "markdown",
   "metadata": {},
   "source": [
    "## Extract the data from time 0 until time 2000\n",
    "* hint: you can use boolean indexing by selecting the columns from the 'data' matrix that meet: (tx>=0)  & (tx<2000)\n",
    "* while you're at it, go ahead and grab the timepoints in `tx` corresponding to that interval as well"
   ]
  },
  {
   "cell_type": "code",
   "execution_count": null,
   "metadata": {
    "scrolled": true
   },
   "outputs": [],
   "source": []
  },
  {
   "cell_type": "markdown",
   "metadata": {},
   "source": [
    "## Then FFT each trial and take a look at the average power across frequencies\n",
    "* FFT each trial \n",
    "* Then compute the amplitude on each trial\n",
    "* Then compute the average amplitude across all trials\n",
    "* be mindful of the axis that you are FFTing over...trials down the rows, time across the columns, and we want to FFT over time! "
   ]
  },
  {
   "cell_type": "code",
   "execution_count": null,
   "metadata": {},
   "outputs": [],
   "source": []
  },
  {
   "cell_type": "markdown",
   "metadata": {},
   "source": [
    "## Notice that there are two prominent features in the freq domain representation. Make a lp filter that gets rid of power > 20Hz (you'll know if it worked if you get rid of the spike at 60Hz)\n",
    "* Because our apply_filter function isn't optimized to work on matrices (we could do that, but haven't) you will need to loop and apply filter to each trial\n",
    "* bonus: make the apply_filt function matrisized! pay attention to the dimension of the data you are passing into the fft function - you want to fft across time!"
   ]
  },
  {
   "cell_type": "code",
   "execution_count": null,
   "metadata": {},
   "outputs": [],
   "source": []
  },
  {
   "cell_type": "markdown",
   "metadata": {},
   "source": [
    "## Then FFT it again to see if you got rid of the hf components of the signal"
   ]
  },
  {
   "cell_type": "code",
   "execution_count": null,
   "metadata": {},
   "outputs": [],
   "source": []
  },
  {
   "cell_type": "markdown",
   "metadata": {},
   "source": [
    "## Now design a band pass filter that gets rid of everything outside of the 6-14Hz range (where that big bump is...)\n",
    "* To design a band pass filter, make a lp filter, then make a hp filter\n",
    "* Then combine the two filters (multiply them - element by element - in the frequency domain) \n",
    "* Then call the apply_filt function\n",
    "* Then you should be left with only those frequencies that pass the lp and the hp filters (i.e. a band pass filter)!"
   ]
  },
  {
   "cell_type": "code",
   "execution_count": null,
   "metadata": {},
   "outputs": [],
   "source": []
  },
  {
   "cell_type": "markdown",
   "metadata": {},
   "source": [
    "## Then FFT and look at filtered signal in the time and frequency domains (time domain on one plot, and freq on the other)"
   ]
  },
  {
   "cell_type": "code",
   "execution_count": null,
   "metadata": {
    "scrolled": true
   },
   "outputs": [],
   "source": []
  },
  {
   "cell_type": "markdown",
   "metadata": {},
   "source": [
    "## You can also make a band-stop filter using a similar logic\n",
    "* Instead of multiplying the FFTed lp and the hp filters, you can add them together\n",
    "* Use this to selectively get rid of the 60Hz line noise in the data by generated a band-stop filter over 50-70Hz"
   ]
  },
  {
   "cell_type": "code",
   "execution_count": null,
   "metadata": {
    "scrolled": true
   },
   "outputs": [],
   "source": []
  },
  {
   "cell_type": "markdown",
   "metadata": {},
   "source": [
    "## Then FFT and look at filtered signal in the frequency domain"
   ]
  },
  {
   "cell_type": "code",
   "execution_count": null,
   "metadata": {},
   "outputs": [],
   "source": []
  },
  {
   "cell_type": "markdown",
   "metadata": {},
   "source": [
    "# BONUS: Read the end of the tutorial and figure out to do this all more gracefully using blackman windowed sinc filters and account for temporal shift... "
   ]
  }
 ],
 "metadata": {
  "kernelspec": {
   "display_name": "Python 3 (ipykernel)",
   "language": "python",
   "name": "python3"
  },
  "language_info": {
   "codemirror_mode": {
    "name": "ipython",
    "version": 3
   },
   "file_extension": ".py",
   "mimetype": "text/x-python",
   "name": "python",
   "nbconvert_exporter": "python",
   "pygments_lexer": "ipython3",
   "version": "3.9.7"
  }
 },
 "nbformat": 4,
 "nbformat_minor": 2
}

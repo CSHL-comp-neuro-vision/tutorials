{
 "cells": [
  {
   "cell_type": "markdown",
   "metadata": {},
   "source": [
    "# Coin flipping Bayes tutorial\n",
    "\n",
    "This is a simple example of Bayesian estimation that demonstrates an approach to estimating the probability $p$ that a coin will come up heads after observing a series of flips of the coin.\n",
    "\n",
    "History:\n",
    "\n",
    "- 6/2006:   dhb  Wrote it, starting with some code that Barry Wark and I wrote for something else.\n",
    "- 06/2010: RK revision\n",
    "- 03/2020: MLW Python translation"
   ]
  },
  {
   "cell_type": "markdown",
   "metadata": {},
   "source": [
    "Suppose someone is tossing a coin, and this coin has a probability $p$ of coming up heads on each flip. We don't know $p$. We get a series of observations of whether the coin comes up heads or tails, and we want to use Bayes rule to update our estimate $\\hat p$."
   ]
  },
  {
   "cell_type": "code",
   "execution_count": null,
   "metadata": {},
   "outputs": [],
   "source": [
    "import numpy as np\n",
    "import matplotlib.pyplot as plt\n",
    "from matplotlib import animation\n",
    "from IPython.display import HTML"
   ]
  },
  {
   "cell_type": "code",
   "execution_count": null,
   "metadata": {},
   "outputs": [],
   "source": [
    "p_true = .3"
   ]
  },
  {
   "cell_type": "markdown",
   "metadata": {},
   "source": [
    "First step. Define a prior on $p$. To make things simple, we'll describe our prior on a discrete set of possibilities that $p$ might take on. We'll just start with a prior that is flat over the range $0$–$1$. You can play with different choices by setting this to something else"
   ]
  },
  {
   "cell_type": "code",
   "execution_count": null,
   "metadata": {},
   "outputs": [],
   "source": [
    "n_bins = 100\n",
    "possible_p_values = np.linspace(0, 1, n_bins)\n",
    "prior_p_probs = np.ones(n_bins) / n_bins"
   ]
  },
  {
   "cell_type": "markdown",
   "metadata": {},
   "source": [
    "Compute the prior mean, which we might tiake as out initial estimate of $p$:"
   ]
  },
  {
   "cell_type": "code",
   "execution_count": null,
   "metadata": {},
   "outputs": [],
   "source": [
    "prior_mean = np.sum(prior_p_probs * possible_p_values)\n",
    "prior_mean"
   ]
  },
  {
   "cell_type": "markdown",
   "metadata": {},
   "source": [
    "Now we will estimate $\\hat p$ from data.\n",
    "\n",
    "Each time we loop, we'll observe a random coin toss (driven by the true probability $p$ specified above), compute the posterior using Bayes rule, and take the mean of the posterior to get our current estimate $\\hat p$ of $p$. Then we'll update the prior by substituting in the posterior, and repeat.\n",
    "\n"
   ]
  },
  {
   "cell_type": "code",
   "execution_count": null,
   "metadata": {},
   "outputs": [],
   "source": [
    "n_observations = 100\n",
    "index = np.arange(n_observations)\n",
    "observations = np.full(n_observations, np.nan)\n",
    "posterior_p_probs = np.full(n_observations, np.nan)\n",
    "p_est = np.full(n_observations, np.nan)\n",
    "\n",
    "seed = sum(map(ord, \"bayes tutorial\"))\n",
    "rng = np.random.default_rng(seed)"
   ]
  },
  {
   "cell_type": "markdown",
   "metadata": {},
   "source": [
    "To show how the posterior evolves in real time, we'll define a matplotlib animation. First, we set up the figure that we want to see."
   ]
  },
  {
   "cell_type": "code",
   "execution_count": null,
   "metadata": {},
   "outputs": [],
   "source": [
    "f, axes = plt.subplots(1, 2, figsize=(8, 4))\n",
    "\n",
    "axes[0].set(\n",
    "    xlim=(0, 1),\n",
    "    ylim=(0, .2),\n",
    "    xlabel=\"Possible values of $p$\",\n",
    "    ylabel=\"Probability\",\n",
    ")\n",
    "\n",
    "axes[1].set(\n",
    "    xlim=(0, n_observations),\n",
    "    ylim=(-.05, 1.05),\n",
    "    xlabel=\"Observation\",\n",
    "    ylabel=\"$\\hat p$\",\n",
    ")\n",
    "\n",
    "# Show the true value of p\n",
    "axes[0].axvline(p_true, ls=\"--\", color=\".5\")\n",
    "axes[1].axhline(p_true, ls=\"--\", color=\".5\")\n",
    "\n",
    "# Draw the prior\n",
    "axes[0].plot(possible_p_values, prior_p_probs)\n",
    "\n",
    "# For the remaining plots, keep a reference to the line so we can update it\n",
    "\n",
    "# Draw the posterior\n",
    "posterior_plot, = axes[0].plot(possible_p_values, posterior_p_probs)\n",
    "\n",
    "# Draw the observations\n",
    "observation_plot, = axes[1].plot(index, observations, ls=\"\", marker=\"x\")\n",
    "\n",
    "# Draw the estimate of p\n",
    "p_est_plot, = axes[1].plot(index, p_est)\n",
    "\n",
    "f.tight_layout()"
   ]
  },
  {
   "cell_type": "markdown",
   "metadata": {},
   "source": [
    "Now define a function for updating the posterior on each observation:"
   ]
  },
  {
   "cell_type": "code",
   "execution_count": null,
   "metadata": {},
   "outputs": [],
   "source": [
    "def update(i):\n",
    "\n",
    "    # Observe a \"flip\"\n",
    "    observations[i] = heads = rng.binomial(1, p_true)\n",
    "\n",
    "    # Compute the likelihood of the coin coming up heads\n",
    "    likelihood = possible_p_values if heads else 1 - possible_p_values\n",
    "\n",
    "    # The unnormalized posterior is the prior times the likelihood\n",
    "    posterior_p_probs = prior_p_probs * likelihood\n",
    "\n",
    "    # The normalized posterior should sum to 1\n",
    "    posterior_p_probs /= posterior_p_probs.sum()\n",
    "\n",
    "    # The current estimate is given by the posterior mean\n",
    "    p_est[i] = np.sum(posterior_p_probs * possible_p_values)\n",
    "\n",
    "    # The posterior now becomes the prior for the next iteration\n",
    "    prior_p_probs[:] = posterior_p_probs\n",
    "    \n",
    "    # Now update the plot\n",
    "    posterior_plot.set_ydata(posterior_p_probs)\n",
    "    observation_plot.set_ydata(observations)\n",
    "    p_est_plot.set_ydata(p_est)\n",
    "\n",
    "    return posterior_plot, observation_plot, p_est_plot"
   ]
  },
  {
   "cell_type": "code",
   "execution_count": null,
   "metadata": {},
   "outputs": [],
   "source": [
    "anim = animation.FuncAnimation(f, update, n_observations)\n",
    "HTML(anim.to_html5_video())"
   ]
  },
  {
   "cell_type": "code",
   "execution_count": null,
   "metadata": {},
   "outputs": [],
   "source": []
  }
 ],
 "metadata": {
  "kernelspec": {
   "display_name": "cshl-tutorials (py38)",
   "language": "python",
   "name": "cshl-tutorials"
  },
  "language_info": {
   "codemirror_mode": {
    "name": "ipython",
    "version": 3
   },
   "file_extension": ".py",
   "mimetype": "text/x-python",
   "name": "python",
   "nbconvert_exporter": "python",
   "pygments_lexer": "ipython3",
   "version": "3.8.2"
  }
 },
 "nbformat": 4,
 "nbformat_minor": 4
}

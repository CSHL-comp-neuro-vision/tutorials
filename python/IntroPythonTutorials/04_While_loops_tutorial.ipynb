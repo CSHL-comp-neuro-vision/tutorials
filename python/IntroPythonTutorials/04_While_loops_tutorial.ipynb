{
 "cells": [
  {
   "cell_type": "markdown",
   "metadata": {
    "pycharm": {
     "name": "#%% md\n"
    }
   },
   "source": [
    "# While loops\n",
    "\n",
    "js (jserences@ucsd.edu), June 2022 for CSHL (adapted from CSS1 at UCSD)\n",
    "\n",
    "A **while loop** is a procedure to repeat a piece of code while some condition is still met."
   ]
  },
  {
   "cell_type": "markdown",
   "metadata": {},
   "source": [
    "`while` loops always have the structure:\n",
    "\n",
    "```python\n",
    "while condition:\n",
    "    # Loop contents\n",
    "```\n",
    "\n",
    "While condition is true, execute the code contents.\n",
    "\n",
    "Repeat until condition is no longer True."
   ]
  },
  {
   "cell_type": "markdown",
   "metadata": {},
   "source": [
    "## While Loops"
   ]
  },
  {
   "cell_type": "code",
   "execution_count": 1,
   "metadata": {
    "pycharm": {
     "name": "#%%\n"
    }
   },
   "outputs": [
    {
     "name": "stdout",
     "output_type": "stream",
     "text": [
      "10\n",
      "9\n",
      "8\n",
      "7\n",
      "6\n",
      "5\n",
      "4\n",
      "3\n",
      "2\n",
      "1\n",
      "0\n"
     ]
    }
   ],
   "source": [
    "number = 10\n",
    "\n",
    "while number >= 0:\n",
    "    print(number)\n",
    "    number = number - 1"
   ]
  },
  {
   "cell_type": "markdown",
   "metadata": {
    "pycharm": {
     "name": "#%% md\n"
    }
   },
   "source": [
    "### Infinite loops\n",
    "\n",
    "Remember that it is very easy to introduce a slight bug that causes the while condition to always evaluate to true, and thus the while loop will never stop.  When this happens, you have to stop the python kernel/interpreter, and start over.  For this reason, you should not use while loops unless you have a very good reason to do so.  For-loops are preferable!\n",
    "\n",
    "Examples of while loops that never end:\n",
    "\n",
    "```python\n",
    "number = 10\n",
    "while number >= 0:\n",
    "    print(number)\n",
    "\n",
    "number = number - 1\n",
    "```\n",
    "\n",
    "```python\n",
    "number = 10\n",
    "while number >= 0:\n",
    "    print(number)\n",
    "    number = number + 1\n",
    "```\n",
    "\n",
    "```python\n",
    "number = 0\n",
    "while number <= 0:\n",
    "    print(number)\n",
    "    number = number - 1\n",
    "```\n"
   ]
  }
 ],
 "metadata": {
  "kernelspec": {
   "display_name": "Python 3 (ipykernel)",
   "language": "python",
   "name": "python3"
  },
  "language_info": {
   "codemirror_mode": {
    "name": "ipython",
    "version": 3
   },
   "file_extension": ".py",
   "mimetype": "text/x-python",
   "name": "python",
   "nbconvert_exporter": "python",
   "pygments_lexer": "ipython3",
   "version": "3.9.7"
  }
 },
 "nbformat": 4,
 "nbformat_minor": 1
}

{
 "cells": [
  {
   "cell_type": "markdown",
   "id": "western-flush",
   "metadata": {},
   "source": [
    "# Plotting with Matplotlib\n",
    "\n",
    "js (jserences@ucsd.edu), June 2022 for CSHL (parts adapted from CSS1 at UCSD)\n",
    "\n",
    "**Note**: should probably do pandas tutorial first if you're not familiar with DataFrames.\n",
    "\n",
    "**Other Note**: after you are comfortable with Matplotlib, you should check out seaborn - it is a package built on top of matplotlib that offers great visualizations\n",
    "\n",
    "[seaborn](https://seaborn.pydata.org/)\n",
    "\n",
    "## Graphs and visualization\n",
    "\n",
    "There are many skills associated with making graphs and visualizations:\n",
    "\n",
    "0. figuring out *what* to plot to answer a question.\n",
    "\n",
    "1. transforming data to expose the variables you want to plot\n",
    "\n",
    "2. choosing the right kind of plot for the data / question.\n",
    "\n",
    "3. instructing a computer to make the plot you want.\n",
    "\n",
    "4. making the plot interpretable, and appealing\n",
    "\n",
    "## Choosing plots\n",
    "\n",
    "What are you looking for, or trying to show?\n",
    "\n",
    "- the distribution of one variable.  -> histogram\n",
    "\n",
    "- the distribution of two variables: how two variables relate to one another  -> scatter\n",
    "\n",
    "- how one variable changes as a function of a categorical other variable -> barplot\n",
    "\n",
    "- how one variable changes as a function of another numerical variable -> line plot\n",
    "\n",
    "\n",
    "## data\n",
    "\n",
    "* Gapminder: dataset describing factors like life expectancy, GDP, Region, etc.\n",
    "* [link](https://github.com/syntagmatic/gapminder-csv)\n",
    "\n",
    "Standard plots:\n",
    "\n",
    "- histogram -> (density plot)  `hist`\n",
    "\n",
    "- scatter -> (bubble)  `scatter`\n",
    "\n",
    "- line chart -> (+ error bars)  `plot`\n",
    "\n",
    "- bar chart -> (+ error bars) `bar`\n",
    "\n",
    "- labeling axes.  `xlabel` and `ylabel`"
   ]
  },
  {
   "cell_type": "markdown",
   "id": "flying-rough",
   "metadata": {},
   "source": [
    "## Our data\n",
    "\n",
    "[gapminder](https://www.gapminder.org/tools/#$chart-type=bubbles&url=v1)"
   ]
  },
  {
   "cell_type": "code",
   "execution_count": 1,
   "id": "altered-excellence",
   "metadata": {},
   "outputs": [],
   "source": [
    "import pandas as pd\n",
    "import matplotlib.pyplot as plt\n",
    "\n",
    "# this will set up plotting font, font size, \n",
    "# linewidth, etc (more options available as well)\n",
    "font = {'family' : 'Arial',\n",
    "        'weight' : 'normal',\n",
    "        'size'   : '16'}\n",
    "\n",
    "plt.rc('font', **font)  # pass in the font dict as kwargs\n",
    "plt.rc('lines', linewidth = 2)"
   ]
  },
  {
   "cell_type": "code",
   "execution_count": 2,
   "id": "1d388c26",
   "metadata": {},
   "outputs": [
    {
     "data": {
      "text/html": [
       "<div>\n",
       "<style scoped>\n",
       "    .dataframe tbody tr th:only-of-type {\n",
       "        vertical-align: middle;\n",
       "    }\n",
       "\n",
       "    .dataframe tbody tr th {\n",
       "        vertical-align: top;\n",
       "    }\n",
       "\n",
       "    .dataframe thead th {\n",
       "        text-align: right;\n",
       "    }\n",
       "</style>\n",
       "<table border=\"1\" class=\"dataframe\">\n",
       "  <thead>\n",
       "    <tr style=\"text-align: right;\">\n",
       "      <th></th>\n",
       "      <th>Unnamed: 0</th>\n",
       "      <th>country</th>\n",
       "      <th>continent</th>\n",
       "      <th>year</th>\n",
       "      <th>lifeExp</th>\n",
       "      <th>pop</th>\n",
       "      <th>gdpPercap</th>\n",
       "    </tr>\n",
       "  </thead>\n",
       "  <tbody>\n",
       "    <tr>\n",
       "      <th>0</th>\n",
       "      <td>1</td>\n",
       "      <td>Afghanistan</td>\n",
       "      <td>Asia</td>\n",
       "      <td>1952</td>\n",
       "      <td>28.801</td>\n",
       "      <td>8425333</td>\n",
       "      <td>779.445314</td>\n",
       "    </tr>\n",
       "    <tr>\n",
       "      <th>1</th>\n",
       "      <td>2</td>\n",
       "      <td>Afghanistan</td>\n",
       "      <td>Asia</td>\n",
       "      <td>1957</td>\n",
       "      <td>30.332</td>\n",
       "      <td>9240934</td>\n",
       "      <td>820.853030</td>\n",
       "    </tr>\n",
       "    <tr>\n",
       "      <th>2</th>\n",
       "      <td>3</td>\n",
       "      <td>Afghanistan</td>\n",
       "      <td>Asia</td>\n",
       "      <td>1962</td>\n",
       "      <td>31.997</td>\n",
       "      <td>10267083</td>\n",
       "      <td>853.100710</td>\n",
       "    </tr>\n",
       "    <tr>\n",
       "      <th>3</th>\n",
       "      <td>4</td>\n",
       "      <td>Afghanistan</td>\n",
       "      <td>Asia</td>\n",
       "      <td>1967</td>\n",
       "      <td>34.020</td>\n",
       "      <td>11537966</td>\n",
       "      <td>836.197138</td>\n",
       "    </tr>\n",
       "    <tr>\n",
       "      <th>4</th>\n",
       "      <td>5</td>\n",
       "      <td>Afghanistan</td>\n",
       "      <td>Asia</td>\n",
       "      <td>1972</td>\n",
       "      <td>36.088</td>\n",
       "      <td>13079460</td>\n",
       "      <td>739.981106</td>\n",
       "    </tr>\n",
       "  </tbody>\n",
       "</table>\n",
       "</div>"
      ],
      "text/plain": [
       "   Unnamed: 0      country continent  year  lifeExp       pop   gdpPercap\n",
       "0           1  Afghanistan      Asia  1952   28.801   8425333  779.445314\n",
       "1           2  Afghanistan      Asia  1957   30.332   9240934  820.853030\n",
       "2           3  Afghanistan      Asia  1962   31.997  10267083  853.100710\n",
       "3           4  Afghanistan      Asia  1967   34.020  11537966  836.197138\n",
       "4           5  Afghanistan      Asia  1972   36.088  13079460  739.981106"
      ]
     },
     "execution_count": 2,
     "metadata": {},
     "output_type": "execute_result"
    }
   ],
   "source": [
    "gm = pd.read_csv('gapminder.csv')\n",
    "gm.head()"
   ]
  },
  {
   "cell_type": "code",
   "execution_count": 3,
   "id": "perceived-receptor",
   "metadata": {},
   "outputs": [
    {
     "data": {
      "text/html": [
       "<div>\n",
       "<style scoped>\n",
       "    .dataframe tbody tr th:only-of-type {\n",
       "        vertical-align: middle;\n",
       "    }\n",
       "\n",
       "    .dataframe tbody tr th {\n",
       "        vertical-align: top;\n",
       "    }\n",
       "\n",
       "    .dataframe thead th {\n",
       "        text-align: right;\n",
       "    }\n",
       "</style>\n",
       "<table border=\"1\" class=\"dataframe\">\n",
       "  <thead>\n",
       "    <tr style=\"text-align: right;\">\n",
       "      <th></th>\n",
       "      <th>country</th>\n",
       "      <th>continent</th>\n",
       "      <th>year</th>\n",
       "      <th>lifeExp</th>\n",
       "      <th>pop</th>\n",
       "      <th>gdpPercap</th>\n",
       "    </tr>\n",
       "  </thead>\n",
       "  <tbody>\n",
       "    <tr>\n",
       "      <th>0</th>\n",
       "      <td>Afghanistan</td>\n",
       "      <td>Asia</td>\n",
       "      <td>1952</td>\n",
       "      <td>28.801</td>\n",
       "      <td>8425333</td>\n",
       "      <td>779.445314</td>\n",
       "    </tr>\n",
       "    <tr>\n",
       "      <th>1</th>\n",
       "      <td>Afghanistan</td>\n",
       "      <td>Asia</td>\n",
       "      <td>1957</td>\n",
       "      <td>30.332</td>\n",
       "      <td>9240934</td>\n",
       "      <td>820.853030</td>\n",
       "    </tr>\n",
       "    <tr>\n",
       "      <th>2</th>\n",
       "      <td>Afghanistan</td>\n",
       "      <td>Asia</td>\n",
       "      <td>1962</td>\n",
       "      <td>31.997</td>\n",
       "      <td>10267083</td>\n",
       "      <td>853.100710</td>\n",
       "    </tr>\n",
       "    <tr>\n",
       "      <th>3</th>\n",
       "      <td>Afghanistan</td>\n",
       "      <td>Asia</td>\n",
       "      <td>1967</td>\n",
       "      <td>34.020</td>\n",
       "      <td>11537966</td>\n",
       "      <td>836.197138</td>\n",
       "    </tr>\n",
       "    <tr>\n",
       "      <th>4</th>\n",
       "      <td>Afghanistan</td>\n",
       "      <td>Asia</td>\n",
       "      <td>1972</td>\n",
       "      <td>36.088</td>\n",
       "      <td>13079460</td>\n",
       "      <td>739.981106</td>\n",
       "    </tr>\n",
       "  </tbody>\n",
       "</table>\n",
       "</div>"
      ],
      "text/plain": [
       "       country continent  year  lifeExp       pop   gdpPercap\n",
       "0  Afghanistan      Asia  1952   28.801   8425333  779.445314\n",
       "1  Afghanistan      Asia  1957   30.332   9240934  820.853030\n",
       "2  Afghanistan      Asia  1962   31.997  10267083  853.100710\n",
       "3  Afghanistan      Asia  1967   34.020  11537966  836.197138\n",
       "4  Afghanistan      Asia  1972   36.088  13079460  739.981106"
      ]
     },
     "execution_count": 3,
     "metadata": {},
     "output_type": "execute_result"
    }
   ],
   "source": [
    "# drop 'Unnamed: 0'\n",
    "gm = pd.read_csv('gapminder.csv').drop(columns = 'Unnamed: 0')\n",
    "gm.head()"
   ]
  },
  {
   "cell_type": "markdown",
   "id": "029ecabb",
   "metadata": {},
   "source": [
    "## Plot population for each continent for a specific year (2007)"
   ]
  },
  {
   "cell_type": "code",
   "execution_count": 4,
   "id": "02035778",
   "metadata": {},
   "outputs": [
    {
     "name": "stdout",
     "output_type": "stream",
     "text": [
      "['Asia' 'Europe' 'Africa' 'Americas' 'Oceania']\n"
     ]
    }
   ],
   "source": [
    "# grab the names of the continents\n",
    "c_names = gm['continent'].unique()\n",
    "print(c_names)"
   ]
  },
  {
   "cell_type": "code",
   "execution_count": 5,
   "id": "6c1e9982",
   "metadata": {},
   "outputs": [
    {
     "data": {
      "text/plain": [
       "[115513752.33333333,\n",
       " 19536617.633333333,\n",
       " 17875763.307692308,\n",
       " 35954847.36,\n",
       " 12274973.5]"
      ]
     },
     "execution_count": 5,
     "metadata": {},
     "output_type": "execute_result"
    }
   ],
   "source": [
    "continents = []\n",
    "for c in c_names:\n",
    "    m = gm[(gm['year'] == 2007) & (gm['continent'] == c)]['pop'].mean()\n",
    "    continents.append(m)\n",
    "    \n",
    "continents"
   ]
  },
  {
   "cell_type": "code",
   "execution_count": 6,
   "id": "suburban-manitoba",
   "metadata": {},
   "outputs": [
    {
     "data": {
      "image/png": "[encoded data removed]",
      "text/plain": [
       "<Figure size 432x288 with 1 Axes>"
      ]
     },
     "metadata": {
      "needs_background": "light"
     },
     "output_type": "display_data"
    }
   ],
   "source": [
    "# plot! x-values (continent names), y-values (mean pop)\n",
    "plt.bar(c_names, continents)\n",
    "plt.show()"
   ]
  },
  {
   "cell_type": "markdown",
   "id": "a0f9d1dd",
   "metadata": {},
   "source": [
    "### Horizontal bar plots..."
   ]
  },
  {
   "cell_type": "code",
   "execution_count": 7,
   "id": "previous-report",
   "metadata": {},
   "outputs": [
    {
     "data": {
      "image/png": "[encoded data removed]",
      "text/plain": [
       "<Figure size 432x288 with 1 Axes>"
      ]
     },
     "metadata": {
      "needs_background": "light"
     },
     "output_type": "display_data"
    }
   ],
   "source": [
    "plt.barh(c_names, continents)\n",
    "plt.show()"
   ]
  },
  {
   "cell_type": "markdown",
   "id": "hungry-bibliography",
   "metadata": {},
   "source": [
    "### Bar chart\n",
    "\n",
    "How does life expectancy differ by continent?\n",
    "\n",
    "{numerical variable} ~ {categorical}  -> bar plot \n",
    "\n",
    "category on the x axis, number on the y axis, and we get 1 number per category.\n",
    "\n",
    "Mean life expectancy, in 2007, by continent\n",
    "\n",
    "* Introduce color, edgecolor, fontsize"
   ]
  },
  {
   "cell_type": "code",
   "execution_count": 8,
   "id": "4c93987c",
   "metadata": {},
   "outputs": [
    {
     "data": {
      "text/plain": [
       "[70.72848484848484, 77.64859999999999, 54.80603846153845, 73.60812, 80.7195]"
      ]
     },
     "execution_count": 8,
     "metadata": {},
     "output_type": "execute_result"
    }
   ],
   "source": [
    "age = []\n",
    "for c in c_names:\n",
    "    m = gm[(gm['year'] == 2007) & (gm['continent'] == c)]['lifeExp'].mean()\n",
    "    age.append(m)\n",
    "    \n",
    "age"
   ]
  },
  {
   "cell_type": "code",
   "execution_count": 9,
   "id": "fitted-compatibility",
   "metadata": {},
   "outputs": [
    {
     "data": {
      "image/png": "[encoded data removed]",
      "text/plain": [
       "<Figure size 432x288 with 1 Axes>"
      ]
     },
     "metadata": {
      "needs_background": "light"
     },
     "output_type": "display_data"
    }
   ],
   "source": [
    "# make a bar plot\n",
    "plt.bar(c_names, age,\n",
    "           color = 'gold',\n",
    "           edgecolor = 'navy')\n",
    "\n",
    "# label stuff!\n",
    "plt.xlabel('continent')\n",
    "plt.ylabel('Mean Life Exp.')\n",
    "# plt.xlabel('continent', fontsize = 24)\n",
    "# plt.ylabel('Mean Life Exp.', fontsize = 24)\n",
    "plt.xticks(rotation = 45)\n",
    "plt.show()\n",
    "\n",
    "# plt.rc - go over now..."
   ]
  },
  {
   "cell_type": "code",
   "execution_count": 10,
   "id": "3f1c0092",
   "metadata": {},
   "outputs": [],
   "source": [
    "#plt.bar?"
   ]
  },
  {
   "cell_type": "markdown",
   "id": "corrected-wyoming",
   "metadata": {},
   "source": [
    "## Conventions\n",
    "\n",
    "> Learn the rules like a pro, so you can break them like an artist. \n",
    "> \n",
    "> -- *Pablo Picasso*"
   ]
  },
  {
   "cell_type": "markdown",
   "id": "taken-momentum",
   "metadata": {},
   "source": [
    "### Histogram\n",
    "\n",
    "Show the *distribution* of a single variable, which values are more or less common?"
   ]
  },
  {
   "cell_type": "code",
   "execution_count": 11,
   "id": "smoking-remark",
   "metadata": {},
   "outputs": [
    {
     "data": {
      "image/png": "[encoded data removed]",
      "text/plain": [
       "<Figure size 432x288 with 1 Axes>"
      ]
     },
     "metadata": {
      "needs_background": "light"
     },
     "output_type": "display_data"
    }
   ],
   "source": [
    "plt.hist(gm['lifeExp'])\n",
    "plt.xlabel('life Exp.')\n",
    "plt.ylabel('Frequency')\n",
    "plt.show()"
   ]
  },
  {
   "cell_type": "markdown",
   "id": "e96b9015",
   "metadata": {},
   "source": [
    "### Make our hist look a little nicer...change number of bins, color, alpha (transparency), legend, etc. "
   ]
  },
  {
   "cell_type": "code",
   "execution_count": 12,
   "id": "binding-liberia",
   "metadata": {},
   "outputs": [
    {
     "data": {
      "image/png": "[encoded data removed]",
      "text/plain": [
       "<Figure size 432x288 with 1 Axes>"
      ]
     },
     "metadata": {
      "needs_background": "light"
     },
     "output_type": "display_data"
    }
   ],
   "source": [
    "plt.hist(gm[ gm['continent'] == 'Asia' ]['lifeExp'], \n",
    "             bins=20, \n",
    "             color='green', alpha = .35)\n",
    "\n",
    "# what happens if you put plt.show() here???\n",
    "# plt.show()\n",
    "\n",
    "plt.hist(gm[ gm['continent'] == 'Europe' ]['lifeExp'], \n",
    "             bins=20, \n",
    "             color='red', alpha = .35)\n",
    "\n",
    "# or can specify a range of bin edges\n",
    "# plt.hist(gm['lifeExp'], \n",
    "#              bins=range(20, 90, 5), \n",
    "#              color='navy')\n",
    "\n",
    "plt.xlabel('life expectancy (years)')\n",
    "plt.ylabel('Count')\n",
    "plt.title('Life expectancy distribution')\n",
    "plt.legend(['Asia', 'Europe'])\n",
    "\n",
    "plt.show()"
   ]
  },
  {
   "cell_type": "markdown",
   "id": "acknowledged-pastor",
   "metadata": {},
   "source": [
    "## Line plot\n",
    "\n",
    "* How has average life expectancy changed from 1952 to 2007?\n",
    "\n",
    "* x = number, y = number, use line plot...\n",
    "\n",
    "* Mean life expectancy, by year."
   ]
  },
  {
   "cell_type": "code",
   "execution_count": 13,
   "id": "apart-meditation",
   "metadata": {},
   "outputs": [
    {
     "data": {
      "text/html": [
       "<div>\n",
       "<style scoped>\n",
       "    .dataframe tbody tr th:only-of-type {\n",
       "        vertical-align: middle;\n",
       "    }\n",
       "\n",
       "    .dataframe tbody tr th {\n",
       "        vertical-align: top;\n",
       "    }\n",
       "\n",
       "    .dataframe thead th {\n",
       "        text-align: right;\n",
       "    }\n",
       "</style>\n",
       "<table border=\"1\" class=\"dataframe\">\n",
       "  <thead>\n",
       "    <tr style=\"text-align: right;\">\n",
       "      <th></th>\n",
       "      <th>year</th>\n",
       "      <th>life_expectancy</th>\n",
       "    </tr>\n",
       "  </thead>\n",
       "  <tbody>\n",
       "    <tr>\n",
       "      <th>0</th>\n",
       "      <td>1952</td>\n",
       "      <td>49.057620</td>\n",
       "    </tr>\n",
       "    <tr>\n",
       "      <th>1</th>\n",
       "      <td>1957</td>\n",
       "      <td>51.507401</td>\n",
       "    </tr>\n",
       "    <tr>\n",
       "      <th>2</th>\n",
       "      <td>1962</td>\n",
       "      <td>53.609249</td>\n",
       "    </tr>\n",
       "    <tr>\n",
       "      <th>3</th>\n",
       "      <td>1967</td>\n",
       "      <td>55.678290</td>\n",
       "    </tr>\n",
       "    <tr>\n",
       "      <th>4</th>\n",
       "      <td>1972</td>\n",
       "      <td>57.647386</td>\n",
       "    </tr>\n",
       "    <tr>\n",
       "      <th>5</th>\n",
       "      <td>1977</td>\n",
       "      <td>59.570157</td>\n",
       "    </tr>\n",
       "    <tr>\n",
       "      <th>6</th>\n",
       "      <td>1982</td>\n",
       "      <td>61.533197</td>\n",
       "    </tr>\n",
       "    <tr>\n",
       "      <th>7</th>\n",
       "      <td>1987</td>\n",
       "      <td>63.212613</td>\n",
       "    </tr>\n",
       "    <tr>\n",
       "      <th>8</th>\n",
       "      <td>1992</td>\n",
       "      <td>64.160338</td>\n",
       "    </tr>\n",
       "    <tr>\n",
       "      <th>9</th>\n",
       "      <td>1997</td>\n",
       "      <td>65.014676</td>\n",
       "    </tr>\n",
       "    <tr>\n",
       "      <th>10</th>\n",
       "      <td>2002</td>\n",
       "      <td>65.694923</td>\n",
       "    </tr>\n",
       "    <tr>\n",
       "      <th>11</th>\n",
       "      <td>2007</td>\n",
       "      <td>67.007423</td>\n",
       "    </tr>\n",
       "  </tbody>\n",
       "</table>\n",
       "</div>"
      ],
      "text/plain": [
       "    year  life_expectancy\n",
       "0   1952        49.057620\n",
       "1   1957        51.507401\n",
       "2   1962        53.609249\n",
       "3   1967        55.678290\n",
       "4   1972        57.647386\n",
       "5   1977        59.570157\n",
       "6   1982        61.533197\n",
       "7   1987        63.212613\n",
       "8   1992        64.160338\n",
       "9   1997        65.014676\n",
       "10  2002        65.694923\n",
       "11  2007        67.007423"
      ]
     },
     "execution_count": 13,
     "metadata": {},
     "output_type": "execute_result"
    }
   ],
   "source": [
    "## group by year\n",
    "## calculate mean life expectancy per group\n",
    "\n",
    "year_summary = (gm\n",
    "    .groupby('year')                            # group based on common year labels\n",
    "    .agg(life_expectancy = ('lifeExp', 'mean')) # aggregate lifeExp, compute mean, assign to new column 'life_expectancy'\n",
    "    .reset_index())  # reset index to default...\n",
    "\n",
    "# have a look...\n",
    "year_summary"
   ]
  },
  {
   "cell_type": "code",
   "execution_count": 14,
   "id": "5c5719c5",
   "metadata": {},
   "outputs": [
    {
     "data": {
      "image/png": "[encoded data removed]",
      "text/plain": [
       "<Figure size 432x288 with 1 Axes>"
      ]
     },
     "metadata": {
      "needs_background": "light"
     },
     "output_type": "display_data"
    }
   ],
   "source": [
    "## make a line plot\n",
    "plt.plot(year_summary['year'], \n",
    "             year_summary['life_expectancy'],\n",
    "            'bo-',            # blue, circle markers, solid line...\n",
    "            markersize = 5,   # size of circle markers...\n",
    "            linewidth = 1)\n",
    "\n",
    "## label stuff!\n",
    "plt.xlabel('year')\n",
    "plt.ylabel('mean life expectancy (years)')\n",
    "\n",
    "plt.show()"
   ]
  },
  {
   "cell_type": "markdown",
   "id": "expensive-carter",
   "metadata": {},
   "source": [
    "## Scatter plot\n",
    "\n",
    "How does the *distribution* of life expectancies across African countries vary by year?\n",
    "\n",
    "distribution of two number -> scatterplot"
   ]
  },
  {
   "cell_type": "code",
   "execution_count": 15,
   "id": "remarkable-detection",
   "metadata": {},
   "outputs": [
    {
     "data": {
      "image/png": "[encoded data removed]",
      "text/plain": [
       "<Figure size 432x288 with 1 Axes>"
      ]
     },
     "metadata": {
      "needs_background": "light"
     },
     "output_type": "display_data"
    }
   ],
   "source": [
    "import numpy as np\n",
    "\n",
    "# filter out African countries\n",
    "americas = gm[ gm['continent'] == 'Americas' ]\n",
    "\n",
    "# plot scatter plot of lifeExp ~ year\n",
    "# alpha < 1 and add some jitter on x so more dots visible\n",
    "plt.scatter(americas['year'] + np.random.random(len(americas))*2-1, \n",
    "            americas['lifeExp'],\n",
    "            alpha=0.4,\n",
    "            s=20)\n",
    "\n",
    "plt.xlabel('year')\n",
    "plt.ylabel('life expectancy')\n",
    "plt.title('Life Expectancy for Americas')\n",
    "\n",
    "plt.show()"
   ]
  },
  {
   "cell_type": "markdown",
   "id": "specific-article",
   "metadata": {},
   "source": [
    "## Varying color and size"
   ]
  },
  {
   "cell_type": "code",
   "execution_count": 16,
   "id": "stretch-grace",
   "metadata": {},
   "outputs": [
    {
     "data": {
      "image/png": "[encoded data removed]",
      "text/plain": [
       "<Figure size 432x288 with 1 Axes>"
      ]
     },
     "metadata": {
      "needs_background": "light"
     },
     "output_type": "display_data"
    }
   ],
   "source": [
    "year_2007 = gm[ gm['year']==2007 ]\n",
    "plt.scatter(year_2007['gdpPercap'], year_2007['lifeExp'], alpha=0.4)\n",
    "plt.xscale('log')\n",
    "plt.xlabel('gdp per capita (log scale)')\n",
    "plt.ylabel('life expectancy')\n",
    "\n",
    "plt.show()"
   ]
  },
  {
   "cell_type": "markdown",
   "id": "73541d78",
   "metadata": {},
   "source": [
    "### Same thing, but color code by continent and size by population"
   ]
  },
  {
   "cell_type": "code",
   "execution_count": 17,
   "id": "international-edition",
   "metadata": {},
   "outputs": [
    {
     "data": {
      "image/png": "[encoded data removed]",
      "text/plain": [
       "<Figure size 432x288 with 1 Axes>"
      ]
     },
     "metadata": {
      "needs_background": "light"
     },
     "output_type": "display_data"
    }
   ],
   "source": [
    "year_2007 = gm[ gm['year']==2007 ]\n",
    "\n",
    "colors = {'Asia': 'red',\n",
    "          'Europe' : 'gold',\n",
    "           'Americas' : 'chartreuse',\n",
    "           'Africa' : 'teal',\n",
    "            'Oceania' : 'navy'}\n",
    "\n",
    "plt.scatter(year_2007['gdpPercap'], \n",
    "                year_2007['lifeExp'],\n",
    "                s = year_2007['pop']/1e6,\n",
    "                c = year_2007['continent'].map(colors),\n",
    "                alpha = 0.4)\n",
    "\n",
    "plt.xscale('log')\n",
    "plt.xlabel('gdp per capita')\n",
    "plt.ylabel('life expectancy')\n",
    "plt.show()\n",
    "\n",
    "# color code by continent\n",
    "# sale size by population"
   ]
  },
  {
   "cell_type": "markdown",
   "id": "8ebfb5c8",
   "metadata": {},
   "source": [
    "## Errorbar example\n",
    "* Errorbar plots allow you to show the variability associated with measurements, not just their mean value"
   ]
  },
  {
   "cell_type": "code",
   "execution_count": 18,
   "id": "38d80c13",
   "metadata": {},
   "outputs": [],
   "source": [
    "## group by year\n",
    "## calculate mean life expectancy per group\n",
    "\n",
    "year_mean = (gm\n",
    "    .groupby('year')                            # group based on common year labels\n",
    "    .agg(life_expectancy = ('lifeExp', 'mean')) # aggregate lifeExp, compute mean, assign to new column 'life_expectancy'\n",
    "    .reset_index())  # reset index to default...\n",
    "\n",
    "year_std = (gm\n",
    "    .groupby('year')                            # group based on common year labels\n",
    "    .agg(life_expectancy = ('lifeExp', 'std')) # aggregate lifeExp, compute mean, assign to new column 'life_expectancy'\n",
    "    .reset_index())  # reset index to default..."
   ]
  },
  {
   "cell_type": "code",
   "execution_count": 19,
   "id": "f09b0e1d",
   "metadata": {},
   "outputs": [
    {
     "data": {
      "image/png": "[encoded data removed]",
      "text/plain": [
       "<Figure size 432x288 with 1 Axes>"
      ]
     },
     "metadata": {
      "needs_background": "light"
     },
     "output_type": "display_data"
    }
   ],
   "source": [
    "# make the error bar plot showing mean +- standard deviation\n",
    "plt.errorbar(year_mean['year'], \n",
    "             year_mean['life_expectancy'], \n",
    "             yerr=year_std['life_expectancy'], c='black')\n",
    "\n",
    "plt.xlabel('Year')\n",
    "plt.ylabel('Life Expectency')\n",
    "\n",
    "plt.show()"
   ]
  },
  {
   "cell_type": "markdown",
   "id": "affected-great",
   "metadata": {},
   "source": [
    "### Conventions\n",
    "\n",
    "**Distribution of Number** -> histogram, with number on x, counts on y\n",
    "\n",
    "**Distribution of Category** -> histogram, with category on x, counts on y\n",
    "\n",
    "**Number as a function of Category** -> bar chart, category on x, mean number on y\n",
    "\n",
    "**Number as a function of Number** -> scatter plot (y~x) or line plot (mean(y) ~ x)\n",
    "\n",
    "**Number as a function of Number + Category** -> scatter plot or line plot with color varying by category.\n",
    "\n",
    "**Number as a function of Number + Number** -> if it doesnt matter much: bubble chart.  If it matters a lot, considering binning into categories.\n",
    "\n"
   ]
  }
 ],
 "metadata": {
  "kernelspec": {
   "display_name": "Python 3 (ipykernel)",
   "language": "python",
   "name": "python3"
  },
  "language_info": {
   "codemirror_mode": {
    "name": "ipython",
    "version": 3
   },
   "file_extension": ".py",
   "mimetype": "text/x-python",
   "name": "python",
   "nbconvert_exporter": "python",
   "pygments_lexer": "ipython3",
   "version": "3.9.7"
  }
 },
 "nbformat": 4,
 "nbformat_minor": 5
}

{
 "cells": [
  {
   "cell_type": "markdown",
   "metadata": {},
   "source": [
    "# Jupyter Notebooks\n",
    "\n",
    "js (jserences@ucsd.edu), June 2022 for CSHL (adapted from CSS1 at UCSD)\n",
    "\n",
    "This is a jupyter notebook.  A notebook is file that combines explanatory text (written in markdown), computer code, and the output of the computer code.  \n",
    "\n",
    "A notebook is comprised of \"cells\".  A given cell can contain different types of things.  We will concern ourselves with cells that contain either markdown (like this cell), or python code.  "
   ]
  },
  {
   "cell_type": "markdown",
   "metadata": {},
   "source": [
    "## Markdown Cells\n",
    "\n",
    "Markdown is a way of specifying text formatting in plain text. Double click in this cell and you'll see the markdown that tells jupyter how to format the text you're reading...then hit `command/control + enter` to execute the cell and to render the text. \n",
    "\n",
    "For example, this cell starts with the text `### Markdown` which tells the computer that it should display a level 2 heading with the text \"Markdown\".  The cell above starts with the text `# Jupyter Notebooks` which specifies a level 1 heading, which you can see is rendered in larger text.\n",
    "\n",
    "Some other common markdown formatting syntax:   \n",
    "\n",
    "### paragraphs and linebreaks\n",
    "\n",
    "Markdown ignores single line breaks. For instance, the following markdown is rendered on one line:\n",
    "\n",
    "```markdown\n",
    "The text here\n",
    "is \n",
    "formatted\n",
    "like so.\n",
    "```\n",
    "\n",
    "The text here\n",
    "is \n",
    "formatted\n",
    "like so.\n",
    "\n",
    "To create linebreaks you can either add two linebreaks between each line, like so:\n",
    "\n",
    "\n",
    "```\n",
    "The text here\n",
    "\n",
    "is \n",
    "formatted\n",
    "like so.\n",
    "```\n",
    "\n",
    "The text here\n",
    "\n",
    "is \n",
    "formatted\n",
    "like so.\n",
    "\n",
    "\n",
    "Or you could add two spaces to the end of each line:\n",
    "\n",
    "```\n",
    "The text here  \n",
    "is   \n",
    "formatted   \n",
    "like so.  \n",
    "```\n",
    "\n",
    "The text here  \n",
    "is   \n",
    "formatted   \n",
    "like so.  \n",
    "\n",
    "\n",
    "\n",
    "### text formatting\n",
    "\n",
    "`*text*` yields italics: *text*   \n",
    "`**text**` yields bold: **text**   \n",
    "``` `text` ``` yields a code formatting: `text`\n",
    "\n",
    "\n",
    "### links\n",
    "\n",
    "`[text](URL)` yields a link.  For instance `[pydocs](https://docs.python.org/3/)` yields a link to python docs: [pydocs](https://docs.python.org/3/)\n",
    "\n",
    "### lists\n",
    "\n",
    "```\n",
    "- item 1  \n",
    "- item 2\n",
    "```\n",
    "yields a bulleted list:\n",
    "- item 1   \n",
    "- item 2\n",
    "\n",
    "\n",
    "```\n",
    "* item 1  \n",
    "* item 2\n",
    "```\n",
    "also yields a bulleted list:\n",
    "* item 1   \n",
    "* item 2\n",
    "\n",
    "\n",
    "```\n",
    "1. item 1  \n",
    "2. item 2\n",
    "```\n",
    "yields an automatically numbered list:\n",
    "\n",
    "1. item 1  \n",
    "1. item 2\n",
    "\n",
    "And you can embed images in markdown cells, like this:\n",
    "\n",
    "![Visual angle](ch890730.gif)"
   ]
  },
  {
   "cell_type": "markdown",
   "metadata": {},
   "source": [
    "### Code cells\n",
    "\n",
    "The virtue of jupyter notebooks is that you can mix explanatory text with computer code, and the results of running that code. Python code will run in special kinds of cells called code cells.\n",
    "\n",
    "A given code cell has some content, which is sent to a Python interpreter.  Upon executing that code, the cell prints some output.  The output may be more or less complicated.  Without any particular instructions about what to output, the code cell will output whatever the last line \"returns\""
   ]
  },
  {
   "cell_type": "code",
   "execution_count": 1,
   "metadata": {
    "pycharm": {
     "name": "#%%\n"
    }
   },
   "outputs": [
    {
     "data": {
      "text/plain": [
       "34"
      ]
     },
     "execution_count": 1,
     "metadata": {},
     "output_type": "execute_result"
    }
   ],
   "source": [
    "34"
   ]
  },
  {
   "cell_type": "markdown",
   "metadata": {},
   "source": [
    "#### Magics \n",
    "\n",
    "While you'll spend most of your time writing Python code that goes inside code cells, it is worth noting that code cells can also contain special commands called \"line magics\" or \"cell magics\" which do something, but are not part of the python language itself.  These commands occur on lines starting with `%` or `%%`.  We will cover them as needed, but for now, here is an example:   \n",
    "\n",
    "`%lsmagic` will list all the line and cell magics that are available."
   ]
  },
  {
   "cell_type": "code",
   "execution_count": 2,
   "metadata": {
    "pycharm": {
     "name": "#%%\n"
    }
   },
   "outputs": [
    {
     "data": {
      "application/json": {
       "cell": {
        "!": "OSMagics",
        "HTML": "Other",
        "SVG": "Other",
        "bash": "Other",
        "capture": "ExecutionMagics",
        "debug": "ExecutionMagics",
        "file": "Other",
        "html": "DisplayMagics",
        "javascript": "DisplayMagics",
        "js": "DisplayMagics",
        "latex": "DisplayMagics",
        "markdown": "DisplayMagics",
        "perl": "Other",
        "prun": "ExecutionMagics",
        "pypy": "Other",
        "python": "Other",
        "python2": "Other",
        "python3": "Other",
        "ruby": "Other",
        "script": "ScriptMagics",
        "sh": "Other",
        "svg": "DisplayMagics",
        "sx": "OSMagics",
        "system": "OSMagics",
        "time": "ExecutionMagics",
        "timeit": "ExecutionMagics",
        "writefile": "OSMagics"
       },
       "line": {
        "alias": "OSMagics",
        "alias_magic": "BasicMagics",
        "autoawait": "AsyncMagics",
        "autocall": "AutoMagics",
        "automagic": "AutoMagics",
        "autosave": "KernelMagics",
        "bookmark": "OSMagics",
        "cat": "Other",
        "cd": "OSMagics",
        "clear": "KernelMagics",
        "colors": "BasicMagics",
        "conda": "PackagingMagics",
        "config": "ConfigMagics",
        "connect_info": "KernelMagics",
        "cp": "Other",
        "debug": "ExecutionMagics",
        "dhist": "OSMagics",
        "dirs": "OSMagics",
        "doctest_mode": "BasicMagics",
        "ed": "Other",
        "edit": "KernelMagics",
        "env": "OSMagics",
        "gui": "BasicMagics",
        "hist": "Other",
        "history": "HistoryMagics",
        "killbgscripts": "ScriptMagics",
        "ldir": "Other",
        "less": "KernelMagics",
        "lf": "Other",
        "lk": "Other",
        "ll": "Other",
        "load": "CodeMagics",
        "load_ext": "ExtensionMagics",
        "loadpy": "CodeMagics",
        "logoff": "LoggingMagics",
        "logon": "LoggingMagics",
        "logstart": "LoggingMagics",
        "logstate": "LoggingMagics",
        "logstop": "LoggingMagics",
        "ls": "Other",
        "lsmagic": "BasicMagics",
        "lx": "Other",
        "macro": "ExecutionMagics",
        "magic": "BasicMagics",
        "man": "KernelMagics",
        "matplotlib": "PylabMagics",
        "mkdir": "Other",
        "more": "KernelMagics",
        "mv": "Other",
        "notebook": "BasicMagics",
        "page": "BasicMagics",
        "pastebin": "CodeMagics",
        "pdb": "ExecutionMagics",
        "pdef": "NamespaceMagics",
        "pdoc": "NamespaceMagics",
        "pfile": "NamespaceMagics",
        "pinfo": "NamespaceMagics",
        "pinfo2": "NamespaceMagics",
        "pip": "PackagingMagics",
        "popd": "OSMagics",
        "pprint": "BasicMagics",
        "precision": "BasicMagics",
        "prun": "ExecutionMagics",
        "psearch": "NamespaceMagics",
        "psource": "NamespaceMagics",
        "pushd": "OSMagics",
        "pwd": "OSMagics",
        "pycat": "OSMagics",
        "pylab": "PylabMagics",
        "qtconsole": "KernelMagics",
        "quickref": "BasicMagics",
        "recall": "HistoryMagics",
        "rehashx": "OSMagics",
        "reload_ext": "ExtensionMagics",
        "rep": "Other",
        "rerun": "HistoryMagics",
        "reset": "NamespaceMagics",
        "reset_selective": "NamespaceMagics",
        "rm": "Other",
        "rmdir": "Other",
        "run": "ExecutionMagics",
        "save": "CodeMagics",
        "sc": "OSMagics",
        "set_env": "OSMagics",
        "store": "StoreMagics",
        "sx": "OSMagics",
        "system": "OSMagics",
        "tb": "ExecutionMagics",
        "time": "ExecutionMagics",
        "timeit": "ExecutionMagics",
        "unalias": "OSMagics",
        "unload_ext": "ExtensionMagics",
        "who": "NamespaceMagics",
        "who_ls": "NamespaceMagics",
        "whos": "NamespaceMagics",
        "xdel": "NamespaceMagics",
        "xmode": "BasicMagics"
       }
      },
      "text/plain": [
       "Available line magics:\n",
       "%alias  %alias_magic  %autoawait  %autocall  %automagic  %autosave  %bookmark  %cat  %cd  %clear  %colors  %conda  %config  %connect_info  %cp  %debug  %dhist  %dirs  %doctest_mode  %ed  %edit  %env  %gui  %hist  %history  %killbgscripts  %ldir  %less  %lf  %lk  %ll  %load  %load_ext  %loadpy  %logoff  %logon  %logstart  %logstate  %logstop  %ls  %lsmagic  %lx  %macro  %magic  %man  %matplotlib  %mkdir  %more  %mv  %notebook  %page  %pastebin  %pdb  %pdef  %pdoc  %pfile  %pinfo  %pinfo2  %pip  %popd  %pprint  %precision  %prun  %psearch  %psource  %pushd  %pwd  %pycat  %pylab  %qtconsole  %quickref  %recall  %rehashx  %reload_ext  %rep  %rerun  %reset  %reset_selective  %rm  %rmdir  %run  %save  %sc  %set_env  %store  %sx  %system  %tb  %time  %timeit  %unalias  %unload_ext  %who  %who_ls  %whos  %xdel  %xmode\n",
       "\n",
       "Available cell magics:\n",
       "%%!  %%HTML  %%SVG  %%bash  %%capture  %%debug  %%file  %%html  %%javascript  %%js  %%latex  %%markdown  %%perl  %%prun  %%pypy  %%python  %%python2  %%python3  %%ruby  %%script  %%sh  %%svg  %%sx  %%system  %%time  %%timeit  %%writefile\n",
       "\n",
       "Automagic is ON, % prefix IS NOT needed for line magics."
      ]
     },
     "execution_count": 2,
     "metadata": {},
     "output_type": "execute_result"
    }
   ],
   "source": [
    "%lsmagic"
   ]
  },
  {
   "cell_type": "markdown",
   "metadata": {},
   "source": [
    "#### A few examples of line magics"
   ]
  },
  {
   "cell_type": "code",
   "execution_count": 3,
   "metadata": {},
   "outputs": [
    {
     "name": "stdout",
     "output_type": "stream",
     "text": [
      "Variable   Type     Data/Info\n",
      "-----------------------------\n",
      "x          int      10\n",
      "y          float    100.0\n"
     ]
    }
   ],
   "source": [
    "x = 10\n",
    "y = 100.0\n",
    "\n",
    "# list contents of memory\n",
    "%whos"
   ]
  },
  {
   "cell_type": "code",
   "execution_count": 4,
   "metadata": {},
   "outputs": [
    {
     "data": {
      "text/plain": [
       "'/Users/johnserences/Dropbox/teaching/CSHL 2022/CSHL-2022-Python/Jupyter_Python_Basics'"
      ]
     },
     "execution_count": 4,
     "metadata": {},
     "output_type": "execute_result"
    }
   ],
   "source": [
    "# working directory\n",
    "%pwd"
   ]
  },
  {
   "cell_type": "code",
   "execution_count": 5,
   "metadata": {},
   "outputs": [
    {
     "name": "stdout",
     "output_type": "stream",
     "text": [
      "00_Intro_Jupyter_tutorial.ipynb\r\n",
      "01_Syntax_Variables_Types_tutorial.ipynb\r\n",
      "02_Conditionals_tutorial.ipynb\r\n",
      "03_For_Loops_tutorial.ipynb\r\n",
      "04_While_loops_tutorial.ipynb\r\n",
      "05_Sequences_tutorial.ipynb\r\n",
      "06_Dictionaries_tutorial.ipynb\r\n",
      "ch890730.gif\r\n",
      "\u001b[34mimg\u001b[m\u001b[m/\r\n"
     ]
    }
   ],
   "source": [
    "# list contents of working directory\n",
    "%ls"
   ]
  },
  {
   "cell_type": "markdown",
   "metadata": {},
   "source": [
    "### Notebook navigation\n",
    "\n",
    "Notebooks are \"modal\" in the sense that you can be in different modes.  If you are in \"edit\" mode, you are editing the content of a given cell.  If you are in \"command\" mode then you might create new cells, change their type, rearrange them, etc.\n",
    "\n",
    "You can enter command mode by hitting \"escape\".  Then you can navigate with the arrow keys, or by clicking on particular cells.  \n",
    "\n",
    "You can enter \"edit\" mode in a given cell by pressing the \"enter/return\" key.  \n",
    "\n",
    "When in edit mode, you can press `Shift + enter` or `command (or control) + enter` (e.g. hold down the command key and press enter) to execute the cell, and exit edit mode.\n",
    "\n",
    "In command mode, you can press \"H\" to see a list of keyboard shortcuts, or you can press \"cmd + shift + f\" to enter the command pallette, where you can search for all the commands available to you.\n",
    "\n",
    "There is a lot of extended functionality to notebook navigation and execution, but here are a few handy shortcuts:\n",
    "\n",
    "* `escape + b` - create a new cell below the current cell\n",
    "* `escape + a` - create a new cell above the current cell\n",
    "* `escape + m` - convert to a markdown cell\n",
    "* `escape + y` - convert to a code cell\n"
   ]
  }
 ],
 "metadata": {
  "kernelspec": {
   "display_name": "Python 3 (ipykernel)",
   "language": "python",
   "name": "python3"
  },
  "language_info": {
   "codemirror_mode": {
    "name": "ipython",
    "version": 3
   },
   "file_extension": ".py",
   "mimetype": "text/x-python",
   "name": "python",
   "nbconvert_exporter": "python",
   "pygments_lexer": "ipython3",
   "version": "3.9.7"
  }
 },
 "nbformat": 4,
 "nbformat_minor": 4
}

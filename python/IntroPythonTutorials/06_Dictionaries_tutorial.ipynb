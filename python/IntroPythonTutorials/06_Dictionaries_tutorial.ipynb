{
 "cells": [
  {
   "cell_type": "markdown",
   "metadata": {},
   "source": [
    "# Dictionaries\n",
    "\n",
    "js (jserences@ucsd.edu), June 2022 for CSHL (adapted from CSS1 at UCSD)\n",
    "\n",
    "Dictionaries are *unordered*, *mutable*, *collections*, of *key*-*value* pairs.  They are a mapping from *distinct* keys, onto values.\n",
    "\n",
    "In Python dictionaries are like lists in that they:\n",
    " - are *mutable* (so you can change them),\n",
    " - are *collections* of other objects (so you can iterate over them, get their `len()`, check membership with `in`).\n",
    " - you can get items with square brackets `[]` and the `keys` (but not with integer index)\n",
    "\n",
    "However, they are unlike lists in that:\n",
    "- they are *unordered* so they cannot be indexed with integers or sliced.\n",
    "- the are *mappings* between *distinct* keys and values.\n",
    "\n",
    "Dictionaries are created with `dict()`, or with `{key:value}` notation or by just initializing an empty dictionary with `{}`"
   ]
  },
  {
   "cell_type": "markdown",
   "metadata": {},
   "source": [
    "### Init using `dict()` "
   ]
  },
  {
   "cell_type": "code",
   "execution_count": 1,
   "metadata": {
    "pycharm": {
     "name": "#%%\n"
    }
   },
   "outputs": [
    {
     "name": "stdout",
     "output_type": "stream",
     "text": [
      "{'CSHL1': 'Vision', 'CSHL2': 'Basket weaving'}\n"
     ]
    }
   ],
   "source": [
    "courses = dict() \n",
    "courses['CSHL1'] = 'Vision'\n",
    "courses['CSHL2'] = 'Basket weaving'\n",
    "print(courses)"
   ]
  },
  {
   "cell_type": "markdown",
   "metadata": {},
   "source": [
    "### Two alternate ways to achieve the same thing as above\n",
    "* Init with `{}` and then fill like we did above\n",
    "* Init with `{key:value}` pairs"
   ]
  },
  {
   "cell_type": "code",
   "execution_count": 2,
   "metadata": {},
   "outputs": [
    {
     "name": "stdout",
     "output_type": "stream",
     "text": [
      "{'CSHL1': 'Vision', 'CSHL2': 'Basket weaving'}\n"
     ]
    }
   ],
   "source": [
    "# init with {} and then fill (just like we did above)\n",
    "courses = {} \n",
    "courses['CSHL1'] = 'Vision'\n",
    "courses['CSHL2'] = 'Basket weaving'\n",
    "print(courses)"
   ]
  },
  {
   "cell_type": "code",
   "execution_count": 3,
   "metadata": {},
   "outputs": [
    {
     "name": "stdout",
     "output_type": "stream",
     "text": [
      "{'CSHL1': 'Vision', 'CSHL2': 'Basket weaving'}\n"
     ]
    }
   ],
   "source": [
    "# directly assign key:value pairs upon creation\n",
    "courses = {'CSHL1': 'Vision', 'CSHL2': 'Basket weaving'}\n",
    "print(courses)"
   ]
  },
  {
   "cell_type": "markdown",
   "metadata": {},
   "source": [
    "### Dictionary elements can be accessed via their keys."
   ]
  },
  {
   "cell_type": "code",
   "execution_count": 4,
   "metadata": {
    "pycharm": {
     "name": "#%%\n"
    }
   },
   "outputs": [
    {
     "name": "stdout",
     "output_type": "stream",
     "text": [
      "Basket weaving\n"
     ]
    }
   ],
   "source": [
    "print(courses['CSHL2'])"
   ]
  },
  {
   "cell_type": "markdown",
   "metadata": {},
   "source": [
    "### Items can be added to dictionaries by assigning a value to a new keys"
   ]
  },
  {
   "cell_type": "code",
   "execution_count": 6,
   "metadata": {
    "pycharm": {
     "name": "#%%\n"
    }
   },
   "outputs": [
    {
     "name": "stdout",
     "output_type": "stream",
     "text": [
      "{'CSHL1': 'Vision', 'CSHL2': 'Basket weaving', 'CSHL3': 'Is this a course?'}\n"
     ]
    }
   ],
   "source": [
    "# new key CSHL3\n",
    "courses['CSHL3'] = 'Is this a course?'\n",
    "print(courses)"
   ]
  },
  {
   "cell_type": "markdown",
   "metadata": {},
   "source": [
    "### Dictionaries can be updated with `.update()`, which will add new keys, and update the values of existing keys."
   ]
  },
  {
   "cell_type": "code",
   "execution_count": 7,
   "metadata": {
    "pycharm": {
     "name": "#%%\n"
    }
   },
   "outputs": [
    {
     "name": "stdout",
     "output_type": "stream",
     "text": [
      "{'CSHL1': 'Vision', 'CSHL2': 'Basket weaving', 'CSHL3': 'Is this a course?', 'ABB': 'this is not a course', 'CSHL100': 'Analytic Programming'}\n"
     ]
    }
   ],
   "source": [
    "new_courses = {'ABB': 'this is not a course', 'CSHL100':'Analytic Programming'}\n",
    "courses.update(new_courses)\n",
    "print(courses)"
   ]
  },
  {
   "cell_type": "markdown",
   "metadata": {},
   "source": [
    "### Elements of dictionaries can be deleted with the `del` keyword:"
   ]
  },
  {
   "cell_type": "code",
   "execution_count": 8,
   "metadata": {
    "pycharm": {
     "name": "#%%\n"
    }
   },
   "outputs": [
    {
     "name": "stdout",
     "output_type": "stream",
     "text": [
      "{'CSHL1': 'Vision', 'CSHL2': 'Basket weaving', 'CSHL3': 'Is this a course?', 'CSHL100': 'Analytic Programming'}\n"
     ]
    }
   ],
   "source": [
    "del courses['ABB']\n",
    "print(courses)"
   ]
  },
  {
   "cell_type": "markdown",
   "metadata": {},
   "source": [
    "You can check if a key exists in a dictionary with `in`:"
   ]
  },
  {
   "cell_type": "code",
   "execution_count": 9,
   "metadata": {
    "pycharm": {
     "name": "#%%\n"
    }
   },
   "outputs": [
    {
     "name": "stdout",
     "output_type": "stream",
     "text": [
      "True\n",
      "False\n"
     ]
    }
   ],
   "source": [
    "print('CSHL1' in courses)\n",
    "print('ABB' in courses)"
   ]
  },
  {
   "cell_type": "markdown",
   "metadata": {},
   "source": [
    "\n",
    "\n",
    "## Keys, Values, Items"
   ]
  },
  {
   "cell_type": "markdown",
   "metadata": {},
   "source": [
    "### You can get (or iterate over) just the keys with `.keys()`."
   ]
  },
  {
   "cell_type": "code",
   "execution_count": 10,
   "metadata": {
    "pycharm": {
     "name": "#%%\n"
    }
   },
   "outputs": [
    {
     "name": "stdout",
     "output_type": "stream",
     "text": [
      "dict_keys(['CSHL1', 'CSHL2', 'CSHL3', 'CSHL100'])\n",
      "CSHL1\n",
      "CSHL2\n",
      "CSHL3\n",
      "CSHL100\n"
     ]
    }
   ],
   "source": [
    "print(courses.keys())\n",
    "for k in courses.keys():\n",
    "    print(k)"
   ]
  },
  {
   "cell_type": "markdown",
   "metadata": {},
   "source": [
    "### You can get just the values with `.values()`."
   ]
  },
  {
   "cell_type": "code",
   "execution_count": 11,
   "metadata": {
    "pycharm": {
     "name": "#%%\n"
    }
   },
   "outputs": [
    {
     "name": "stdout",
     "output_type": "stream",
     "text": [
      "dict_values(['Vision', 'Basket weaving', 'Is this a course?', 'Analytic Programming'])\n",
      "Vision\n",
      "Basket weaving\n",
      "Is this a course?\n",
      "Analytic Programming\n"
     ]
    }
   ],
   "source": [
    "print(courses.values())\n",
    "for v in courses.values():\n",
    "    print(v)"
   ]
  },
  {
   "cell_type": "markdown",
   "metadata": {},
   "source": [
    "### You can get key-value pairs (as tuples) with `.items()`."
   ]
  },
  {
   "cell_type": "code",
   "execution_count": 12,
   "metadata": {
    "pycharm": {
     "name": "#%%\n"
    }
   },
   "outputs": [
    {
     "name": "stdout",
     "output_type": "stream",
     "text": [
      "dict_items([('CSHL1', 'Vision'), ('CSHL2', 'Basket weaving'), ('CSHL3', 'Is this a course?'), ('CSHL100', 'Analytic Programming')])\n",
      "('CSHL1', 'Vision')\n",
      "('CSHL2', 'Basket weaving')\n",
      "('CSHL3', 'Is this a course?')\n",
      "('CSHL100', 'Analytic Programming')\n"
     ]
    }
   ],
   "source": [
    "print(courses.items())\n",
    "for pair in courses.items():\n",
    "    print(pair)"
   ]
  },
  {
   "cell_type": "markdown",
   "metadata": {},
   "source": [
    "### It is often useful to do **assignment unpacking**, or to unpack the (key,value) tuple into two variables\n",
    "* This is super handy because then you have access to both the key and the value inside of the for loop\n",
    "* By convention use the variables `k` and `v` to improve readability, but remember that you can use any variable name you want..."
   ]
  },
  {
   "cell_type": "code",
   "execution_count": 13,
   "metadata": {
    "pycharm": {
     "name": "#%%\n"
    }
   },
   "outputs": [
    {
     "name": "stdout",
     "output_type": "stream",
     "text": [
      "Course number CSHL1 is titled Vision\n",
      "Course number CSHL2 is titled Basket weaving\n",
      "Course number CSHL3 is titled Is this a course?\n",
      "Course number CSHL100 is titled Analytic Programming\n"
     ]
    }
   ],
   "source": [
    "for k,v in courses.items():\n",
    "    print(f'Course number {k} is titled {v}')"
   ]
  },
  {
   "cell_type": "markdown",
   "metadata": {},
   "source": [
    "## Sorting\n",
    "\n",
    "As you saw above, the order of key-value pairs in a dictionary is determined by when they were added.  Often we want to sort the contents either by the keys, or by the values.   \n",
    "* To get a sorted dictionary, we will end up making a new dictionary by inserting key-value pairs in a sorted order."
   ]
  },
  {
   "cell_type": "markdown",
   "metadata": {},
   "source": [
    "### Here is an exmaple of sorting **By keys**"
   ]
  },
  {
   "cell_type": "code",
   "execution_count": 14,
   "metadata": {
    "pycharm": {
     "name": "#%%\n"
    }
   },
   "outputs": [
    {
     "name": "stdout",
     "output_type": "stream",
     "text": [
      "{'CSHL1': 'Vision', 'CSHL2': 'Basket weaving', 'CSHL3': 'Is this a course?', 'CSHL100': 'Analytic Programming'}\n",
      "{'CSHL1': 'Vision', 'CSHL100': 'Analytic Programming', 'CSHL2': 'Basket weaving', 'CSHL3': 'Is this a course?'}\n"
     ]
    }
   ],
   "source": [
    "sorted_courses = dict()\n",
    "for k in sorted(courses.keys()):\n",
    "    sorted_courses[k] = courses[k]\n",
    "\n",
    "print(courses)\n",
    "print(sorted_courses)"
   ]
  },
  {
   "cell_type": "markdown",
   "metadata": {},
   "source": [
    "### Here is an exmaple of sorting **By values**\n",
    "\n",
    "Sorting by values is a bit tricky -- we can sort the values, but we have no reliable way to figure out which keys were associated with the sorted values.  Consequently, we have to sort the key-value items.  But doing so requires that we can tell the `sorted` function to use the second element of the pair to sort.  This is a bit clunky...\n",
    "\n",
    "Instead, we will use the `itemgetter` function from the `operator` library\n",
    "* The default is for `sorted` to sort by keys...`itemgetter` will allow you to sort by values\n",
    "* Note that in a given `{key:value}` pair that the key is in the 0th index and the value is in the 1nth index...just noting that for now, but you'll see why this is important when we use `itemgetter`\n",
    "\n",
    "\n",
    "* And one side-note that this is the first time that we've covered importing extra functionality from a library.\n",
    "* You will use this more and more often as there are many libraries that expand the core functionality of python (e.g., NumPy, Pandas, Matplotlib, etc). "
   ]
  },
  {
   "cell_type": "code",
   "execution_count": 16,
   "metadata": {},
   "outputs": [],
   "source": [
    "# this imports the itemgetter function\n",
    "# remember that once you import something\n",
    "# it is available to all other code cells\n",
    "# in the notebook...so run this cell first\n",
    "# and then you'll have access to `itemgetter` \n",
    "# in all the other cells...\n",
    "from operator import itemgetter "
   ]
  },
  {
   "cell_type": "code",
   "execution_count": 17,
   "metadata": {
    "pycharm": {
     "name": "#%%\n"
    }
   },
   "outputs": [
    {
     "name": "stdout",
     "output_type": "stream",
     "text": [
      "before sorting, items in order of insertion:  \n",
      "('CSHL1', 'Vision')\n",
      "('CSHL2', 'Basket weaving')\n",
      "('CSHL3', 'Is this a course?')\n",
      "('CSHL100', 'Analytic Programming')\n",
      "default sorting sorts by first element of pair (key):  \n",
      "('CSHL1', 'Vision')\n",
      "('CSHL100', 'Analytic Programming')\n",
      "('CSHL2', 'Basket weaving')\n",
      "('CSHL3', 'Is this a course?')\n",
      "sorting by the second element (index=1) of the pair with key=itemgetter(1):  \n",
      "('CSHL100', 'Analytic Programming')\n",
      "('CSHL2', 'Basket weaving')\n",
      "('CSHL3', 'Is this a course?')\n",
      "('CSHL1', 'Vision')\n"
     ]
    }
   ],
   "source": [
    "print(\"before sorting, items in order of insertion:  \")\n",
    "for item in courses.items():\n",
    "    print(item)\n",
    "\n",
    "print(\"default sorting sorts by first element of pair (key):  \")\n",
    "for item in sorted(courses.items()):\n",
    "    print(item)\n",
    "\n",
    "# we're sorting by the 1nth index in the {key:value} pairs, which is the value..\n",
    "# see what happens if you use itemgetter(0)- then it will sort by the keys!\n",
    "print(\"sorting by the second element (index=1) of the pair with key=itemgetter(1):  \")\n",
    "for item in sorted(courses.items(), key=itemgetter(1)):\n",
    "    print(item)"
   ]
  },
  {
   "cell_type": "markdown",
   "metadata": {},
   "source": [
    "## Bonus and advanced syntax...making a new sorted dictionary using a normal `for` loop and using a **dictionary comprehension**"
   ]
  },
  {
   "cell_type": "markdown",
   "metadata": {},
   "source": [
    "### Make a new dictionary that contains sorted items of the old dictionary using a for loop..."
   ]
  },
  {
   "cell_type": "code",
   "execution_count": 18,
   "metadata": {
    "pycharm": {
     "name": "#%%\n"
    }
   },
   "outputs": [
    {
     "name": "stdout",
     "output_type": "stream",
     "text": [
      "{'CSHL100': 'Analytic Programming', 'CSHL2': 'Basket weaving', 'CSHL3': 'Is this a course?', 'CSHL1': 'Vision'}\n"
     ]
    }
   ],
   "source": [
    "courses_by_title = dict()\n",
    "\n",
    "for number,title in sorted(courses.items(), key=itemgetter(1)):\n",
    "    courses_by_title[number] = title\n",
    "\n",
    "print(courses_by_title)"
   ]
  },
  {
   "cell_type": "markdown",
   "metadata": {},
   "source": [
    "### Make a new dictionary that contains sorted items of the old dictionary using a dictionary comprehension. This is a compact way of achieving the same thing that the standard `for` loop did above..."
   ]
  },
  {
   "cell_type": "code",
   "execution_count": 19,
   "metadata": {
    "pycharm": {
     "name": "#%%\n"
    }
   },
   "outputs": [
    {
     "name": "stdout",
     "output_type": "stream",
     "text": [
      "{'CSHL100': 'Analytic Programming', 'CSHL2': 'Basket weaving', 'CSHL3': 'Is this a course?', 'CSHL1': 'Vision'}\n"
     ]
    }
   ],
   "source": [
    "courses_by_title = {k:v for k,v in sorted(courses.items(), key=itemgetter(1))}\n",
    "print(courses_by_title)"
   ]
  }
 ],
 "metadata": {
  "kernelspec": {
   "display_name": "Python 3 (ipykernel)",
   "language": "python",
   "name": "python3"
  },
  "language_info": {
   "codemirror_mode": {
    "name": "ipython",
    "version": 3
   },
   "file_extension": ".py",
   "mimetype": "text/x-python",
   "name": "python",
   "nbconvert_exporter": "python",
   "pygments_lexer": "ipython3",
   "version": "3.9.7"
  }
 },
 "nbformat": 4,
 "nbformat_minor": 1
}

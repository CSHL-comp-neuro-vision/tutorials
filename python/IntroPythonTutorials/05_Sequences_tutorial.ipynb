{
 "cells": [
  {
   "cell_type": "markdown",
   "metadata": {},
   "source": [
    "#  Sequence types\n",
    "\n",
    "js (jserences@ucsd.edu), June 2022 for CSHL (adapted from CSS1 at UCSD)\n",
    "\n",
    "## Conceptual overview\n",
    "\n",
    "### Container data types in Python\n",
    "\n",
    "**Atomic types** such as integers, floats, booleans, and a few other types in Python, are data types that have no substructure -- they are the smallest possible unit.  A boolean like True is a basic unit in Python: it has no parts.  Ditto for integers, floats, etc. (even though, mathematically, we could define \"parts\" to an integer, in the Python representation they have no parts).\n",
    "\n",
    "**Containers** are data types in Python that that **contain** multiple other objects.  Every container has the ability to be probed with the expression `x in container` (which will return True if `x` is an item in the container, and False otherwise).\n",
    "\n",
    "**Collections** Are *containers* that have a few further properties: they have a *size*, indicating how many elements it contains (obtained via `len(x)`); and they can be *iterated* over (e.g., you can loop through all the items in a collection via a for loop `for item in collection:`...).\n",
    "\n",
    "**Sequences** are *collections* with a **deterministic order**, which means they can be **indexed** via an integer indicating the order of an element, with the notation `x[3]` and **sliced** via integer expressions to obtain subsequences.  Sequences can also be concatenated with the `+` operator.\n",
    "For instance, a list is a sequence, so you can ask for the initial item of a list via `x[3]`.  (In contrast, a `set` is a collection but not a sequence, so you cannot ask for a particular item via an index.)\n",
    "\n",
    "**Mutable sequences** are *sequences* that can be changed after they are created (in contrast, immutable sequences cannot be changed, they can only be overwritten with a newly created immutable sequence). Mutable sequences have useful methods like `seq.append(item)` (add an item to the end of the sequence), `seq_1.extend(seq_2)` (add the items in seq_2 to the end of seq_1), `seq.pop(index)` (return the value of the item at index, and remove that item from the sequence), `seq.remove(item)` (remove the first item in the sequence that is equal to item), `seq.reverse()` to reverse the order of the sequence.  These are \"in place\" methods, in that they change the list in place, without returning a copy of the list.  In contrast, *immutable* sequence methods (such as those for *string*, have to return a new string with the change, because the original string cannot be changed).\n",
    "\n",
    "**Strings** are immutable *sequences* of characters.  Each element of a string is a character.  Since they are a sequence, they can be indexed and sliced. Because they are immutable, you cannot change an element of a string, you can only create a new, different string.  Strings also have a number of very helpful methods for dealing with the text they represent, which we will cover below (since strings are immutable, methods that modify the string return a copy of a string with the modification, rather than changing the existing string in place).\n",
    "\n",
    "**Lists** are *mutable sequences*, which can contain items of any type. They not only support indexing and slicing, but they can also be changed, reversed, appended to, extended, sorted, inserted into, and more.\n",
    "\n",
    "**Tuples** are *immutable sequences* of mixed elements.  They have a number of uses which we may cover eventually.\n",
    "\n",
    "A few other object types that you'll encounter:\n",
    "\n",
    "**Sets** are *collections* of *unique* items.  They support useful [set operations](https://docs.python.org/3/library/stdtypes.html#set-types-set-frozenset) like set union, set difference, subset evaluations, etc.\n",
    "\n",
    "**Dictionaries** are *collections* that are mappings.  They do not have a particular *order*, but items in a dictionary have a unique *key* which need not be an integer.\n",
    "\n",
    "### Indexing and slicing sequences.\n",
    "\n",
    "Specific elements of a sequence can be obtained by **indexing** -- referring to the specific order of that element in the sequence.  Python uses zero-based indexing, which means that the item at the start of the index has an index of 0, the next item has an index of 1, and so on. There are some [good reasons](https://www.cs.utexas.edu/users/EWD/transcriptions/EWD08xx/EWD831.html) to index starting with 0, although not all programming languages adopt this convention.\n",
    "\n",
    "A subsequence can be obtained from a sequence by **slicing** -- referring to the set of indexes that you want to pull out.  A slice is defined with the notation `[start:stop:step]`, which we will cover in great detail below.\n",
    "\n",
    "\n",
    "## Sequences\n",
    "\n",
    "### Strings: defining / creating\n",
    "\n",
    "Strings are immutable sequences of characters.\n",
    "\n",
    "A string can be created in python by putting some text in quotes.\n",
    "- You can use either single quotes (`'string'`), or double quotes (`\"string\"`), it does not matter so long as the start and end of the string match. The choice of single vs double quotes is arbitrary. Pick one and use it consistently.\n",
    "- Triple quotes, where you repeat three quotes of the same type to start the string (e.g., : `'''string'''` or `\"\"\"string\"\"\"`) are a special string definition that allows the string to span multiple lines."
   ]
  },
  {
   "cell_type": "code",
   "execution_count": 1,
   "metadata": {
    "pycharm": {
     "name": "#%%\n"
    }
   },
   "outputs": [
    {
     "name": "stdout",
     "output_type": "stream",
     "text": [
      "this is a string this is another string \n",
      "this is a\n",
      "3rd string\n",
      " \n",
      "this is a\n",
      "fourth string\n",
      "\n"
     ]
    }
   ],
   "source": [
    "a = 'this is a string'\n",
    "b = \"this is another string\"\n",
    "c = '''\n",
    "this is a\n",
    "3rd string\n",
    "'''\n",
    "d = \"\"\"\n",
    "this is a\n",
    "fourth string\n",
    "\"\"\"\n",
    "print(a,b,c,d)"
   ]
  },
  {
   "cell_type": "markdown",
   "metadata": {},
   "source": [
    "One reason to favor single or double quotes is if you have to have quotes in your own string,\n",
    "in which case use one type of quote to indicate the string, and another type of quote inside.\n",
    "Alternatively, you can *escape* quotes inside a string, to tell Python that the quote in the\n",
    "string should be treated as a character, rather than the end of the string."
   ]
  },
  {
   "cell_type": "markdown",
   "metadata": {},
   "source": [
    "### Lists: defining\n",
    "\n",
    "Lists are a general purpose, mutable sequence types for storing a bunch of objects in a deterministic order.\n",
    "\n",
    "A list can be created with square brackets: `[item1, item2]`.  A list can contain all sorts of objects, and those objects need not be of the same type.  A list can even contain more lists."
   ]
  },
  {
   "cell_type": "code",
   "execution_count": 2,
   "metadata": {
    "pycharm": {
     "name": "#%%\n"
    }
   },
   "outputs": [
    {
     "name": "stdout",
     "output_type": "stream",
     "text": [
      "['hello', 'goodbye', 'ciao', 'salut', 'adios', 3.14159, 1200, ['a', 'b', 3]]\n"
     ]
    }
   ],
   "source": [
    "list_of_stuff = ['hello', 'goodbye', 'ciao', 'salut', 'adios', 3.14159, 1200, ['a', 'b', 3, ]]\n",
    "print(list_of_stuff)"
   ]
  },
  {
   "cell_type": "markdown",
   "metadata": {},
   "source": [
    "### Common sequence operations\n",
    "\n",
    "First we will go over some common methods that all sequences (strings, lists, and more) share.\n",
    "\n",
    "To do so, we will use the following two sequences.  Note that the list contains a mixture of types -- integers, floats, strings, and even another list."
   ]
  },
  {
   "cell_type": "code",
   "execution_count": 3,
   "metadata": {
    "pycharm": {
     "name": "#%%\n"
    }
   },
   "outputs": [
    {
     "name": "stdout",
     "output_type": "stream",
     "text": [
      "alphabet:  abcdefg\n",
      "some_numbers: [0, 1, 1.4142135623730951, 1.7320508075688772, 'pi']\n"
     ]
    }
   ],
   "source": [
    "alphabet = 'abcdefg'\n",
    "some_numbers = [0, 1, 2**(1/2), 3**(1/2), 'pi']\n",
    "print('alphabet: ', alphabet)\n",
    "print('some_numbers:', some_numbers)"
   ]
  },
  {
   "cell_type": "markdown",
   "metadata": {},
   "source": [
    "#### len()\n",
    "\n",
    "Every collection (and thus, also every sequence) has a size property, indicating how many elements it has.  This can be polled with the `len()` function.  Note that the list inside the `some_numbers` list counts as one item."
   ]
  },
  {
   "cell_type": "code",
   "execution_count": 4,
   "metadata": {
    "pycharm": {
     "name": "#%%\n"
    }
   },
   "outputs": [
    {
     "name": "stdout",
     "output_type": "stream",
     "text": [
      "7\n",
      "5\n"
     ]
    }
   ],
   "source": [
    "print(len(alphabet))\n",
    "print(len(some_numbers))"
   ]
  },
  {
   "cell_type": "markdown",
   "metadata": {},
   "source": [
    "#### in\n",
    "\n",
    "The contents of every container, (and thus every collection, and thus every sequence) can be probed with the `in` operation.  `x in container` returns `True` if x is one of the items in the container."
   ]
  },
  {
   "cell_type": "code",
   "execution_count": 5,
   "metadata": {
    "pycharm": {
     "name": "#%%\n"
    }
   },
   "outputs": [
    {
     "name": "stdout",
     "output_type": "stream",
     "text": [
      "True\n",
      "False\n",
      "True\n",
      "True\n",
      "False\n"
     ]
    }
   ],
   "source": [
    "print('b' in alphabet) # True\n",
    "print('@' in alphabet) # False\n",
    "print('pi' in some_numbers) # True\n",
    "print(0 in some_numbers) # True\n",
    "print(1.41421356237 in some_numbers) # False Exact equality of floats is complicated"
   ]
  },
  {
   "cell_type": "markdown",
   "metadata": {},
   "source": [
    "For strings, the `in` operation is special because it can also evaluate if a given string contains a particular *substring*, rather than a specific character.  This does not work for other sequence types."
   ]
  },
  {
   "cell_type": "code",
   "execution_count": 6,
   "metadata": {
    "pycharm": {
     "name": "#%%\n"
    }
   },
   "outputs": [
    {
     "name": "stdout",
     "output_type": "stream",
     "text": [
      "True\n",
      "False\n",
      "False\n",
      "False\n"
     ]
    }
   ],
   "source": [
    "print('abcd' in alphabet) # True\n",
    "print('cba' in alphabet) # False\n",
    "print('Abc' in alphabet) # False -- case sensitive\n",
    "print(' abc' in alphabet) # False"
   ]
  },
  {
   "cell_type": "markdown",
   "metadata": {},
   "source": [
    "\n",
    "#### indexing\n",
    "\n",
    "Because sequences have a deterministic ordering, we can retrieve particular items from them with square bracket numerical indexing.  This applies to both lists and strings."
   ]
  },
  {
   "cell_type": "code",
   "execution_count": 7,
   "metadata": {
    "pycharm": {
     "name": "#%%\n"
    }
   },
   "outputs": [
    {
     "name": "stdout",
     "output_type": "stream",
     "text": [
      "a\n",
      "1.7320508075688772\n",
      "g\n",
      "1\n"
     ]
    }
   ],
   "source": [
    "print(alphabet[0])\n",
    "print(some_numbers[3])\n",
    "print(alphabet[-1]) # same as len(alphabet)-1, or 25\n",
    "print(some_numbers[-4]) # same as len(some_numbers)-4, or 7"
   ]
  },
  {
   "cell_type": "markdown",
   "metadata": {},
   "source": [
    "Note:\n",
    "- this is zero-indexed, so the initial item of the sequence has an index of 0,\n",
    "- the last item of the sequence has an index of `len(seq)-1`\n",
    "- negative indexing `-1` is a shortcut for indexing from the end of the sequence by omitting the `len(seq)` part, so `x[-1]` has the same meaning as `x[len(x)-1]`"
   ]
  },
  {
   "cell_type": "markdown",
   "metadata": {},
   "source": [
    "### Using a for loop to index into items in a list"
   ]
  },
  {
   "cell_type": "code",
   "execution_count": 9,
   "metadata": {},
   "outputs": [
    {
     "name": "stdout",
     "output_type": "stream",
     "text": [
      "[0, 2, 1.4142135623730951, 1.7320508075688772, 'pi']\n"
     ]
    }
   ],
   "source": [
    "for i in range(len(some_numbers)):\n",
    "    if some_numbers[i] == 1:\n",
    "        some_numbers[i] = some_numbers[i] + 1\n",
    "\n",
    "# now the 2nd element, which was the number 1, will now be 2 (incremented by one)\n",
    "print(some_numbers)"
   ]
  },
  {
   "cell_type": "markdown",
   "metadata": {},
   "source": [
    "#### slicing\n",
    "\n",
    "Indexing pulls out one item from a sequence, but slicing can pull out multiple elements.\n",
    "\n",
    "The full slicing notation is `x[start:stop:step]`, where we can pull out elements beginning with `start`, through `step-1`, incrementing by `step`."
   ]
  },
  {
   "cell_type": "code",
   "execution_count": 10,
   "metadata": {
    "pycharm": {
     "name": "#%%\n"
    }
   },
   "outputs": [
    {
     "name": "stdout",
     "output_type": "stream",
     "text": [
      "abcdefg\n",
      "f\n",
      "abcde\n",
      "ace\n",
      "fedcb\n",
      "ef\n"
     ]
    }
   ],
   "source": [
    "print(alphabet)\n",
    "print(alphabet[5]) # [5]\n",
    "print(alphabet[0:5:1]) # [0, 1, 2, 3, 4] note, this omits the letter at index stop [5]='f'\n",
    "print(alphabet[0:5:2]) # [0, 2, 4] we are counting by 2, so getting indices\n",
    "print(alphabet[5:0:-1]) # [5, 4, 3, 2] we are counting by -1! note [0] omitted\n",
    "print(alphabet[-3:-1:1]) # we can use negative indices here too. [-3, -2] = [23, 24]"
   ]
  },
  {
   "cell_type": "markdown",
   "metadata": {},
   "source": [
    "##### Slicing defaults.\n",
    "\n",
    "There are very commonly used values for `start`, `stop` and `step`, so these are set to be the defaults if that value is omitted.\n",
    "\n",
    "- default `start=0`: `x[:b:1]` means `x[0:b:1]` because if the start value is omitted, the default of 0 -- initial element of sequence -- is used\n",
    "- default `stop = len(x)`:  `x[a::1]` means `x[a:len(x):1]` which yields all the items from index `a` through the end of the list\n",
    "- default `step = 1`: so `x[a:b:]` and `x[a:b]` both mean `x[a:b:1]`\n",
    "\n",
    "These defaults make a few concise expressions possible:\n",
    "- `x[a:]` gets all the items from `a` through the end of the sequence (since it defaults to `x[a:len(x):1]`\n",
    "- `x[:b]` gets all the items from the start of the sequence through `b-1`\n",
    "- `x[::k]` gets every kth item from index 0 through the end.\n",
    "\n",
    "```{note}\n",
    "**Default slicing parameters with negative indexing**\n",
    "\n",
    "One subtlety is that the default start and stop values change depending on the *step sign*:\n",
    "when incrementing positively defaults are as described above. When incrementing negatively,\n",
    "default start is `len(x)-1` (or just -1 -- the last item), and default stop is the item before 0, so that the last included item has index 0.\n",
    "\n",
    "However, note that you cannot yourself indicate \"the item before 0\" because that would be -1, which has a different meaning (shorthand for `len(x)-1`).\n",
    "Consequently, if you want to end at the initial sequence item with negative indexing, you have to either omit it, or provide the argument `None`\n",
    "\n",
    "Altogether, `x[::-1]` is the same as `x[-1:None:-1]`\n",
    "```"
   ]
  },
  {
   "cell_type": "code",
   "execution_count": 11,
   "metadata": {
    "pycharm": {
     "name": "#%%\n"
    }
   },
   "outputs": [
    {
     "name": "stdout",
     "output_type": "stream",
     "text": [
      "abcde\n",
      "cdefg\n",
      "aceg\n",
      "gfedcba\n"
     ]
    }
   ],
   "source": [
    "print(alphabet[:5]) # [0, 1, 2, 3, 4]\n",
    "print(alphabet[-5:]) \n",
    "print(alphabet[::2]) \n",
    "print(alphabet[::-1]) # step backwards (or reverse)"
   ]
  },
  {
   "cell_type": "markdown",
   "metadata": {},
   "source": [
    "We can do the same things with a list:"
   ]
  },
  {
   "cell_type": "code",
   "execution_count": 12,
   "metadata": {
    "pycharm": {
     "name": "#%%\n"
    }
   },
   "outputs": [
    {
     "name": "stdout",
     "output_type": "stream",
     "text": [
      "[]\n",
      "[0, 2]\n",
      "[0, 1.7320508075688772]\n"
     ]
    }
   ],
   "source": [
    "print(some_numbers[5:]) # [5, 6, 7, 8, 9, 10]\n",
    "print(some_numbers[:-3]) # [0, 1, 2, 3, 4, 5, 6, 7] (note index 8 (11-3) excluded!)\n",
    "print(some_numbers[::3]) # [0, 3, 6, 9]"
   ]
  },
  {
   "cell_type": "markdown",
   "metadata": {},
   "source": [
    "### + concatenation\n",
    "\n",
    "Often you will want to concatenate two sequences.  This can be done with the `+` operator.  This works for strings and all other sequences."
   ]
  },
  {
   "cell_type": "code",
   "execution_count": 13,
   "metadata": {
    "pycharm": {
     "name": "#%%\n"
    }
   },
   "outputs": [
    {
     "name": "stdout",
     "output_type": "stream",
     "text": [
      "hello world\n",
      "[1, 2, 'a', 35, 46]\n"
     ]
    }
   ],
   "source": [
    "a = \"hello\"\n",
    "b = \" world\"\n",
    "print(a + b)\n",
    "\n",
    "c = [1, 2, 'a']\n",
    "d = [35, 46]\n",
    "print(c + d)"
   ]
  },
  {
   "cell_type": "markdown",
   "metadata": {},
   "source": [
    "## String methods\n",
    "\n",
    "Everything in python is an object, and strings are no exception. What it means for strings to be objects, is that each string has *methods* defined by the string class.  For an exhaustive list, and explanations, look at the [python string documentation](https://docs.python.org/3/library/stdtypes.html#string-methods).\n",
    "\n",
    "### String modification methods\n",
    "\n",
    "These methods are many, but a few helpful ones alter the string in various common ways:\n",
    "- `'string'.lower()` converts it to lower case\n",
    "- `'string'.upper()` converts to upper case\n",
    "- `'string'.replace(old,new)` replaces every instance of the string stored in the parameter `old` with a copy of the `new` string.\n",
    "\n",
    "Note that I use the f-string shortcut f'{var=}' which prints \"var='contents of var'\", so we can easily see what each line below is doing."
   ]
  },
  {
   "cell_type": "code",
   "execution_count": 6,
   "metadata": {
    "pycharm": {
     "name": "#%%\n"
    }
   },
   "outputs": [
    {
     "name": "stdout",
     "output_type": "stream",
     "text": [
      "sentence='When angry it helps to WRITE IN ALL CAPS!'\n",
      "sentence.lower()='when angry it helps to write in all caps!'\n",
      "sentence.upper()='WHEN ANGRY IT HELPS TO WRITE IN ALL CAPS!'\n",
      "sentence.title()='When Angry It Helps To Write In All Caps!'\n",
      "sentence.replace(\"angry\", \"excited\")='When excited it helps to WRITE IN ALL CAPS!'\n"
     ]
    }
   ],
   "source": [
    "sentence = 'When angry it helps to WRITE IN ALL CAPS!'\n",
    "print(f'{sentence=}')\n",
    "print(f'{sentence.lower()=}')\n",
    "print(f'{sentence.upper()=}')\n",
    "print(f'{sentence.title()=}')\n",
    "print(f'{sentence.replace(\"angry\", \"excited\")=}')"
   ]
  },
  {
   "cell_type": "markdown",
   "metadata": {},
   "source": [
    "Note that strings are **immutable**, so any method that changes a string does not change the existing string, but instead makes a new, altered string."
   ]
  },
  {
   "cell_type": "code",
   "execution_count": 7,
   "metadata": {
    "pycharm": {
     "name": "#%%\n"
    }
   },
   "outputs": [
    {
     "name": "stdout",
     "output_type": "stream",
     "text": [
      "when angry it helps to write in all caps!\n",
      "When angry it helps to WRITE IN ALL CAPS!\n",
      "when angry it helps to write in all caps!\n"
     ]
    }
   ],
   "source": [
    "sentence = 'When angry it helps to WRITE IN ALL CAPS!'\n",
    "print(sentence.lower())\n",
    "print(sentence) # original not changed!\n",
    "sentence = sentence.lower() # to change it, we have to overwrite it\n",
    "print(sentence)"
   ]
  },
  {
   "cell_type": "markdown",
   "metadata": {},
   "source": [
    "#### Other string evaluation methods\n",
    "\n",
    "There is also a large family of string evaluation methods of the form `'string'.isXXX()` where\n",
    "XXX is something you might care about.  For instance\n",
    "- `.isdigit()` returns True if a string is composed  entirely of digits {0...9}.\n",
    "- `.isalpha()` returns  True if a string is composed entirely of alphabetic letters {a-zA-Z}.\n",
    "- `.istitle()` returns True if a string is in title format (e.g. 'John' vs. 'john')"
   ]
  },
  {
   "cell_type": "markdown",
   "metadata": {},
   "source": [
    "## Inserting variables into strings via concatenation\n",
    "\n",
    "We can use string concatenation to put variable values into strings.  For instance:"
   ]
  },
  {
   "cell_type": "code",
   "execution_count": null,
   "metadata": {
    "pycharm": {
     "name": "#%%\n"
    }
   },
   "outputs": [],
   "source": [
    "name = \"Bob\"\n",
    "age = 67\n",
    "print(\"Hello \" + name + \"!\")\n",
    "print(\"Your age is \" + str(age) + \".\")"
   ]
  },
  {
   "cell_type": "markdown",
   "metadata": {},
   "source": [
    "Note two things about the code above:\n",
    "- because age is an integer, not a string, we have to convert it into a string\n",
    "first before we can use `+` concatenation to it. After all `+` applied to integers means something\n",
    "completely different than `+` applied to strings, so we have to make sure we are doing the right thing. (If we try to `+` a string and an integer, we get a TypeError.)\n",
    "- It is a bit ugly, there are all these quotes and `+` signs scattered about. There is a better way"
   ]
  },
  {
   "cell_type": "code",
   "execution_count": 5,
   "metadata": {
    "pycharm": {
     "name": "#%%\n"
    }
   },
   "outputs": [
    {
     "ename": "TypeError",
     "evalue": "unsupported operand type(s) for +: 'int' and 'str'",
     "output_type": "error",
     "traceback": [
      "\u001b[0;31m---------------------------------------------------------------------------\u001b[0m",
      "\u001b[0;31mTypeError\u001b[0m                                 Traceback (most recent call last)",
      "\u001b[0;32m/var/folders/8y/scw4yk6d3g99kqbs49wp8q3r0000gn/T/ipykernel_81402/476196730.py\u001b[0m in \u001b[0;36m<module>\u001b[0;34m\u001b[0m\n\u001b[0;32m----> 1\u001b[0;31m \u001b[0;36m67\u001b[0m \u001b[0;34m+\u001b[0m \u001b[0;34m'years'\u001b[0m\u001b[0;34m\u001b[0m\u001b[0;34m\u001b[0m\u001b[0m\n\u001b[0m",
      "\u001b[0;31mTypeError\u001b[0m: unsupported operand type(s) for +: 'int' and 'str'"
     ]
    }
   ],
   "source": [
    "67 + 'years'"
   ]
  },
  {
   "cell_type": "markdown",
   "metadata": {},
   "source": [
    "### inserting variables into strings via f-strings\n",
    "\n",
    "f-strings, or formatted strings, are a special kind of string that allows for a nice way to\n",
    "include variables inside a string.  An f-string is defined with the special string notation: (`f''`)\n",
    "For instance, the example above can be written more elegantly with f-strings:"
   ]
  },
  {
   "cell_type": "code",
   "execution_count": 4,
   "metadata": {
    "pycharm": {
     "name": "#%%\n"
    }
   },
   "outputs": [
    {
     "name": "stdout",
     "output_type": "stream",
     "text": [
      "Hello Bob!\n",
      "Your age is 67.\n"
     ]
    }
   ],
   "source": [
    "name = \"Bob\"\n",
    "age = 67\n",
    "print(f'Hello {name}!')\n",
    "print(f\"Your age is {age}.\")"
   ]
  },
  {
   "cell_type": "markdown",
   "metadata": {},
   "source": [
    "Note that the f strings look much tidier, and also do the conversion of different data types into strings for you.\n",
    "\n",
    "There are lots of details about how to refine formatting inside the f-string\n",
    "(e.g., how many decimals to print in a float? pad a string with space? etc.)\n",
    "But for now we can just use them as a tidy way of sticking variables into strings."
   ]
  },
  {
   "cell_type": "markdown",
   "metadata": {},
   "source": [
    "## String pieces and lists: splitting and joining\n",
    "* can use `.split()` to divide up a string into parts and to assign the resulting parts into a list\n",
    "* can use `.join()` to put elements of a list into a single string"
   ]
  },
  {
   "cell_type": "code",
   "execution_count": 18,
   "metadata": {},
   "outputs": [
    {
     "name": "stdout",
     "output_type": "stream",
     "text": [
      "['Hi', 'my', 'name', 'is', 'John']\n",
      "Hi\n"
     ]
    }
   ],
   "source": [
    "# split a single string into a list of elements based on where the \n",
    "# spaces are in the string (can split based on other characters too!)\n",
    "text = 'Hi my name is John'\n",
    "split_list = text.split(' ')\n",
    "print(split_list)\n",
    "print(split_list[0])"
   ]
  },
  {
   "cell_type": "code",
   "execution_count": 21,
   "metadata": {},
   "outputs": [
    {
     "name": "stdout",
     "output_type": "stream",
     "text": [
      "My favorite foods are: ['taco', 'ice-cream', 'potatoes', 'chameleon']\n",
      "My favorite foods are: taco, ice-cream, potatoes, chameleon\n",
      "<class 'str'>\n"
     ]
    }
   ],
   "source": [
    "# then can join the elements of a list into a single string\n",
    "favorite_foods = ['taco', 'ice-cream', 'potatoes', 'chameleon']\n",
    "print(f'My favorite foods are: {favorite_foods}')\n",
    "\n",
    "# join elements into one string that a ', ' (comma then space) between words\n",
    "join_str = ', '.join(favorite_foods)\n",
    "print(f'My favorite foods are: {join_str}')\n",
    "print(type(join_str))"
   ]
  },
  {
   "cell_type": "markdown",
   "metadata": {},
   "source": [
    "## Lists\n",
    "\n",
    "Lists are **mutable** sequences, so they have a number of methods for modifying the list \"in place\".  Which means that the method changes the existing list, rather than creates a new list with the change made (the only way to change immutable sequences, like strings).\n",
    "\n",
    "### growing a list in place\n",
    "\n",
    "You could make a new list by concatenating two existing lists via `+`.  However, usually it is more efficient to add onto an existing list, rather than create a new, larger list.  This can be done via append and extend which change the list in place, and do not return anything:\n",
    "\n",
    "- `list_1.append(item)` adds the item to the end of list_1.\n",
    "- `list_1.extend(list_2)` adds the items in list_2 to the end of list_1"
   ]
  },
  {
   "cell_type": "code",
   "execution_count": null,
   "metadata": {
    "pycharm": {
     "name": "#%%\n"
    }
   },
   "outputs": [],
   "source": [
    "my_list = [1, 2, 'e', 3, ]\n",
    "print(my_list)\n",
    "my_list.append('pi')\n",
    "print(my_list)\n",
    "my_list.extend([4, 5, 6])\n",
    "print(my_list)"
   ]
  },
  {
   "cell_type": "markdown",
   "metadata": {},
   "source": [
    "### Building a list using `append`\n",
    "* Initialize an empty list, then fill it up using a `for` loop and `append`\n",
    "* In this exmaple, we will fill a list up with odd numbers between 0 and 10"
   ]
  },
  {
   "cell_type": "code",
   "execution_count": 2,
   "metadata": {},
   "outputs": [
    {
     "name": "stdout",
     "output_type": "stream",
     "text": [
      "[1, 3, 5, 7, 9]\n"
     ]
    }
   ],
   "source": [
    "odd_lst = []  # init an empty list\n",
    "\n",
    "# fill it using a for loop and append\n",
    "for i in range(1,10,2):  # start, stop, step...start at 1, go until 10 (exclusive of 10), in steps of 2\n",
    "    odd_lst.append(i)\n",
    "\n",
    "print(odd_lst)"
   ]
  },
  {
   "cell_type": "markdown",
   "metadata": {},
   "source": [
    "### shrinking a list in place\n",
    "\n",
    "You can make a new, subset of a list via slicing.  But sometimes that is cumbersome, and the creation of a new list is inefficient.  Alternatively, we can modify the list in place via `pop` and `remove`.\n",
    "\n",
    "- `list_1.pop(idx)` returns the element at index `idx` and also removes that element from the list.\n",
    "- `list_1.remove(item)` removes the first occurrence of `item` from the list, i.e., it removes the first element that has the same value as `item`."
   ]
  },
  {
   "cell_type": "code",
   "execution_count": 17,
   "metadata": {
    "pycharm": {
     "name": "#%%\n"
    }
   },
   "outputs": [
    {
     "name": "stdout",
     "output_type": "stream",
     "text": [
      "green\n",
      "['red', 'blue', 'tomato', 'tomato', 'tomato', 'purple']\n",
      "['red', 'blue', 'tomato', 'tomato', 'purple']\n"
     ]
    }
   ],
   "source": [
    "my_list = ['red', 'blue', 'green', 'tomato', 'tomato', 'tomato', 'purple']\n",
    "item = my_list.pop(2) # assigns 'green' (index 2!) to item, and removes it from the list\n",
    "print(item)\n",
    "print(my_list)\n",
    "my_list.remove('tomato') # removes the first 'tomato'\n",
    "print(my_list)\n"
   ]
  },
  {
   "cell_type": "markdown",
   "metadata": {},
   "source": [
    "### Sorting a list\n",
    "* `sort` method (a function specific to a particular object type like a list) will sort the list in place (i.e. it will modify the list and is undoable)\n",
    "* the `sorted` function, in contrast, will make a new variable that contains the sorted contents of the list, but it will leave the original list in the original form"
   ]
  },
  {
   "cell_type": "code",
   "execution_count": 18,
   "metadata": {},
   "outputs": [
    {
     "name": "stdout",
     "output_type": "stream",
     "text": [
      "['blue', 'purple', 'red', 'tomato', 'tomato']\n"
     ]
    }
   ],
   "source": [
    "# use sort to modify in place (this will change the list and can't be undone!)\n",
    "my_list.sort()\n",
    "print(my_list)"
   ]
  },
  {
   "cell_type": "code",
   "execution_count": 19,
   "metadata": {},
   "outputs": [
    {
     "name": "stdout",
     "output_type": "stream",
     "text": [
      "['blue', 'purple', 'red', 'tomato', 'tomato']\n",
      "['blue', 'purple', 'red', 'tomato', 'tomato']\n"
     ]
    }
   ],
   "source": [
    "# use sorted to make a new version of the list with sorted elements. Does NOT modify the original list\n",
    "s_list = sorted(my_list)\n",
    "print(my_list)\n",
    "print(s_list)"
   ]
  },
  {
   "cell_type": "markdown",
   "metadata": {},
   "source": [
    "## Lists vs Tuples\n",
    "**Lists** are *mutable sequences*, which can contain items of any type. They are defined using [ ]. They not only support indexing and slicing, but they can also be changed, reversed, appended to, extended, sorted, inserted into, and more.\n",
    "\n",
    "**Tuples** are *immutable sequences* of mixed elements. They are defined using ( ). They have a number of uses which we may cover eventually, particularly when we start writing out own functions."
   ]
  },
  {
   "cell_type": "code",
   "execution_count": 20,
   "metadata": {},
   "outputs": [
    {
     "name": "stdout",
     "output_type": "stream",
     "text": [
      "[68, 70, 59, 65, 77]\n",
      "(68, 70, 59, 65, 77)\n"
     ]
    }
   ],
   "source": [
    "heights_list = [68, 70, 59, 65, 77] # this is a list\n",
    "heights_tuple = (68, 70, 59, 65, 77) # this is a tuple\n",
    "print(heights_list)\n",
    "print(heights_tuple)"
   ]
  },
  {
   "cell_type": "code",
   "execution_count": 21,
   "metadata": {},
   "outputs": [
    {
     "name": "stdout",
     "output_type": "stream",
     "text": [
      "<class 'list'>\n",
      "<class 'tuple'>\n"
     ]
    }
   ],
   "source": [
    "print(type(heights_list))\n",
    "print(type(heights_tuple))"
   ]
  },
  {
   "cell_type": "markdown",
   "metadata": {},
   "source": [
    "### Can do many of the same things with lists and tuples, like looping over elements and indexing\n"
   ]
  },
  {
   "cell_type": "code",
   "execution_count": 22,
   "metadata": {},
   "outputs": [
    {
     "name": "stdout",
     "output_type": "stream",
     "text": [
      "68\n",
      "70\n",
      "59\n",
      "65\n",
      "77\n"
     ]
    }
   ],
   "source": [
    "# loop over elements\n",
    "for height in heights_tuple:\n",
    "    print(height)"
   ]
  },
  {
   "cell_type": "code",
   "execution_count": 23,
   "metadata": {},
   "outputs": [
    {
     "name": "stdout",
     "output_type": "stream",
     "text": [
      "65\n",
      "65\n"
     ]
    }
   ],
   "source": [
    "# index...\n",
    "print(heights_list[3])\n",
    "print(heights_tuple[3])"
   ]
  },
  {
   "cell_type": "markdown",
   "metadata": {},
   "source": [
    "### However, lists are mutable (changeble) and tuples are not!"
   ]
  },
  {
   "cell_type": "code",
   "execution_count": 24,
   "metadata": {},
   "outputs": [],
   "source": [
    "# can change the contents of a list\n",
    "heights_list[3] = 78"
   ]
  },
  {
   "cell_type": "code",
   "execution_count": 25,
   "metadata": {},
   "outputs": [
    {
     "ename": "TypeError",
     "evalue": "'tuple' object does not support item assignment",
     "output_type": "error",
     "traceback": [
      "\u001b[0;31m---------------------------------------------------------------------------\u001b[0m",
      "\u001b[0;31mTypeError\u001b[0m                                 Traceback (most recent call last)",
      "\u001b[0;32m/var/folders/8y/scw4yk6d3g99kqbs49wp8q3r0000gn/T/ipykernel_10313/2980616486.py\u001b[0m in \u001b[0;36m<module>\u001b[0;34m\u001b[0m\n\u001b[1;32m      1\u001b[0m \u001b[0;31m# but trying to change a tuple will give you an error\u001b[0m\u001b[0;34m\u001b[0m\u001b[0;34m\u001b[0m\u001b[0m\n\u001b[0;32m----> 2\u001b[0;31m \u001b[0mheights_tuple\u001b[0m\u001b[0;34m[\u001b[0m\u001b[0;36m3\u001b[0m\u001b[0;34m]\u001b[0m \u001b[0;34m=\u001b[0m \u001b[0;36m78\u001b[0m\u001b[0;34m\u001b[0m\u001b[0;34m\u001b[0m\u001b[0m\n\u001b[0m",
      "\u001b[0;31mTypeError\u001b[0m: 'tuple' object does not support item assignment"
     ]
    }
   ],
   "source": [
    "# but trying to change a tuple will give you an error\n",
    "heights_tuple[3] = 78"
   ]
  }
 ],
 "metadata": {
  "kernelspec": {
   "display_name": "Python 3 (ipykernel)",
   "language": "python",
   "name": "python3"
  },
  "language_info": {
   "codemirror_mode": {
    "name": "ipython",
    "version": 3
   },
   "file_extension": ".py",
   "mimetype": "text/x-python",
   "name": "python",
   "nbconvert_exporter": "python",
   "pygments_lexer": "ipython3",
   "version": "3.10.14"
  }
 },
 "nbformat": 4,
 "nbformat_minor": 4
}

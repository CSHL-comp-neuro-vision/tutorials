{
 "cells": [
  {
   "cell_type": "markdown",
   "metadata": {},
   "source": [
    "# Branching via conditional statement: if..elif..else..\n",
    "\n",
    "js (jserences@ucsd.edu), June 2022 for CSHL (adapted from CSS1 at UCSD)\n",
    "\n",
    "## Control flow.\n",
    "\n",
    "Without any control flow commands, instructions are executed in a simple, linear order, as shown below:\n",
    "\n",
    "<img src=\"img/straight-flow.jpg\" width=\"800\" />\n",
    "\n",
    "Conditionals allow the flow to branch."
   ]
  },
  {
   "cell_type": "markdown",
   "metadata": {},
   "source": [
    "## Conditional statement\n",
    "\n",
    "The basic control structure that allows branching is a conditional: do something only if a condition is met."
   ]
  },
  {
   "cell_type": "code",
   "execution_count": 1,
   "metadata": {
    "pycharm": {
     "name": "#%%\n"
    }
   },
   "outputs": [
    {
     "name": "stdout",
     "output_type": "stream",
     "text": [
      "hello!\n",
      "like omg! it is SUCH a pleasure to meet you!\n",
      "My name is John\n"
     ]
    }
   ],
   "source": [
    "polite = True\n",
    "\n",
    "if polite:\n",
    "    print(\"hello!\")\n",
    "    print(\"like omg! it is SUCH a pleasure to meet you!\")\n",
    "\n",
    "print(\"My name is John\")"
   ]
  },
  {
   "cell_type": "markdown",
   "metadata": {},
   "source": [
    "What this code is doing is:\n",
    "- set the variable `polite` to the boolean value True\n",
    "- if statement checks if the expression (`polite`) evaluates to True  \n",
    "    - if `polite` is True then it runs the code block (indicated by indentation) comprised of two print statements;\n",
    "    - if `polite` is not true (i.e., False) then it does not run those two print statements.\n",
    "- execution then moves on to the next line outside of the `if` block (the 3rd print statement)\n",
    "\n",
    "### Code blocks\n",
    "\n",
    "Note that here we are creating a code block via **indentation**.  We would get different results with different indentation.  Below, the indentation indicates that the second print statement is *outside* of the if block, and it will be run regardless of whether greet is true or false."
   ]
  },
  {
   "cell_type": "code",
   "execution_count": 2,
   "metadata": {
    "pycharm": {
     "name": "#%%\n"
    }
   },
   "outputs": [
    {
     "name": "stdout",
     "output_type": "stream",
     "text": [
      "it is a pleasure to meet you!\n",
      "My name is John\n"
     ]
    }
   ],
   "source": [
    "polite = False\n",
    "\n",
    "if polite:\n",
    "    print(\"hello!\")\n",
    "print(\"it is a pleasure to meet you!\")\n",
    "\n",
    "print(\"My name is John\")"
   ]
  },
  {
   "cell_type": "markdown",
   "metadata": {
    "pycharm": {
     "name": "#%% md\n"
    }
   },
   "source": [
    "Here is a simple diagram of what is going on:\n",
    "\n",
    "<img src=\"img/if-flow.jpg\" width=\"800\" />\n",
    "\n",
    "### else\n",
    "\n",
    "If we wanted to print one thing if `polite` is true, and a different thing if `polite` is false, when we would want to set up an `else` block:"
   ]
  },
  {
   "cell_type": "code",
   "execution_count": 3,
   "metadata": {
    "pycharm": {
     "name": "#%%\n"
    }
   },
   "outputs": [
    {
     "name": "stdout",
     "output_type": "stream",
     "text": [
      "hey.\n",
      "My name is John\n"
     ]
    }
   ],
   "source": [
    "polite = False\n",
    "\n",
    "if polite:\n",
    "    print(\"hello!\")\n",
    "else:\n",
    "    print(\"hey.\")\n",
    "\n",
    "print(\"My name is John\")"
   ]
  },
  {
   "cell_type": "markdown",
   "metadata": {},
   "source": [
    "\n",
    "Here is a simple diagram of what is going on:\n",
    "\n",
    "<img src=\"img/if-else-flow.jpg\" width=\"800\" />\n",
    "\n",
    "### elif\n",
    "\n",
    "Sometimes we want to have more than two branches, so we would want a control structure that can accomodate that:"
   ]
  },
  {
   "cell_type": "code",
   "execution_count": 4,
   "metadata": {
    "pycharm": {
     "name": "#%%\n"
    }
   },
   "outputs": [
    {
     "name": "stdout",
     "output_type": "stream",
     "text": [
      "Good day to you, my friend!\n",
      "My name is John\n"
     ]
    }
   ],
   "source": [
    "verbose = True\n",
    "polite = True\n",
    "\n",
    "if verbose:\n",
    "    print('Good day to you, my friend!')\n",
    "elif polite:\n",
    "    print('Hello!')\n",
    "else:\n",
    "    print('hey.')\n",
    "    \n",
    "print('My name is John')\n",
    "    "
   ]
  },
  {
   "cell_type": "markdown",
   "metadata": {},
   "source": [
    "\n",
    "Note that execution of the `if..elif..else` statement takes the first available branch, and then does not execute the other branches.  Here, `verbose` evaluated to True, so the first branch was taken and no other branches were (even though `polite` also evaluated to true).  Thus an `if..elif..else` block sets up a mutually exclusive branching structure.\n",
    "\n",
    "We can have as many `elif` after an `if` as we see fit, but it only makes sense to have one `else`.  (Note that an `else:` is logically equivalent to `elif True:`)\n",
    "\n",
    "\n",
    "Here is a simple diagram of what is going on:\n",
    "\n",
    "<img src=\"img/if-elif-else-flow.jpg\" width=\"800\" />"
   ]
  },
  {
   "cell_type": "markdown",
   "metadata": {},
   "source": [
    "### if..elif vs if..if..\n",
    "\n",
    "The mutually exclusive branching structure of `if..elif` is contrasted with a series of independent `if` statements, that each presents an optional branch, independent of the others.\n",
    "\n",
    "\n",
    "Here is a simple diagram of the difference:\n",
    "\n",
    "<img src=\"img/if-if-flow.jpg\" width=\"800\" />\n",
    "\n",
    "Consider the two blocks of code below.  What will each print?"
   ]
  },
  {
   "cell_type": "code",
   "execution_count": 5,
   "metadata": {
    "pycharm": {
     "name": "#%%\n"
    }
   },
   "outputs": [],
   "source": [
    "A = True\n",
    "B = True\n",
    "C = False"
   ]
  },
  {
   "cell_type": "code",
   "execution_count": 6,
   "metadata": {
    "pycharm": {
     "name": "#%%\n"
    }
   },
   "outputs": [
    {
     "name": "stdout",
     "output_type": "stream",
     "text": [
      "A is true\n"
     ]
    }
   ],
   "source": [
    "if A:\n",
    "    print('A is true')\n",
    "elif B:\n",
    "    print('B is true')\n",
    "elif C:\n",
    "    print('C is true')"
   ]
  },
  {
   "cell_type": "code",
   "execution_count": 7,
   "metadata": {
    "pycharm": {
     "name": "#%%\n"
    }
   },
   "outputs": [
    {
     "name": "stdout",
     "output_type": "stream",
     "text": [
      "A is true\n",
      "B is true\n"
     ]
    }
   ],
   "source": [
    "if A:\n",
    "    print('A is true')\n",
    "if B:\n",
    "    print('B is true')\n",
    "if C:\n",
    "    print('C is true')"
   ]
  },
  {
   "cell_type": "markdown",
   "metadata": {},
   "source": [
    "Note also that an else statement is attached to exactly one if..elif.. statement.  So what will the code below do?"
   ]
  },
  {
   "cell_type": "code",
   "execution_count": 8,
   "metadata": {
    "pycharm": {
     "name": "#%%\n"
    }
   },
   "outputs": [
    {
     "name": "stdout",
     "output_type": "stream",
     "text": [
      "A is true\n",
      "B is true\n",
      "neither A nor B nor C is not true\n"
     ]
    }
   ],
   "source": [
    "if A:\n",
    "    print('A is true')\n",
    "if B:\n",
    "    print('B is true')\n",
    "if C:\n",
    "    print('C is true')\n",
    "else:\n",
    "    print('neither A nor B nor C is not true')"
   ]
  },
  {
   "cell_type": "markdown",
   "metadata": {},
   "source": [
    "Note that what the code above *prints* deviates from reality!  The code runs just fine, but it will print \"neither A nor B nor C are true\" even when A or B are true!  This is the trickiest sort of bug to fix, because the computer does not know that anything is wrong, so it cheerfully does the incorrect thing.\n",
    "\n",
    "How would we fix the code above to do work correctly?\n",
    "\n",
    "## Logical operators\n",
    "\n",
    "While working with a single boolean value can solve some problems, often we want to specify a more complicated logical expression by combining boolean values from many comparisons.  For instance, to make the code above work, we need to figure out if A, B, and C are all False.\n",
    "\n",
    "These kinds of boolean operations can be done with\n",
    "\n",
    "`A and B`: returns True if both A and B are true.\n",
    "`A or B`: returns True if either A or B are true.\n",
    "`not A`: returns True if A is False."
   ]
  },
  {
   "cell_type": "code",
   "execution_count": 9,
   "metadata": {
    "pycharm": {
     "name": "#%%\n"
    }
   },
   "outputs": [
    {
     "name": "stdout",
     "output_type": "stream",
     "text": [
      "A is true\n",
      "B is true\n"
     ]
    }
   ],
   "source": [
    "if A:\n",
    "    print('A is true')\n",
    "if B:\n",
    "    print('B is true')\n",
    "if C:\n",
    "    print('C is true')\n",
    "if not A and not B and not C:\n",
    "    # alternatively:  not (A or B or C)\n",
    "    print('neither A nor B nor C are true')"
   ]
  },
  {
   "cell_type": "markdown",
   "metadata": {},
   "source": [
    "## Comparison operators\n",
    "\n",
    "So far we have written if..else statements to evaluate based on pre-defined boolean variables, but a much more common scenario is to compare values, and define new boolean values that way.  To this end, Python has a number of comparison operators:\n",
    "\n",
    "`A == B`: returns True if A and B are equal   \n",
    "`A != B`: returns True if A and B are not equal   \n",
    "`A < B` (or  `A > B`): return True if A is less than B (or greater than B)\n",
    "`A <= B` (or `A >= B`): return True if A is less than or equal to B (or greater than or equal to B)"
   ]
  },
  {
   "cell_type": "code",
   "execution_count": 10,
   "metadata": {
    "pycharm": {
     "name": "#%%\n"
    }
   },
   "outputs": [
    {
     "data": {
      "text/plain": [
       "True"
      ]
     },
     "execution_count": 10,
     "metadata": {},
     "output_type": "execute_result"
    }
   ],
   "source": [
    "5 == 5.0"
   ]
  },
  {
   "cell_type": "code",
   "execution_count": 11,
   "metadata": {
    "pycharm": {
     "name": "#%%\n"
    }
   },
   "outputs": [
    {
     "data": {
      "text/plain": [
       "False"
      ]
     },
     "execution_count": 11,
     "metadata": {},
     "output_type": "execute_result"
    }
   ],
   "source": [
    "5 != 5.0"
   ]
  },
  {
   "cell_type": "code",
   "execution_count": 12,
   "metadata": {
    "pycharm": {
     "name": "#%%\n"
    }
   },
   "outputs": [
    {
     "data": {
      "text/plain": [
       "False"
      ]
     },
     "execution_count": 12,
     "metadata": {},
     "output_type": "execute_result"
    }
   ],
   "source": [
    "5 > 5"
   ]
  },
  {
   "cell_type": "code",
   "execution_count": 13,
   "metadata": {
    "pycharm": {
     "name": "#%%\n"
    }
   },
   "outputs": [
    {
     "data": {
      "text/plain": [
       "True"
      ]
     },
     "execution_count": 13,
     "metadata": {},
     "output_type": "execute_result"
    }
   ],
   "source": [
    "5 >= 5"
   ]
  },
  {
   "cell_type": "markdown",
   "metadata": {},
   "source": [
    "### Comparison operators on strings\n",
    "\n",
    "Comparison operators are also overloaded for strings.  Equality is case sensitive, and greater/less than correspond to unicode character index order."
   ]
  },
  {
   "cell_type": "code",
   "execution_count": 14,
   "metadata": {
    "pycharm": {
     "name": "#%%\n"
    }
   },
   "outputs": [
    {
     "data": {
      "text/plain": [
       "True"
      ]
     },
     "execution_count": 14,
     "metadata": {},
     "output_type": "execute_result"
    }
   ],
   "source": [
    "'abracadabra' == 'abracadabra'"
   ]
  },
  {
   "cell_type": "code",
   "execution_count": 15,
   "metadata": {
    "pycharm": {
     "name": "#%%\n"
    }
   },
   "outputs": [
    {
     "data": {
      "text/plain": [
       "False"
      ]
     },
     "execution_count": 15,
     "metadata": {},
     "output_type": "execute_result"
    }
   ],
   "source": [
    "'Abracadabra' == 'abracadabra'"
   ]
  },
  {
   "cell_type": "code",
   "execution_count": 16,
   "metadata": {
    "pycharm": {
     "name": "#%%\n"
    }
   },
   "outputs": [
    {
     "data": {
      "text/plain": [
       "False"
      ]
     },
     "execution_count": 16,
     "metadata": {},
     "output_type": "execute_result"
    }
   ],
   "source": [
    "'a' > 'b'"
   ]
  },
  {
   "cell_type": "code",
   "execution_count": 17,
   "metadata": {
    "pycharm": {
     "name": "#%%\n"
    }
   },
   "outputs": [
    {
     "data": {
      "text/plain": [
       "True"
      ]
     },
     "execution_count": 17,
     "metadata": {},
     "output_type": "execute_result"
    }
   ],
   "source": [
    "'a' < 'b'"
   ]
  },
  {
   "cell_type": "markdown",
   "metadata": {},
   "source": [
    "**Case and unicode character index**   However, note that behavior for lower/uppercase letters and symbols may be unintuitive."
   ]
  },
  {
   "cell_type": "code",
   "execution_count": 18,
   "metadata": {
    "pycharm": {
     "name": "#%%\n"
    }
   },
   "outputs": [
    {
     "data": {
      "text/plain": [
       "True"
      ]
     },
     "execution_count": 18,
     "metadata": {},
     "output_type": "execute_result"
    }
   ],
   "source": [
    "'A' < 'a'"
   ]
  },
  {
   "cell_type": "code",
   "execution_count": 19,
   "metadata": {
    "pycharm": {
     "name": "#%%\n"
    }
   },
   "outputs": [
    {
     "data": {
      "text/plain": [
       "True"
      ]
     },
     "execution_count": 19,
     "metadata": {},
     "output_type": "execute_result"
    }
   ],
   "source": [
    "'Z' < 'a'"
   ]
  },
  {
   "cell_type": "code",
   "execution_count": 20,
   "metadata": {
    "pycharm": {
     "name": "#%%\n"
    }
   },
   "outputs": [
    {
     "data": {
      "text/plain": [
       "True"
      ]
     },
     "execution_count": 20,
     "metadata": {},
     "output_type": "execute_result"
    }
   ],
   "source": [
    "'[' < 'a' "
   ]
  },
  {
   "cell_type": "code",
   "execution_count": 21,
   "metadata": {
    "pycharm": {
     "name": "#%%\n"
    }
   },
   "outputs": [
    {
     "data": {
      "text/plain": [
       "True"
      ]
     },
     "execution_count": 21,
     "metadata": {},
     "output_type": "execute_result"
    }
   ],
   "source": [
    "'Z' < '['"
   ]
  },
  {
   "cell_type": "markdown",
   "metadata": {},
   "source": [
    "Comparison of characters is underpinned by comparing the [UTF-8 integer code of each character](https://www.utf8-chartable.de/unicode-utf8-table.pl?utf8=dec).  Generally, we won't worry about the mechanics of character encoding, or the peculiarities of sorting strings by their unicode integers, but we can get a glimpse as to what is going on via the `ord()` function, which returns the unicode integer point for a given character.\n",
    "\n"
   ]
  },
  {
   "cell_type": "code",
   "execution_count": 22,
   "metadata": {
    "pycharm": {
     "name": "#%%\n"
    }
   },
   "outputs": [
    {
     "data": {
      "text/plain": [
       "97"
      ]
     },
     "execution_count": 22,
     "metadata": {},
     "output_type": "execute_result"
    }
   ],
   "source": [
    "ord('a')"
   ]
  },
  {
   "cell_type": "markdown",
   "metadata": {},
   "source": [
    "## Putting it together\n",
    "\n",
    "We can combine all of these things together.  For instance, let's say we want to evaluate whether someone's age is odd and between the numbers 17 and 43 (inclusive)."
   ]
  },
  {
   "cell_type": "code",
   "execution_count": 23,
   "metadata": {
    "pycharm": {
     "name": "#%%\n"
    }
   },
   "outputs": [
    {
     "name": "stdout",
     "output_type": "stream",
     "text": [
      "age is odd and between 17 and 43\n"
     ]
    }
   ],
   "source": [
    "age = 43\n",
    "\n",
    "if (age % 2) == 1 and age >= 17 and age <= 43:\n",
    "    print('age is odd and between 17 and 43')"
   ]
  },
  {
   "cell_type": "markdown",
   "metadata": {},
   "source": [
    "## Properties of conditionals\n",
    "\n",
    "- All conditionals start with an `if`, can have an optional and variable number of `elif`'s and an optional `else` statement\n",
    "- Conditionals can take any expression that can be evaluated as `True` or `False`.\n",
    "- At most one component (`if` / `elif` / `else`) of a conditional will run\n",
    "- The order of conditional blocks is always `if` then `elif`(s) then `else`\n",
    "- Code is only ever executed if the condition is met\n",
    "- Note: often useful to end a conditional with an `else` that will raise an error if none of the expected condtions are met, like this: `else: raise ValueError('Somethign went wrong in this conditional')` but replace the error message with something more meaningful to help you track down the error. "
   ]
  }
 ],
 "metadata": {
  "kernelspec": {
   "display_name": "Python 3 (ipykernel)",
   "language": "python",
   "name": "python3"
  },
  "language_info": {
   "codemirror_mode": {
    "name": "ipython",
    "version": 3
   },
   "file_extension": ".py",
   "mimetype": "text/x-python",
   "name": "python",
   "nbconvert_exporter": "python",
   "pygments_lexer": "ipython3",
   "version": "3.9.7"
  }
 },
 "nbformat": 4,
 "nbformat_minor": 4
}

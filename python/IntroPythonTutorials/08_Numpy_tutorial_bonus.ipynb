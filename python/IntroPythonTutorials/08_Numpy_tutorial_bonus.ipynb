{
 "cells": [
  {
   "cell_type": "markdown",
   "metadata": {},
   "source": [
    "# Some more advanced numpy/matplotlib stuff related to basic tutorial \n",
    "\n",
    "* JS (jserences@ucsd.edu), June 2022 for CSHL\n",
    "\n",
    "* TOC: \n",
    "    * generating random numbers from a normal distribution (can extend to other distributions as well)\n",
    "        * also includes demo of interacting with ax and hist using matplotlib\n",
    "    * upcasting when combining different data types\n",
    "    * set logic\n",
    "    * concatenating, or stacking, arrays\n",
    "    * fancy indexing (using an array to index into another array - and yes, it really is called fancy indexing)\n",
    "    * shape manipulation"
   ]
  },
  {
   "cell_type": "code",
   "execution_count": 1,
   "metadata": {},
   "outputs": [],
   "source": [
    "import numpy as np\n",
    "import matplotlib.pyplot as plt\n",
    "from scipy.stats import norm"
   ]
  },
  {
   "cell_type": "markdown",
   "metadata": {},
   "source": [
    "## Numpy random.randn: random draws from a normal distribution N(0,1)...i.e., mean 0 and variance 1. \n",
    "* To change mean(m) and variance (v), use: m + (np.random.randn(x) * np.sqrt(v)) where x is the number of draws"
   ]
  },
  {
   "cell_type": "code",
   "execution_count": 2,
   "metadata": {},
   "outputs": [
    {
     "name": "stdout",
     "output_type": "stream",
     "text": [
      "Mean: -0.0038742357168859566, Var: 0.9961975971973596\n",
      "Mean: 9.992436074451753, Var: 3.013250266348945\n"
     ]
    }
   ],
   "source": [
    "# define number of samples\n",
    "x = 100000\n",
    "\n",
    "# drawn from normal with mean 0 and variance 1\n",
    "randn_array = np.random.randn(x)  \n",
    "print(f'Mean: {np.mean(randn_array)}, Var: {np.var(randn_array)}')\n",
    "\n",
    "# drawn from normal with mean 10 and variance 3\n",
    "m = 10\n",
    "v = 3\n",
    "randn_array = m + (np.random.randn(x) * np.sqrt(v)) \n",
    "print(f'Mean: {np.mean(randn_array)}, Var: {np.var(randn_array)}')\n"
   ]
  },
  {
   "cell_type": "markdown",
   "metadata": {},
   "source": [
    "## Use randn to generate draws from a normal distribtion with mean = mu and std = sig and then plot a histogram"
   ]
  },
  {
   "cell_type": "code",
   "execution_count": 3,
   "metadata": {},
   "outputs": [
    {
     "data": {
      "image/png": "[encoded data removed]",
      "text/plain": [
       "<Figure size 432x288 with 2 Axes>"
      ]
     },
     "metadata": {
      "needs_background": "light"
     },
     "output_type": "display_data"
    }
   ],
   "source": [
    "# shift the mean and scale the variance for a N(mu,var)\n",
    "samples = 1000\n",
    "mu = 4\n",
    "sig = 20\n",
    "num_bins = 30\n",
    "\n",
    "# generate the array of rand numbers \n",
    "rand_array = mu + (sig * np.random.randn(samples))   # drawn from normal with mean mu and variance sig\n",
    "\n",
    "# make multiple axes...\n",
    "fig, (ax1,ax2) = plt.subplots(2,1, sharex=True)\n",
    "\n",
    "# generate the histogram, note density == 1 (so unit area)\n",
    "ax1.hist(rand_array, num_bins, density=0)\n",
    "ax1.set_ylabel('Trial count')\n",
    "\n",
    "# generate a pdf evaled at 'bins' to draw a smooth function - this works because we used randn to generate the data\n",
    "n, bins, patches = ax2.hist(rand_array, num_bins, density=1)\n",
    "\n",
    "y = norm.pdf(bins, mu, sig)\n",
    "ax2.plot(bins, y, 'k--', linewidth = 6)\n",
    "ax2.set_xlabel('Random Variable')\n",
    "ax2.set_ylabel('Probability density')\n",
    "\n",
    "# show the plot\n",
    "plt.show()"
   ]
  },
  {
   "cell_type": "markdown",
   "metadata": {},
   "source": [
    "## When dealing with muliple arrays of different data types, resulting array will take the form of the highest precision input array (upcasting)..."
   ]
  },
  {
   "cell_type": "code",
   "execution_count": 4,
   "metadata": {
    "scrolled": true
   },
   "outputs": [
    {
     "name": "stdout",
     "output_type": "stream",
     "text": [
      "x data type:  int32\n",
      "y data type:  float64\n",
      "[[-0.          0.0656192  -0.04593141  2.07239602  0.55127538  1.43422313\n",
      "  -0.51088881  6.30205256 -4.0172986   3.35095977]]\n",
      "z data type:  float64\n"
     ]
    }
   ],
   "source": [
    "x = np.arange(10, dtype='int32')\n",
    "print('x data type: ', x.dtype)\n",
    "\n",
    "y = np.random.randn(1,10)\n",
    "print('y data type: ', y.dtype)\n",
    "\n",
    "# now multiply the int32 array with the float64 array and answer should be the higher precision of the two (float64)\n",
    "z = x * y \n",
    "print(z)\n",
    "print('z data type: ', z.dtype)"
   ]
  },
  {
   "cell_type": "markdown",
   "metadata": {},
   "source": [
    "## Set logic...unions, intersections, unique\n",
    "* combine all unique elements across sets, find overlap, find unique elements in array, etc..."
   ]
  },
  {
   "cell_type": "code",
   "execution_count": 5,
   "metadata": {
    "scrolled": false
   },
   "outputs": [
    {
     "name": "stdout",
     "output_type": "stream",
     "text": [
      "[ 0  1  2  3  4  5  6  7  8  9 10 11 12 13 14 15 16 17 18 19]\n",
      "[ 0.  1.  2.  3.  4.  5.  6.  7.  8.  9. 10. 11. 12. 13. 14. 15. 16. 17.\n",
      " 18. 19. 20.]\n",
      "[ 0.  1.  2.  3.  4.  5.  6.  7.  8.  9. 10. 11. 12. 13. 14. 15. 16. 17.\n",
      " 18. 19. 20.]\n",
      "[ 0.  1.  2.  3.  4.  5.  6.  7.  8.  9. 10. 11. 12. 13. 14. 15. 16. 17.\n",
      " 18. 19.]\n",
      "[ 0.  1.  2.  3.  4.  5.  6.  7.  8.  9. 10. 11. 12. 13. 14. 15. 16. 17.\n",
      " 18. 19. 20.]\n"
     ]
    }
   ],
   "source": [
    "x = np.arange(20)\n",
    "y = np.linspace(0, 20, 21)\n",
    "print(x)\n",
    "print(y)\n",
    "\n",
    "z = np.union1d(x,y)\n",
    "print(z)\n",
    "\n",
    "z = np.intersect1d(x,y)\n",
    "print(z)\n",
    "\n",
    "z = np.unique([np.append(x,y)])\n",
    "print(z)"
   ]
  },
  {
   "cell_type": "markdown",
   "metadata": {},
   "source": [
    "## Iterating over numpy arrays\n",
    "* goes down first dim (rows)\n",
    "* can use ndarray.flat method to flatten ND array in 1D array"
   ]
  },
  {
   "cell_type": "code",
   "execution_count": 6,
   "metadata": {},
   "outputs": [
    {
     "name": "stdout",
     "output_type": "stream",
     "text": [
      "[[-0.02467046 -0.22388641  0.52925487]\n",
      " [-1.31805773  0.61306662  0.69206599]]\n",
      "\n",
      "\n",
      "Row 0 [-0.02467046 -0.22388641  0.52925487]\n",
      "Row 1 [-1.31805773  0.61306662  0.69206599]\n"
     ]
    }
   ],
   "source": [
    "x = np.random.randn(2,3)\n",
    "print(x)\n",
    "print('\\n')\n",
    "for c,i in enumerate(x):\n",
    "    print('Row', str(c), i)"
   ]
  },
  {
   "cell_type": "code",
   "execution_count": 7,
   "metadata": {},
   "outputs": [
    {
     "name": "stdout",
     "output_type": "stream",
     "text": [
      "(2, 4, 3)\n",
      "0.4826819998445526\n",
      "0.5418327659482125\n",
      "0.3345984082061646\n",
      "0.2955094825569796\n",
      "0.27183329168865633\n",
      "0.49329320883411576\n",
      "0.6080753477609833\n",
      "0.8711987920192734\n",
      "0.32836886510533925\n",
      "0.6764589448783156\n",
      "0.4775722819966197\n",
      "0.1734888105376693\n",
      "0.4550665279307953\n",
      "0.41607831774603576\n",
      "0.8466383406227028\n",
      "0.25083002967528367\n",
      "0.4610998023207492\n",
      "0.8309260983581103\n",
      "0.7674752272358377\n",
      "0.5024954710292955\n",
      "0.2453425081303906\n",
      "0.286833413817832\n",
      "0.020482451426460657\n",
      "0.05314820054248137\n"
     ]
    }
   ],
   "source": [
    "# can also iterate over all entries in the array using 'flat'\n",
    "# will proceed along 1st row, then to 2nd row, etc.\n",
    "x = np.random.rand(2,4,3)\n",
    "print(x.shape)\n",
    "for a in x.flat:\n",
    "    print(a)"
   ]
  },
  {
   "cell_type": "markdown",
   "metadata": {},
   "source": [
    "## Concatenating arrays (stacking)"
   ]
  },
  {
   "cell_type": "code",
   "execution_count": 8,
   "metadata": {},
   "outputs": [
    {
     "name": "stdout",
     "output_type": "stream",
     "text": [
      "shape of z after vert stacking x,y:  (10, 6)\n",
      "shape of z after horizontal stacking x,y:  (5, 12)\n",
      "shape of z after column stacking x,y:  (5, 12)\n",
      "shape of z after vertical concat x,y:  (10, 6)\n",
      "shape of z after horizontal concat x,y:  (5, 12)\n"
     ]
    }
   ],
   "source": [
    "# use floor and ceil to make two 5x6 arrays of rand numbers\n",
    "x = np.floor(np.random.rand(5,6)*10)\n",
    "y = np.ceil(np.random.rand(5,6)*2)\n",
    "\n",
    "# vertical stacking of arrays...will make a 10x6\n",
    "z = np.vstack((x,y))\n",
    "print('shape of z after vert stacking x,y: ', z.shape)\n",
    "\n",
    "# horizontal stacking of arrays...will make a 5x12\n",
    "z = np.hstack((x,y))\n",
    "print('shape of z after horizontal stacking x,y: ', z.shape)\n",
    "\n",
    "# column stacking of arrays...will make a 5x12\n",
    "z = np.column_stack((x,y))\n",
    "print('shape of z after column stacking x,y: ', z.shape)\n",
    "\n",
    "# concatenate allows stacking along specified dim\n",
    "z = np.concatenate((x,y),axis=0)   # vstack - stack rows on top of each other\n",
    "print('shape of z after vertical concat x,y: ', z.shape)\n",
    "\n",
    "z = np.concatenate((x,y),axis=1)   # hstack - stack columns next to each other\n",
    "print('shape of z after horizontal concat x,y: ', z.shape)"
   ]
  },
  {
   "cell_type": "markdown",
   "metadata": {},
   "source": [
    "## Fancy indexing...using arrays to index arrays - used all the time in data analysis...\n",
    "* fancy indexing always makes a COPY of the data (unlike slicing which creates a view)!!! "
   ]
  },
  {
   "cell_type": "code",
   "execution_count": 9,
   "metadata": {},
   "outputs": [
    {
     "name": "stdout",
     "output_type": "stream",
     "text": [
      "[[0.81233535 0.839211   0.29288193 0.59397874]\n",
      " [0.55553384 0.5292957  0.56503646 0.03998785]\n",
      " [0.34617365 0.87559319 0.83379644 0.20204789]]\n"
     ]
    },
    {
     "data": {
      "text/plain": [
       "0.20204789016720826"
      ]
     },
     "execution_count": 9,
     "metadata": {},
     "output_type": "execute_result"
    }
   ],
   "source": [
    "# define an array\n",
    "x = np.random.rand(3,4)\n",
    "\n",
    "print(x)\n",
    "\n",
    "# index array - can be a tuple, in this case to pull out the lower right entry\n",
    "y = (2,3)\n",
    "\n",
    "# index\n",
    "x[y]"
   ]
  },
  {
   "cell_type": "code",
   "execution_count": 10,
   "metadata": {},
   "outputs": [
    {
     "name": "stdout",
     "output_type": "stream",
     "text": [
      "[[0.34617365 0.87559319 0.83379644 0.20204789]\n",
      " [0.55553384 0.5292957  0.56503646 0.03998785]\n",
      " [0.81233535 0.839211   0.29288193 0.59397874]]\n"
     ]
    }
   ],
   "source": [
    "# this will extract the 3rd row, then the 2nd row, then the first row (flipud)\n",
    "print(x[[2,1,0]])"
   ]
  },
  {
   "cell_type": "code",
   "execution_count": 11,
   "metadata": {},
   "outputs": [
    {
     "name": "stdout",
     "output_type": "stream",
     "text": [
      "[[0.81233535 0.839211   0.29288193 0.59397874]\n",
      " [0.55553384 0.5292957  0.56503646 0.03998785]\n",
      " [0.34617365 0.87559319 0.83379644 0.20204789]]\n"
     ]
    },
    {
     "data": {
      "text/plain": [
       "array([0.5292957 , 0.83379644])"
      ]
     },
     "execution_count": 11,
     "metadata": {},
     "output_type": "execute_result"
    }
   ],
   "source": [
    "# or can pass in multiple arrays...will return a 1D array \n",
    "# corresponding to each set of tuples (1,1) and (2,2) in this case\n",
    "print(x)\n",
    "x[[1,2],[1,2]]"
   ]
  },
  {
   "cell_type": "markdown",
   "metadata": {},
   "source": [
    "## Additional methods for shape manipulation"
   ]
  },
  {
   "cell_type": "code",
   "execution_count": 12,
   "metadata": {},
   "outputs": [
    {
     "name": "stdout",
     "output_type": "stream",
     "text": [
      "[[ -2.  -2.  -2.   1.  -3.   2.  -9.  -5.]\n",
      " [ -0.  -3.  -5.  10.   3. -10.  10.   2.]\n",
      " [ -8.   3.  -1.  -1.  -2.  -3.   2.  -6.]\n",
      " [ -7.   3.  -2.   1.  -6.   0.   1.  -5.]\n",
      " [  2.  -2.   7.  -5.   9.   1.  -6.  -3.]\n",
      " [  3.   1.  -6.  -4.  -7.  -2.  10.  -2.]]\n",
      "Shape of x:  (6, 8) \n",
      "Shape of flattened x: (48,)\n",
      "[[ -2.  -3.  -0.   3.  -8.  -2.  -7.  -6.   2.   9.   3.  -7.]\n",
      " [ -2.   2.  -3. -10.   3.  -3.   3.   0.  -2.   1.   1.  -2.]\n",
      " [ -2.  -9.  -5.  10.  -1.   2.  -2.   1.   7.  -6.  -6.  10.]\n",
      " [  1.  -5.  10.   2.  -1.  -6.   1.  -5.  -5.  -3.  -4.  -2.]]\n",
      "Reshaped x:  (12, 4) \n",
      "Reshaped x transposed:  (4, 12)\n"
     ]
    }
   ],
   "source": [
    "x = np.round(np.random.randn(6,8)*5)   # generate some random data from N(0,5), then round \n",
    "print(x)\n",
    "\n",
    "# flatten the array\n",
    "y = x.ravel()   \n",
    "print('Shape of x: ', x.shape, '\\nShape of flattened x:', y.shape)  # newline example + multiple outputs...\n",
    "\n",
    "# reshape\n",
    "x = x.reshape(12,4)   # 48 element array reshaped from a 6x8 to a 12x4\n",
    "\n",
    "# transpose - swap row/column\n",
    "print(x.T)\n",
    "print('Reshaped x: ', x.shape, '\\nReshaped x transposed: ', x.T.shape)"
   ]
  }
 ],
 "metadata": {
  "kernelspec": {
   "display_name": "Python 3 (ipykernel)",
   "language": "python",
   "name": "python3"
  },
  "language_info": {
   "codemirror_mode": {
    "name": "ipython",
    "version": 3
   },
   "file_extension": ".py",
   "mimetype": "text/x-python",
   "name": "python",
   "nbconvert_exporter": "python",
   "pygments_lexer": "ipython3",
   "version": "3.9.7"
  }
 },
 "nbformat": 4,
 "nbformat_minor": 4
}

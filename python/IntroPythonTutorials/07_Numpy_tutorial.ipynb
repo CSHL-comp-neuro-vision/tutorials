{
 "cells": [
  {
   "cell_type": "markdown",
   "metadata": {},
   "source": [
    "# NumPy intro\n",
    "\n",
    "* js (jserences@ucsd.edu), June 2022 for CSHL\n",
    "\n",
    "* Allows fast matrix operations and is the core numerical computing package for python\n",
    "\n",
    "-  [full list of routines](https://docs.scipy.org/doc/numpy-dev/reference/routines.html#routines)"
   ]
  },
  {
   "cell_type": "code",
   "execution_count": 1,
   "metadata": {},
   "outputs": [],
   "source": [
    "# import numpy and other stuff for this tutorial\n",
    "import numpy as np\n",
    "from numpy import pi\n",
    "import matplotlib.pyplot as plt"
   ]
  },
  {
   "cell_type": "markdown",
   "metadata": {},
   "source": [
    "## Initialize a numpy array object and do a few basic operations\n",
    "* the numpy array class, or object, is referred to as a **ndarray** "
   ]
  },
  {
   "cell_type": "code",
   "execution_count": 2,
   "metadata": {},
   "outputs": [
    {
     "name": "stdout",
     "output_type": "stream",
     "text": [
      "[0 1 2 3 4 5 6 7 8 9]\n"
     ]
    },
    {
     "data": {
      "text/plain": [
       "(10,)"
      ]
     },
     "execution_count": 2,
     "metadata": {},
     "output_type": "execute_result"
    }
   ],
   "source": [
    "# set up an array and figure out shape...    \n",
    "my_array = np.arange(10)    # the interval includes `start` but excludes `stop`, overal interval [start...stop-1]\n",
    "print(my_array)\n",
    "my_array.shape     "
   ]
  },
  {
   "cell_type": "code",
   "execution_count": 3,
   "metadata": {
    "scrolled": true
   },
   "outputs": [
    {
     "name": "stdout",
     "output_type": "stream",
     "text": [
      "(10,)\n",
      "(2, 5)\n",
      "[[0 1 2 3 4]\n",
      " [5 6 7 8 9]]\n",
      "(5, 2)\n",
      "[[0 1]\n",
      " [2 3]\n",
      " [4 5]\n",
      " [6 7]\n",
      " [8 9]]\n"
     ]
    }
   ],
   "source": [
    "# reshape array\n",
    "my_array = np.arange(10)\n",
    "print(my_array.shape)   \n",
    "\n",
    "my_array = my_array.reshape(2,5)   # why is (2,5) and (5,2) ok but (2,6) not ok? \n",
    "print(my_array.shape)   \n",
    "print(my_array)\n",
    "\n",
    "# can also directly re-assign the shape\n",
    "my_array.shape = 5,2\n",
    "print(my_array.shape)\n",
    "print(my_array)"
   ]
  },
  {
   "cell_type": "code",
   "execution_count": 4,
   "metadata": {},
   "outputs": [
    {
     "name": "stdout",
     "output_type": "stream",
     "text": [
      "[[[ 0  1  2  3  4  5  6]\n",
      "  [ 7  8  9 10 11 12 13]\n",
      "  [14 15 16 17 18 19 20]]\n",
      "\n",
      " [[21 22 23 24 25 26 27]\n",
      "  [28 29 30 31 32 33 34]\n",
      "  [35 36 37 38 39 40 41]]]\n"
     ]
    },
    {
     "data": {
      "text/plain": [
       "(2, 3, 7)"
      ]
     },
     "execution_count": 4,
     "metadata": {},
     "output_type": "execute_result"
    }
   ],
   "source": [
    "# neat trick...can also reshape with 'shape' and use a -1 which means 'whatever works' \n",
    "# be careful though - better to not leave things to chance and to be explicit whenever possible\n",
    "my_array = np.arange(42)\n",
    "my_array.shape = 2,3,-1\n",
    "print(my_array)\n",
    "my_array.shape"
   ]
  },
  {
   "cell_type": "markdown",
   "metadata": {},
   "source": [
    "\n",
    "## SUPER DUPER IMPORTANT THING - read this!\n",
    "    \n",
    "Matlab and Fortran use column-major layout by default, whereas C and C++ and Python use row-major layout. This refers to how information in multiple dim arrays are stored in memory (whether column elements are contiguous in memory or row elements are contiguous). \n",
    "\n",
    "Since Matlab and Python use different defaults, it is super important that you keep this in mind if you are transitioning to python from matlab, esp if you are translating analysis code that requires reshaping or other matrix manipulations (you will get different results). If you want to emulate the matlab way in your python code, you can specify column-major order explicitly. For example, you can do:\n",
    "    \n",
    "`np.reshape(new_dims, order='F')`\n",
    "    \n",
    "to obtain column major operations (with the `F` standing for Fortran order)\n",
    "    \n",
    "[row vs column major order](https://en.wikipedia.org/wiki/Row-_and_column-major_order)\n",
    "    \n"
   ]
  },
  {
   "cell_type": "markdown",
   "metadata": {},
   "source": [
    "## Transpose array - swap row/column in 2D array"
   ]
  },
  {
   "cell_type": "code",
   "execution_count": 5,
   "metadata": {},
   "outputs": [
    {
     "data": {
      "text/plain": [
       "(20, 5)"
      ]
     },
     "execution_count": 5,
     "metadata": {},
     "output_type": "execute_result"
    }
   ],
   "source": [
    "my_array = np.arange(100)\n",
    "my_array = my_array.reshape(5,20)\n",
    "my_array.shape\n",
    "my_array = my_array.T\n",
    "my_array.shape"
   ]
  },
  {
   "cell_type": "markdown",
   "metadata": {},
   "source": [
    "## data types (and remember - strong typed language)"
   ]
  },
  {
   "cell_type": "code",
   "execution_count": 6,
   "metadata": {},
   "outputs": [
    {
     "name": "stdout",
     "output_type": "stream",
     "text": [
      "Dims of data:  2\n",
      "Size of each element (bytes):  8\n",
      "Total number of elements in array:  100\n",
      "Name of data type:  int64\n"
     ]
    }
   ],
   "source": [
    "print('Dims of data: ', my_array.ndim)                              # number of dims\n",
    "print('Size of each element (bytes): ', my_array.itemsize)          # size of each element in bytes\n",
    "print('Total number of elements in array: ', my_array.size)         # total number of elements in array\n",
    "print('Name of data type: ', my_array.dtype.name)                   # name of data type (float, int32, int64 etc)"
   ]
  },
  {
   "cell_type": "code",
   "execution_count": 7,
   "metadata": {},
   "outputs": [
    {
     "data": {
      "text/plain": [
       "'float64'"
      ]
     },
     "execution_count": 7,
     "metadata": {},
     "output_type": "execute_result"
    }
   ],
   "source": [
    "# will infer data type based on input values...here we have 1 float so the whole thing is float\n",
    "float_array = np.array([1.2,2,3])  \n",
    "float_array.dtype.name             # or np.dtype"
   ]
  },
  {
   "cell_type": "markdown",
   "metadata": {},
   "source": [
    "<div class=\"alert alert-success\">\n",
    "what happens if you initialize with floating point numbers but you declare an int data type?\n",
    "</div>"
   ]
  },
  {
   "cell_type": "code",
   "execution_count": 8,
   "metadata": {},
   "outputs": [
    {
     "data": {
      "text/plain": [
       "array([[1, 2, 3],\n",
       "       [6, 7, 8]], dtype=int32)"
      ]
     },
     "execution_count": 8,
     "metadata": {},
     "output_type": "execute_result"
    }
   ],
   "source": [
    "int_array = np.array([[1.1,2.7,3.4], [6.9,7.5,8.2]], dtype = 'int32')   # complex, float32, float64, int32, uint32 (unsigned int32), etc\n",
    "int_array"
   ]
  },
  {
   "cell_type": "markdown",
   "metadata": {},
   "source": [
    "## Allocate arrays of zeros, ones or rand to pre-allocate memory before filling up later\n",
    "* handy when you know what size you need, but you're not ready to fill it up yet...\n",
    "* saves you from dynamically resizing the matrix during analysis, which is **very slow**\n",
    "* if you fill with zeros/ones, can be handy for matrix operations\n",
    "* filling with NaNs is also a way to check for errors in how you fill up the matrix\n",
    "* specify size as a tuple if N-D array where N>1 (because size is one input param, even if it is multiple numbers)"
   ]
  },
  {
   "cell_type": "code",
   "execution_count": 9,
   "metadata": {},
   "outputs": [
    {
     "name": "stdout",
     "output_type": "stream",
     "text": [
      "Data type: float64\n"
     ]
    }
   ],
   "source": [
    "# note the () around the dims because you specify as a tuple...default type is float64\n",
    "zero_array = np.zeros( (3,4) )   \n",
    "print('Data type:', zero_array.dtype)"
   ]
  },
  {
   "cell_type": "code",
   "execution_count": 10,
   "metadata": {},
   "outputs": [
    {
     "name": "stdout",
     "output_type": "stream",
     "text": [
      "Data type: int32\n",
      "[[0 0 0 0]\n",
      " [0 0 0 0]\n",
      " [0 0 0 0]]\n"
     ]
    }
   ],
   "source": [
    "# explicitly declare data type\n",
    "zero_array = np.zeros( (3,4), dtype = np.int32)   \n",
    "print('Data type:', zero_array.dtype)\n",
    "print(zero_array)"
   ]
  },
  {
   "cell_type": "code",
   "execution_count": 11,
   "metadata": {},
   "outputs": [
    {
     "data": {
      "text/plain": [
       "array([[[10., 10., 10., 10.],\n",
       "        [10., 10., 10., 10.],\n",
       "        [10., 10., 10., 10.],\n",
       "        [10., 10., 10., 10.]],\n",
       "\n",
       "       [[10., 10., 10., 10.],\n",
       "        [10., 10., 10., 10.],\n",
       "        [10., 10., 10., 10.],\n",
       "        [10., 10., 10., 10.]],\n",
       "\n",
       "       [[10., 10., 10., 10.],\n",
       "        [10., 10., 10., 10.],\n",
       "        [10., 10., 10., 10.],\n",
       "        [10., 10., 10., 10.]],\n",
       "\n",
       "       [[10., 10., 10., 10.],\n",
       "        [10., 10., 10., 10.],\n",
       "        [10., 10., 10., 10.],\n",
       "        [10., 10., 10., 10.]]])"
      ]
     },
     "execution_count": 11,
     "metadata": {},
     "output_type": "execute_result"
    }
   ],
   "source": [
    "# ones\n",
    "# note the 3D output below...4, 4x4 squares of floating point 1s...\n",
    "np.ones( (4,4,4), dtype=np.float64 ) * 10     "
   ]
  },
  {
   "cell_type": "markdown",
   "metadata": {},
   "source": [
    "### Initialize the array to some arbitrary value with np.full\n",
    "* useful for filling up array with 'not a number' (nan)\n",
    "* super useful for bug checking"
   ]
  },
  {
   "cell_type": "code",
   "execution_count": 12,
   "metadata": {},
   "outputs": [
    {
     "data": {
      "text/plain": [
       "array([[nan, nan, nan, nan, nan, nan, nan, nan, nan, nan],\n",
       "       [nan, nan, nan, nan, nan, nan, nan, nan, nan, nan],\n",
       "       [nan, nan, nan, nan, nan, nan, nan, nan, nan, nan],\n",
       "       [nan, nan, nan, nan, nan, nan, nan, nan, nan, nan],\n",
       "       [nan, nan, nan, nan, nan, nan, nan, nan, nan, nan],\n",
       "       [nan, nan, nan, nan, nan, nan, nan, nan, nan, nan],\n",
       "       [nan, nan, nan, nan, nan, nan, nan, nan, nan, nan],\n",
       "       [nan, nan, nan, nan, nan, nan, nan, nan, nan, nan],\n",
       "       [nan, nan, nan, nan, nan, nan, nan, nan, nan, nan],\n",
       "       [nan, nan, nan, nan, nan, nan, nan, nan, nan, nan]])"
      ]
     },
     "execution_count": 12,
     "metadata": {},
     "output_type": "execute_result"
    }
   ],
   "source": [
    "# nan's!!! (not a number)\n",
    "np.full( (10,10), np.nan)"
   ]
  },
  {
   "cell_type": "markdown",
   "metadata": {},
   "source": [
    "### Simple example of bug checking with NaNs. Suppose you allocate an array that is 10 elements long and you want to fill it up. However, you make a mistake and don't actually fill up all of the slots. Easy to spot-check this if you init the array with NaNs"
   ]
  },
  {
   "cell_type": "code",
   "execution_count": 13,
   "metadata": {},
   "outputs": [
    {
     "name": "stdout",
     "output_type": "stream",
     "text": [
      "[ 1.  1.  1.  1.  1.  1.  1.  1. nan nan]\n",
      "messed up array filling!!!\n"
     ]
    }
   ],
   "source": [
    "x = np.full(10, np.nan)\n",
    "\n",
    "#####\n",
    "# 4,000 lines of code later...\n",
    "#####\n",
    "\n",
    "# then fill up every slot witha 1s (incorrectly)\n",
    "x[0:8] = 1\n",
    "print(x)\n",
    "\n",
    "# spot-check to see if there is an error\n",
    "if np.any(np.isnan(x)):   # or np.sum(np.isnan(x))\n",
    "    print('messed up array filling!!!')"
   ]
  },
  {
   "cell_type": "markdown",
   "metadata": {},
   "source": [
    "## Can also create sequences of numbers using arange...\n",
    "* For integer arguments the function is equivalent to the Python built-in range function, but returns an ndarray rather than a list.\n",
    "* same notation: start, stop, step\n",
    "* unlike classic range function, can take decimal step size...but be careful! "
   ]
  },
  {
   "cell_type": "code",
   "execution_count": 14,
   "metadata": {},
   "outputs": [
    {
     "name": "stdout",
     "output_type": "stream",
     "text": [
      "[ 0  5 10 15 20 25]\n"
     ]
    }
   ],
   "source": [
    "# can specify start, stop and step\n",
    "seq_array = np.arange(0,30,5)         # start, stop (exclusive), step size\n",
    "print(seq_array)\n",
    "# note that 30 is not in there..."
   ]
  },
  {
   "cell_type": "code",
   "execution_count": 15,
   "metadata": {},
   "outputs": [
    {
     "name": "stdout",
     "output_type": "stream",
     "text": [
      "[0.      0.56788 1.13576 1.70364 2.27152 2.8394  3.40728 3.97516 4.54304\n",
      " 5.11092 5.6788  6.24668 6.81456 7.38244 7.95032 8.5182  9.08608 9.65396]\n"
     ]
    }
   ],
   "source": [
    "seq_array = np.arange(0,10,.56788)    # decimal input is ok too (and again - stop is NOT included)\n",
    "print(seq_array)"
   ]
  },
  {
   "cell_type": "markdown",
   "metadata": {},
   "source": [
    "<div class=\"alert alert-info\">\n",
    "Because of machine precision issues, sometimes hard to predict how many elements will end up in an array when initialized using arange...so often better to specify a sequence based on start point, stop point, and the exact number of elements that you want (or the number of steps between start and stop). linspace (linear spacing) is the function to do this, and note that unlike arange that ends < stop point, linspace will always end exactly at the specified stop point. \n",
    "</div>"
   ]
  },
  {
   "cell_type": "code",
   "execution_count": 16,
   "metadata": {},
   "outputs": [
    {
     "name": "stdout",
     "output_type": "stream",
     "text": [
      "[  0.   22.5  45.   67.5  90.  112.5 135.  157.5 180. ]\n"
     ]
    }
   ],
   "source": [
    "# start, stop, number of linearly spaced steps between start and stop...note that start AND stop included!\n",
    "lin_array = np.linspace(0,180,9) \n",
    "print(lin_array)"
   ]
  },
  {
   "cell_type": "markdown",
   "metadata": {},
   "source": [
    "## One common use of linspace...eval a function over an interval. quick intro to basic plotting here too (and more on plotting later in a separate tutorial)"
   ]
  },
  {
   "cell_type": "code",
   "execution_count": 17,
   "metadata": {},
   "outputs": [
    {
     "data": {
      "image/png": "[encoded data removed]",
      "text/plain": [
       "<Figure size 432x288 with 1 Axes>"
      ]
     },
     "metadata": {
      "needs_background": "light"
     },
     "output_type": "display_data"
    }
   ],
   "source": [
    "x = np.linspace(0, 2*pi, 360)\n",
    "sin_wave = np.sin(x)\n",
    "\n",
    "# plotting - note conversion of x values back to degrees for easier human readability\n",
    "h = plt.plot(x*180/pi, sin_wave, 'k-', linewidth = 4)    # specify x,y data...convert rad to deg for x-axis\n",
    "\n",
    "# label each axis and give it a title\n",
    "plt.xlabel('angle (deg)')\n",
    "plt.ylabel('Amplitude')\n",
    "plt.title('Sin Wave')\n",
    "plt.grid(1)\n",
    "plt.show()"
   ]
  },
  {
   "cell_type": "markdown",
   "metadata": {},
   "source": [
    "## Initializing arrays with random numbers...use np.random.rand\n",
    "* will use this a LOT to simulate data\n",
    "* specify size of desired array rows x columns\n",
    "* note: this is a 'wrapper' function for random_sample. \n",
    "    * mostly made for recovering matlabbers and somewhat thus somewhat annoyingly does not take its array size input as a tuple like np.zeros (ones, full, etc) do. If you look at random_sample, it takes a tuple \n",
    "    * while this makes the input format different from numpy functions, it only takes one possible input so not too confusing.\n",
    "* **Important** NOT truly random! Instead pseudo-random numbers generated using a deterministic algorithm. If you know the seed value of the algorithm (starting point), then you can reproduce the exact sequence"
   ]
  },
  {
   "cell_type": "code",
   "execution_count": 18,
   "metadata": {},
   "outputs": [
    {
     "name": "stdout",
     "output_type": "stream",
     "text": [
      "[[0.78052512 0.17306235 0.32732726 0.16373576]\n",
      " [0.20871772 0.97335999 0.30778596 0.38637234]]\n"
     ]
    }
   ],
   "source": [
    "rand_array = np.random.rand(2,4)   # drawn from uniform over [0,1]\n",
    "print(rand_array)"
   ]
  },
  {
   "cell_type": "markdown",
   "metadata": {},
   "source": [
    "### Not truly random!!!\n",
    "* always set and save the random seed when doing any kind of simulation or stimulus presentation coding...that way you can go back and reproduce the exact same \"random\" sequence later on... "
   ]
  },
  {
   "cell_type": "code",
   "execution_count": 19,
   "metadata": {},
   "outputs": [
    {
     "name": "stdout",
     "output_type": "stream",
     "text": [
      "[0.5488135  0.71518937 0.60276338 0.54488318 0.4236548  0.64589411\n",
      " 0.43758721 0.891773   0.96366276 0.38344152]\n"
     ]
    }
   ],
   "source": [
    "np.random.seed(0)\n",
    "rand_array = np.random.rand(10)\n",
    "print(rand_array)"
   ]
  },
  {
   "cell_type": "markdown",
   "metadata": {},
   "source": [
    "### Super handy tip: to make draws from a uniform random across a range a-b where a and b are not 0 and 1, use:\n",
    "`(b - a) * np.random.rand() + a`"
   ]
  },
  {
   "cell_type": "code",
   "execution_count": 20,
   "metadata": {},
   "outputs": [
    {
     "data": {
      "text/plain": [
       "array([[80.20687405, 86.77762701, 85.79888597, 76.86008404],\n",
       "       [98.22409855, 97.82176751, 99.49454006, 79.18450386],\n",
       "       [80.54608123, 78.24969629, 75.53454144, 80.02103589],\n",
       "       [88.46301594, 80.48677059, 97.04313935, 84.00197447],\n",
       "       [96.41616781, 76.38327707, 86.95379196, 89.6334515 ],\n",
       "       [93.3861097 , 80.64415776, 88.59624169, 85.78915128]])"
      ]
     },
     "execution_count": 20,
     "metadata": {},
     "output_type": "execute_result"
    }
   ],
   "source": [
    "a = 100   # max\n",
    "b = 75    # min\n",
    "r = 6     # num rows\n",
    "c = 4     # num cols\n",
    " \n",
    "(b - a) * np.random.rand(6,4) + a"
   ]
  },
  {
   "cell_type": "markdown",
   "metadata": {},
   "source": [
    "### Another neat trick to get a random assortment of 0s and 1s (e.g., to simulate coin flips in a model or in stimulus presentation software)"
   ]
  },
  {
   "cell_type": "code",
   "execution_count": 21,
   "metadata": {},
   "outputs": [
    {
     "name": "stdout",
     "output_type": "stream",
     "text": [
      "[1. 1. 1. 1. 0. 1. 0. 1. 1. 0.]\n"
     ]
    }
   ],
   "source": [
    "print(np.round(rand_array))"
   ]
  },
  {
   "cell_type": "markdown",
   "metadata": {},
   "source": [
    "## Simple elementwise arithmetic operations like *, /, + and - work on corresponding elements of arrays (i.e., element-by-element operation) \n",
    "* This is where a lot of speed improvements can be had over traditional python code because instead of, for example, doing element-by-element multiplication using a for loop you can do it all in one line and numpy will optimize the operation behind the scenes. \n"
   ]
  },
  {
   "cell_type": "code",
   "execution_count": 22,
   "metadata": {},
   "outputs": [
    {
     "data": {
      "image/png": "[encoded data removed]",
      "text/plain": [
       "<Figure size 432x288 with 1 Axes>"
      ]
     },
     "metadata": {
      "needs_background": "light"
     },
     "output_type": "display_data"
    },
    {
     "data": {
      "image/png": "[encoded data removed]",
      "text/plain": [
       "<Figure size 432x288 with 1 Axes>"
      ]
     },
     "metadata": {
      "needs_background": "light"
     },
     "output_type": "display_data"
    },
    {
     "data": {
      "image/png": "[encoded data removed]",
      "text/plain": [
       "<Figure size 432x288 with 1 Axes>"
      ]
     },
     "metadata": {
      "needs_background": "light"
     },
     "output_type": "display_data"
    }
   ],
   "source": [
    "x = np.linspace(0,2*pi,360)\n",
    "y = np.sin(x)\n",
    "\n",
    "plt.subplot(3, 1, 1)\n",
    "plt.plot(x, x, 'k--')\n",
    "plt.title('X')\n",
    "plt.ylabel('Amplitude')\n",
    "plt.show()\n",
    "\n",
    "plt.subplot(3, 1, 2)\n",
    "plt.plot(x, y, 'k--')\n",
    "plt.title('Y')\n",
    "plt.xlabel('angle')\n",
    "plt.ylabel('Amplitude')\n",
    "plt.show()\n",
    "\n",
    "plt.subplot(3, 1, 3)\n",
    "plt.plot(x, x-y, 'k--')\n",
    "plt.title('X-Y')\n",
    "plt.xlabel('angle')\n",
    "plt.ylabel('Amplitude')\n",
    "\n",
    "plt.show()"
   ]
  },
  {
   "cell_type": "markdown",
   "metadata": {},
   "source": [
    "## Element by element multiplication...normal python vs numpy \n",
    "* use the `%timeit` line magic to run the code a bunch of times to eval how long it takes"
   ]
  },
  {
   "cell_type": "code",
   "execution_count": 23,
   "metadata": {},
   "outputs": [],
   "source": [
    "N = 1000000"
   ]
  },
  {
   "cell_type": "code",
   "execution_count": 24,
   "metadata": {},
   "outputs": [
    {
     "name": "stdout",
     "output_type": "stream",
     "text": [
      "289 ms ± 1.46 ms per loop (mean ± std. dev. of 7 runs, 1 loop each)\n"
     ]
    }
   ],
   "source": [
    "\n",
    "x = np.linspace(0,100,N)\n",
    "y = np.linspace(0,100,N)\n",
    "\n",
    "out = np.zeros(len(y))\n",
    "\n",
    "%timeit for n in range(len(y)): out[n] = x[n] * y[n]"
   ]
  },
  {
   "cell_type": "code",
   "execution_count": 25,
   "metadata": {},
   "outputs": [
    {
     "name": "stdout",
     "output_type": "stream",
     "text": [
      "708 µs ± 43.9 µs per loop (mean ± std. dev. of 7 runs, 1000 loops each)\n"
     ]
    }
   ],
   "source": [
    "\n",
    "\n",
    "x = np.linspace(0,100,N)\n",
    "y = np.linspace(0,100,N)\n",
    "\n",
    "%timeit out = x * y"
   ]
  },
  {
   "cell_type": "markdown",
   "metadata": {},
   "source": [
    "## Unary operations (operation with single operand) \n",
    "* Can be implemented as methods of the numpy array class (or numpy array object)\n",
    "* Or can be implemented via a call to a numpy function that is applied to a numpy array class\n",
    "* These will have the same outcome, just depends on usage/style"
   ]
  },
  {
   "cell_type": "code",
   "execution_count": 26,
   "metadata": {},
   "outputs": [
    {
     "name": "stdout",
     "output_type": "stream",
     "text": [
      "[[0 1 2 3 4]\n",
      " [5 6 7 8 9]]\n",
      "[ 5  7  9 11 13]\n",
      "[10 35]\n",
      "[ 5  7  9 11 13]\n"
     ]
    }
   ],
   "source": [
    "# methods of the np array class\n",
    "x = np.arange(10).reshape(2,5)   # make a 2 x 5 matrix\n",
    "print(x)\n",
    "\n",
    "x.sum()                          # sum of all elements\n",
    "print(x.sum(axis=0))             # sum of each column (across 1st dim)\n",
    "print(x.sum(axis=1))             # sum of each row (across 2nd dim)\n",
    "print(x.sum(0))                  # don't need the axis arg, but always use it!"
   ]
  },
  {
   "cell_type": "code",
   "execution_count": 27,
   "metadata": {},
   "outputs": [
    {
     "name": "stdout",
     "output_type": "stream",
     "text": [
      "[[0 1 2 3 4]\n",
      " [5 6 7 8 9]]\n",
      "45\n",
      "[ 5  7  9 11 13]\n",
      "[10 35]\n",
      "[ 5  7  9 11 13]\n"
     ]
    }
   ],
   "source": [
    "# np functions applied to instances of np array class\n",
    "x = np.arange(10).reshape(2,5)   # make a 2 x 5 matrix\n",
    "print(x)\n",
    "\n",
    "print(np.sum(x))                 # sum of all elements\n",
    "print(np.sum(x, axis=0))         # sum of each column (across 1st dim)\n",
    "print(np.sum(x, axis=1))         # sum of each row (across 2nd dim)\n",
    "print(np.sum(x, 0))              # don't need the \"axis\" keyword, but always use it for bonus style points!"
   ]
  },
  {
   "cell_type": "markdown",
   "metadata": {},
   "source": [
    "## Other common methods/functions..."
   ]
  },
  {
   "cell_type": "code",
   "execution_count": 28,
   "metadata": {},
   "outputs": [
    {
     "name": "stdout",
     "output_type": "stream",
     "text": [
      "0\n",
      "[0 1 2 3 4]\n",
      "[4 9]\n",
      "0\n",
      "[[    0     0     0     0     0]\n",
      " [    5    30   210  1680 15120]]\n"
     ]
    }
   ],
   "source": [
    "# used as methods...\n",
    "print(x.min())           # min of entire matrix\n",
    "print(x.min(axis=0))     # min across 1st dim\n",
    "print(x.max(axis=1))          # max across 2nd dim\n",
    "print(x.prod())               # product of all elements\n",
    "print(x.cumprod(axis=1))      # cumulative product across 2nd dim"
   ]
  },
  {
   "cell_type": "code",
   "execution_count": 29,
   "metadata": {},
   "outputs": [
    {
     "name": "stdout",
     "output_type": "stream",
     "text": [
      "0\n",
      "[0 1 2 3 4]\n",
      "[4 9]\n",
      "[[    0     0     0     0     0]\n",
      " [    5    30   210  1680 15120]]\n"
     ]
    }
   ],
   "source": [
    "# used as functions\n",
    "print(np.min(x))           # min of entire matrix\n",
    "print(np.min(x, axis=0))     # min across 1st dim\n",
    "print(np.max(x, axis=1))          # max across 2nd dim\n",
    "print(np.cumprod(x, axis=1))      # cumulative product across 2nd dim"
   ]
  },
  {
   "cell_type": "markdown",
   "metadata": {},
   "source": [
    "## Indexing and slicing and iterating in NumPy\n",
    "* For 1D np arrays, works like the list objects that we've been working with in earlier tutorials. "
   ]
  },
  {
   "cell_type": "code",
   "execution_count": 30,
   "metadata": {},
   "outputs": [
    {
     "name": "stdout",
     "output_type": "stream",
     "text": [
      "[0. 1. 2. 3. 4. 5. 6. 7. 8. 9.]\n",
      "[100. 100. 100.]\n",
      "[  0. 100.   4.   6.]\n",
      "[  9.   8.   7.   6.   5.   4. 100. 100. 100.   0.]\n",
      "0.0\n",
      "300.0\n",
      "300.0\n",
      "300.0\n",
      "12.0\n",
      "15.0\n",
      "18.0\n",
      "21.0\n",
      "24.0\n",
      "27.0\n"
     ]
    }
   ],
   "source": [
    "# create a 1d array\n",
    "x = np.linspace(0,9,10)\n",
    "print(x)\n",
    "x[1]                     # just the second entry, remember 0 based indexing\n",
    "\n",
    "# specific start and stop points (exclusive)\n",
    "x[0:2]                   # the first and second entries in the array, so N>=0 and N<2 (note the < upper bound - not inclusive)\n",
    "\n",
    "# assign the 2nd - 4th element to 100 (index 1,2,3)\n",
    "x[1:4] = 100               \n",
    "print(x[1:4])\n",
    "\n",
    "# start, stop, step interval\n",
    "print(x[0:8:2])\n",
    "\n",
    "# reverse x\n",
    "print(x[::-1])\n",
    "\n",
    "# iterate over all elements in x\n",
    "for i in x:\n",
    "    print(i*3)    # then i takes the value of each element in x\n",
    "    "
   ]
  },
  {
   "cell_type": "markdown",
   "metadata": {},
   "source": [
    "## Multidimentional array indexing, slicing etc"
   ]
  },
  {
   "cell_type": "code",
   "execution_count": 31,
   "metadata": {},
   "outputs": [
    {
     "name": "stdout",
     "output_type": "stream",
     "text": [
      "[[ 0.  6.  6.  6.  9.]\n",
      " [ 7.  4.  4.  7.  1.]\n",
      " [ 7.  7.  2.  1.  3.]\n",
      " [ 4.  6.  4. 10.  1.]\n",
      " [ 2.  2.  7.  3.  5.]\n",
      " [ 2.  2.  1.  7.  1.]\n",
      " [ 2.  4.  8.  1.  8.]\n",
      " [ 1. 10.  5. 10.  6.]\n",
      " [ 7.  0.  3.  1.  3.]\n",
      " [ 1.  3.  4.  1.  7.]]\n"
     ]
    }
   ],
   "source": [
    "x = np.round(np.random.rand(10,5)*10)   # generate a matrix of uniformly distributed random numbers over 0:10\n",
    "print(x)"
   ]
  },
  {
   "cell_type": "code",
   "execution_count": 32,
   "metadata": {},
   "outputs": [
    {
     "data": {
      "text/plain": [
       "1.0"
      ]
     },
     "execution_count": 32,
     "metadata": {},
     "output_type": "execute_result"
    }
   ],
   "source": [
    "x[0,0]     # first row, first column\n",
    "x[2,3]     # third row, 4th column"
   ]
  },
  {
   "cell_type": "code",
   "execution_count": 33,
   "metadata": {},
   "outputs": [
    {
     "data": {
      "text/plain": [
       "array([8., 1.])"
      ]
     },
     "execution_count": 33,
     "metadata": {},
     "output_type": "execute_result"
    }
   ],
   "source": [
    "x[:, 3]    # all entries in the 4th column \n",
    "x[3, :]    # all entries in the 4th row\n",
    "x[0:2, 4]  # first two entries of the 5th column\n",
    "x[6, 2:4]  # 7th row, 3rd and 4th entries. "
   ]
  },
  {
   "cell_type": "code",
   "execution_count": 34,
   "metadata": {},
   "outputs": [
    {
     "data": {
      "text/plain": [
       "array([2., 4., 8., 1., 8.])"
      ]
     },
     "execution_count": 34,
     "metadata": {},
     "output_type": "execute_result"
    }
   ],
   "source": [
    "x[6]       # if not all dims specified then missing values are considered complete slices\n",
    "x[6,]      # these three ways of writing all do the same thing...\n",
    "x[6,:]"
   ]
  },
  {
   "cell_type": "code",
   "execution_count": 35,
   "metadata": {},
   "outputs": [
    {
     "name": "stdout",
     "output_type": "stream",
     "text": [
      "last row:  [1. 3. 4. 1. 7.]\n",
      "last column:  [9. 1. 3. 1. 5. 1. 8. 6. 3. 7.]\n",
      "last entry:  7.0\n"
     ]
    }
   ],
   "source": [
    "# tricks...\n",
    "print('last row: ', x[-1,:])     # last row\n",
    "print('last column: ', x[:,-1])  # last column\n",
    "print('last entry: ', x[-1,-1])  # last value"
   ]
  },
  {
   "cell_type": "markdown",
   "metadata": {},
   "source": [
    "### Pull out subset of rows and columns"
   ]
  },
  {
   "cell_type": "code",
   "execution_count": 36,
   "metadata": {},
   "outputs": [
    {
     "name": "stdout",
     "output_type": "stream",
     "text": [
      "[[0.56660145 0.26538949 0.52324805]\n",
      " [0.09394051 0.5759465  0.9292962 ]\n",
      " [0.31856895 0.66741038 0.13179786]\n",
      " [0.7163272  0.28940609 0.18319136]]\n",
      "\n",
      " [[0.56660145 0.26538949 0.52324805]\n",
      " [0.09394051 0.5759465  0.9292962 ]]\n",
      "\n",
      " [[0.31856895 0.66741038 0.13179786]\n",
      " [0.7163272  0.28940609 0.18319136]]\n",
      "\n",
      " [0.56660145 0.09394051]\n",
      "\n",
      " [[0.66741038 0.13179786]\n",
      " [0.28940609 0.18319136]]\n"
     ]
    }
   ],
   "source": [
    "# generate a matrix of random numbers over 0-1\n",
    "x = np.random.rand(4,3) \n",
    "print(x)\n",
    "\n",
    "# first two rows - note that you don't have to specify the 2nd dim - and note that \n",
    "# '2' here means rows 0 and 1 (i.e., just the first two rows, exclusive of row 2!)\n",
    "y = x[:2] \n",
    "print('\\n', y)\n",
    "\n",
    "# can also take the last two rows...in the same manner...in this case rows 3 and 4\n",
    "y = x[2:] \n",
    "print('\\n', y)\n",
    "\n",
    "# first two rows, 1st column\n",
    "y = x[:2,0] \n",
    "print('\\n', y)\n",
    "\n",
    "# rows 3 - end, columns 2 - end\n",
    "y = x[2:,1:]\n",
    "print('\\n', y)"
   ]
  },
  {
   "cell_type": "markdown",
   "metadata": {},
   "source": [
    "## Use conditionals (boolean test) to index into arrays\n",
    "* for example: find all entries less than 15\n",
    "* or less than 15 or greater than 100...etc."
   ]
  },
  {
   "cell_type": "code",
   "execution_count": 37,
   "metadata": {},
   "outputs": [
    {
     "name": "stdout",
     "output_type": "stream",
     "text": [
      "[14.20721164  4.04367949  3.75796009 12.04509433  7.83755845 12.82949927\n",
      "  4.02150924  0.93909524]\n",
      "[109.76270079 143.03787327 120.55267521 108.9766366  129.17882261\n",
      " 178.35460016 192.7325521  158.34500762 105.77898395 113.60891222\n",
      " 185.11932766  14.20721164   4.04367949 166.52396911 155.63135019\n",
      " 174.00242965 195.72366845 159.83171284 156.10583526 127.98420427\n",
      " 188.93378341 104.36966435 154.84673789 113.68678977   3.75796009\n",
      " 123.52709942 122.41914454 123.38679937 188.7496157  136.36405982\n",
      " 139.52623919  12.04509433 133.35334309 134.12757392 114.03935408\n",
      " 197.67476761 130.62166509 131.26591789 164.19864597 167.5889815\n",
      " 195.291893   195.35221764 120.96910395 147.85271588   7.83755845\n",
      "  12.82949927 138.49442387 113.32029084 104.64961069 115.18929911\n",
      " 185.85923952 133.48207599 143.26544082 117.30258696   4.02150924\n",
      " 165.78800584   0.93909524]\n"
     ]
    }
   ],
   "source": [
    "# random uniform data over 0-200\n",
    "np.random.seed(0)\n",
    "x = np.random.rand(100) * 200\n",
    "\n",
    "# find only the values that are less than 15\n",
    "less15 = x[x<15]\n",
    "print(less15)\n",
    "\n",
    "# use & (and), | (or)\n",
    "less15_great100 = x[(x<15) | (x>100)]\n",
    "print(less15_great100)"
   ]
  },
  {
   "cell_type": "markdown",
   "metadata": {},
   "source": [
    "## Important - unlike a list, slicing an array creates a view of it! if you change the view, you also will change the original data!\n",
    "* A view means that two (or more) variables are referencing the same location (data) in memory...\n",
    "* This will be weird for those coming from Matlab...it can be effecient though in some cases to save memory\n",
    "* But critical to be aware of this or you will pull all of your hair out trying to track down the ghost in the machine that is magically changing your data...\n",
    "* Below are a few approaches but I suggest using the explict `copy()` approach just to be safe and easy to read"
   ]
  },
  {
   "cell_type": "code",
   "execution_count": 38,
   "metadata": {},
   "outputs": [
    {
     "name": "stdout",
     "output_type": "stream",
     "text": [
      "[[100. 100. 100. 100.]\n",
      " [100. 100. 100. 100.]\n",
      " [100. 100. 100. 100.]\n",
      " [100. 100. 100. 100.]]\n"
     ]
    }
   ],
   "source": [
    "x = np.random.randn(4,4)\n",
    "\n",
    "# assign a new variable 'z' to x\n",
    "# note this will create a view, not a copy!\n",
    "z = x\n",
    "\n",
    "# change all values in z using [:]\n",
    "z[:]=100     # so if you change data in z it will also change in x\n",
    "\n",
    "# then print x - even though you never \n",
    "# explicitly changed x, changing z modified the shared data\n",
    "print(x)"
   ]
  },
  {
   "cell_type": "markdown",
   "metadata": {},
   "source": [
    "## Use copy instead if you want independent data..."
   ]
  },
  {
   "cell_type": "code",
   "execution_count": 39,
   "metadata": {},
   "outputs": [
    {
     "name": "stdout",
     "output_type": "stream",
     "text": [
      "[[ 0.01050002  1.78587049  0.12691209  0.40198936]\n",
      " [ 1.8831507  -1.34775906 -1.270485    0.96939671]\n",
      " [-1.17312341  1.94362119 -0.41361898 -0.74745481]\n",
      " [ 1.92294203  1.48051479  1.86755896  0.90604466]]\n"
     ]
    }
   ],
   "source": [
    "x = np.random.randn(4,4)\n",
    "\n",
    "# assign using the copy method\n",
    "# this will copy the data in x\n",
    "# and assign to new variable z\n",
    "z = x.copy()\n",
    "\n",
    "# change all values in z using [:]\n",
    "z[:]=100     # so if you change data in z it will also change in x\n",
    "\n",
    "# now they are independent and changing one does not change the other\n",
    "print(x)"
   ]
  }
 ],
 "metadata": {
  "kernelspec": {
   "display_name": "Python 3 (ipykernel)",
   "language": "python",
   "name": "python3"
  },
  "language_info": {
   "codemirror_mode": {
    "name": "ipython",
    "version": 3
   },
   "file_extension": ".py",
   "mimetype": "text/x-python",
   "name": "python",
   "nbconvert_exporter": "python",
   "pygments_lexer": "ipython3",
   "version": "3.9.7"
  }
 },
 "nbformat": 4,
 "nbformat_minor": 2
}

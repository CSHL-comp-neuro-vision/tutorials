{
 "cells": [
  {
   "cell_type": "markdown",
   "metadata": {},
   "source": [
    "# Linear Sysetms Tutorial\n",
    "\n",
    "Original authors: David Heeger, Eero Simoncelli, and Patrick Teo 6/96\n",
    "\n",
    "Based on OBVIUS tutorial by David Heeger and Eero Simoncelli\n",
    "\n",
    "Translated to Python by Michael Waskom 8/19."
   ]
  },
  {
   "cell_type": "code",
   "execution_count": null,
   "metadata": {},
   "outputs": [],
   "source": [
    "import numpy as np\n",
    "from numpy.fft import fft, fftshift, ifftshift\n",
    "from scipy import signal, ndimage, linalg\n",
    "import matplotlib.pyplot as plt\n",
    "%matplotlib inline"
   ]
  },
  {
   "cell_type": "markdown",
   "metadata": {},
   "source": [
    "## Discrete-time sequences\n",
    "\n",
    "Discrete-time sequences are represented as a sequence of numbers $f[n]$, for integer values of $n$. There are several important, basic sequences. Examples of these basic sequences will be plotted below. We now plot several of the important sequences, from $n=1$ to $n=32$.\n"
   ]
  },
  {
   "cell_type": "code",
   "execution_count": null,
   "metadata": {},
   "outputs": [],
   "source": [
    "n_range = np.arange(32)"
   ]
  },
  {
   "cell_type": "markdown",
   "metadata": {},
   "source": [
    "### Impulse sequence, delta[n]\n",
    "\n",
    "Is 1 only when n = 0. Here we plot delta[n - 16]:"
   ]
  },
  {
   "cell_type": "code",
   "execution_count": null,
   "metadata": {},
   "outputs": [],
   "source": [
    "impulse = n_range == 16\n",
    "f, ax = plt.subplots()\n",
    "ax.plot(n_range, impulse, marker=\"o\")\n",
    "f.tight_layout()"
   ]
  },
  {
   "cell_type": "markdown",
   "metadata": {},
   "source": [
    "### Step sequence, u[n]\n",
    "\n",
    "Is 0 when n < 0. Here we plot u[n - 16]:"
   ]
  },
  {
   "cell_type": "code",
   "execution_count": null,
   "metadata": {},
   "outputs": [],
   "source": [
    "step = n_range >= 16\n",
    "f, ax = plt.subplots()\n",
    "ax.plot(n_range, step, marker=\"o\")\n",
    "f.tight_layout()"
   ]
  },
  {
   "cell_type": "markdown",
   "metadata": {},
   "source": [
    "### Sinusoidal sequence with period 8"
   ]
  },
  {
   "cell_type": "code",
   "execution_count": null,
   "metadata": {},
   "outputs": [],
   "source": [
    "amplitude, phase_off, period = 1, 0, 8\n",
    "freq = 2 * np.pi / period\n",
    "sinusoid = amplitude * np.sin(freq * n_range + phase_off)\n",
    "\n",
    "f, ax = plt.subplots()\n",
    "ax.plot(n_range, sinusoid, marker=\"o\")\n",
    "\n",
    "# Notice that adding $2\\pi$ to the frequency gives the same sinusoid\n",
    "freq = 2 * np.pi / period + 2 * np.pi\n",
    "sinusoid_shift_2pi = amplitude * np.sin(freq * n_range + phase_off)\n",
    "ax.plot(n_range, sinusoid, marker=\".\", linestyle=\"--\")\n",
    "\n",
    "f.tight_layout()"
   ]
  },
  {
   "cell_type": "markdown",
   "metadata": {},
   "source": [
    "The importance of this is that we need only consider frequencies in a frequency interval of length $2\\pi$ such as $-\\pi$ to $\\pi$. Also notice that although continuous sinusoids with frequency $\\omega$ are periodic with period $2\\pi/\\omega$, this is not necessarily true of discrete sinusoids. For example, a discrete sinusoid with frequency $\\omega=1$ is NOT periodic:"
   ]
  },
  {
   "cell_type": "code",
   "execution_count": null,
   "metadata": {},
   "outputs": [],
   "source": [
    "period = 2 * np.pi\n",
    "freq = 2 * np.pi / period\n",
    "\n",
    "non_periodic_sinusoid = amplitude * np.sin(freq * n_range + phase_off)\n",
    "\n",
    "f, ax = plt.subplots()\n",
    "ax.plot(n_range, non_periodic_sinusoid, marker=\"o\")\n",
    "f.tight_layout()"
   ]
  },
  {
   "cell_type": "markdown",
   "metadata": {},
   "source": [
    "Why isn't this sequence periodic?  Is it because we've plotted only 32 samples?  If we were to plot more samples, would it ever repeat?\n",
    "\n",
    "---\n",
    "\n",
    "For a finite length sequence, we have an even more stringent requirement.  By a periodic finite length sequence, we mean circularly periodic.  When you go off the end you start back at the beginning.  To be periodic, the sequence length must be a multiple of the period.\n",
    "\n",
    "Altogether, there are only N distinguishable frequencies that are circularly periodic with period (sequence length) N.  These frequencies are:\n",
    "$$2\\pi k/N \\quad\\mathrm{for}\\quad k=0\\,,1\\ldots,\\,N-1.$$\n",
    "\n",
    "In our examples, N=32, so the frequencies are:\n",
    "$$0,\\, \\pi/16,\\, 2\\pi/16,\\, 3\\pi/16,\\ldots,\\,31\\pi/16.$$\n",
    "\n",
    "This set of discrete (co-)sinusoids can also be indexed in another way:\n",
    "$$2\\pi k/N \\quad\\mathrm{for}\\quad k=-N/2,\\ldots,\\,-1,\\,0,\\,1\\ldots,\\,N/2.$$\n",
    "\n",
    "In our examples, these periods are:\n",
    "$$-16\\pi/16,\\ldots,\\,\\pi/16,\\,0,\\,\\pi/16\\ldots,\\,15\\pi/16.$$\n",
    "\n",
    "Take a look at some of these sinusoids and cosinusoids to see that these frequencies are all distinct."
   ]
  },
  {
   "cell_type": "code",
   "execution_count": null,
   "metadata": {},
   "outputs": [],
   "source": [
    "## Enter code here"
   ]
  },
  {
   "cell_type": "markdown",
   "metadata": {},
   "source": [
    "Are the sinusoids and cosinusoids with frequencies 0 and $\\pi$ distinct?  How about with frequencies $-\\pi$ and $\\pi$?"
   ]
  },
  {
   "cell_type": "markdown",
   "metadata": {},
   "source": [
    "----\n",
    "\n",
    "## Linear systems\n",
    "\n",
    "A discrete time system is defined as a transformation or operator that maps an input sequence to an output sequence:\n",
    "\n",
    "$$f[x] \\rightarrow g[x] \\quad\\textrm{or}\\quad g[x] = T\\{f[x]\\}$$\n",
    "\n",
    "Linear systems are defined by the principle of superposition. Superposition has two parts: additivity and homogeneity.\n",
    "\n",
    "**Additivity:** $T\\{f_1[x] + f_2[x]\\} = T\\{f_1[x]\\} + T\\{f_2[x]\\}$.\n",
    "\n",
    "**Homogeneity (scaling):** $T\\{a\\,f[x]\\} = a\\,T\\{f[x]\\}$.\n",
    "\n",
    "A linear system can be expressed as a matrix multiplication:\n",
    "$$g[x] = M\\,f[x],$$\n",
    "where $M$ is an $m \\times n$ matrix, $g[x]$ is a sequence of length $m$, and $f[x]$ is a sequence of length $n$.\n",
    "\n",
    "A time-invariant system is one for which a shift or delay of the input sequence causes a corresponding shift in the output sequence. An example of a linear time-*variant* system is subsampling. We'll get to that later.\n",
    "\n",
    "For a linear time-invariant system, the rows of the $M$ matrix are all shifted copies of each other. Such a matrix is called a \"Toeplitz\" matrix. The output of a linear time-invariant sysetm can also be computed using convolution. Convolution is equivalent to matrix-multiplication when using a Toeplitz matrix.\n",
    "\n",
    "First, let's create a Toeplitz matrix and display it as an image;"
   ]
  },
  {
   "cell_type": "code",
   "execution_count": null,
   "metadata": {},
   "outputs": [],
   "source": [
    "Tmatrix = np.zeros((32, 32))\n",
    "filt = [-.004, -.031, -.047, .031, .102, .031, -.047, -.031, -.004]\n",
    "for row in range(32):\n",
    "    for k, col in enumerate(range(row - 4, row + 4 + 1)):\n",
    "        Tmatrix[row, (col + 32) %  32] = filt[k]\n",
    "        \n",
    "f, ax = plt.subplots(figsize=(4, 4))\n",
    "ax.matshow(Tmatrix, cmap=\"gray\")\n",
    "f.tight_layout()"
   ]
  },
  {
   "cell_type": "markdown",
   "metadata": {},
   "source": [
    "Now, let's take our impulse signal and multiply it through the matrix:"
   ]
  },
  {
   "cell_type": "code",
   "execution_count": null,
   "metadata": {},
   "outputs": [],
   "source": [
    "impulse_response = Tmatrix @ impulse\n",
    "f, ax = plt.subplots()\n",
    "ax.plot(n_range, impulse_response, \"o-\")\n",
    "f.tight_layout()"
   ]
  },
  {
   "cell_type": "markdown",
   "metadata": {},
   "source": [
    "Matrix multiplication is an inefficient way of doing the above computation because most of the entries in the matrix are zeros. Like `MATLAB`, `numpy` and `scipy` provide facilities for efficient linear filterin. A linear filter has only the interesting (non-zero) entries of the Toeplitz matrix. Then the output is computed using convolution, shifting the filter over the input signal. The efficiency of convolution (over matrix multiplicatoin) will be critical when we get to 2D linear transforms on images, and 3D (space-time) transform on image sequences. The matrices would be huge and very sparse (lots of zeros). Let's do the above transform again, using convolution:"
   ]
  },
  {
   "cell_type": "code",
   "execution_count": null,
   "metadata": {},
   "outputs": [],
   "source": [
    "new_impulse_response = np.convolve(impulse, filt, \"same\")\n",
    "ax.plot(n_range, new_impulse_response, \".--\")\n",
    "display(f)"
   ]
  },
  {
   "cell_type": "markdown",
   "metadata": {},
   "source": [
    "### Sum of two impulses\n",
    "\n",
    "A linear time-invariant system is completely characterized by its impulse response; that is, its response to an impulse input. The response to an impulse is the corresponding column in the Toeplitz matrix. Given the impulse response, we can compute the response to any input. Any input can be expressed as the sum of a bunch of scaled impulses. Since the system is linear, the output is the sum of a bunch of scaled copies of the impulse response. Example:"
   ]
  },
  {
   "cell_type": "code",
   "execution_count": null,
   "metadata": {},
   "outputs": [],
   "source": [
    "impulse_10 = n_range == 10\n",
    "impulse_15 = n_range == 15\n",
    "signal = 5 * impulse_10 + 13 * impulse_15\n",
    "\n",
    "f, ax = plt.subplots()\n",
    "ax.plot(n_range, signal, \"o-\")\n",
    "f.tight_layout()"
   ]
  },
  {
   "cell_type": "markdown",
   "metadata": {},
   "source": [
    "Filter responses to individual impulses:"
   ]
  },
  {
   "cell_type": "code",
   "execution_count": null,
   "metadata": {},
   "outputs": [],
   "source": [
    "impulse_response_10 = np.convolve(impulse_10, filt, \"same\")\n",
    "impulse_response_15 = np.convolve(impulse_15, filt, \"same\")\n",
    "f, ax = plt.subplots()\n",
    "ax.plot(n_range, impulse_response_10, \"o-\")\n",
    "ax.plot(n_range, impulse_response_15, \"o-\")\n",
    "f.tight_layout()"
   ]
  },
  {
   "cell_type": "markdown",
   "metadata": {},
   "source": [
    "Filter response to scaled sum of impulses:"
   ]
  },
  {
   "cell_type": "code",
   "execution_count": null,
   "metadata": {},
   "outputs": [],
   "source": [
    "signal_response = np.convolve(signal, filt, \"same\")\n",
    "ax.plot(n_range, signal_response, \"o-\")\n",
    "display(f)"
   ]
  },
  {
   "cell_type": "markdown",
   "metadata": {},
   "source": [
    "Sum of scaled filter responses to individual inputs:"
   ]
  },
  {
   "cell_type": "code",
   "execution_count": null,
   "metadata": {},
   "outputs": [],
   "source": [
    "sum_of_impulse_responses = 5 * impulse_response_10 + 13 * impulse_response_15\n",
    "assert np.allclose(signal_response, sum_of_impulse_responses)\n",
    "ax.plot(n_range, sum_of_impulse_responses, \"kx\")\n",
    "display(f)"
   ]
  },
  {
   "cell_type": "markdown",
   "metadata": {},
   "source": [
    "As another example, consider the filter response to the step\""
   ]
  },
  {
   "cell_type": "code",
   "execution_count": null,
   "metadata": {},
   "outputs": [],
   "source": [
    "step_response = np.convolve(step, filt, \"same\")\n",
    "f, ax = plt.subplots()\n",
    "ax.plot(n_range, step_response, \"o-\")\n",
    "f.tight_layout()"
   ]
  },
  {
   "cell_type": "markdown",
   "metadata": {},
   "source": [
    "Represent filter response to step as sum of filter responses to impulses:"
   ]
  },
  {
   "cell_type": "code",
   "execution_count": null,
   "metadata": {},
   "outputs": [],
   "source": [
    "sum_of_impulse_responses = np.zeros(step.shape)\n",
    "for n in range(16, 33):\n",
    "    impulse_n = n_range == n\n",
    "    sum_of_impulse_responses += np.convolve(impulse_n, filt, \"same\")\n",
    "\n",
    "assert np.allclose(step_response, sum_of_impulse_responses)\n",
    "    \n",
    "f, ax = plt.subplots()\n",
    "ax.plot(n_range, sum_of_impulse_responses, \"o-\")\n",
    "f.tight_layout()"
   ]
  },
  {
   "cell_type": "markdown",
   "metadata": {},
   "source": [
    "Here's a tooling detail: the matlab version of the tutorial has been using circular convolution and has a note here about how the step response makes the \"wrapping\" inherent to circular convolution apparent. We've been using the most basic convolution function in numerical Python, `numpy.convolve`, which does not implement circular convolution (as of this writing). For more options we can turn to `scipy.ndimage.convolve` function. You'll see that we imported the `ndimage` library from `scipy` at the top of the notebook. Two differences are worth noting.\n",
    "\n",
    "- First, our `step` array actually has a boolean data type (look above to how we defined it). The `numpy` function casts it properly to a `float` data type before convolution, but we need to handle that ourselves with the `scipy` function.\n",
    "- Second, the `scipy` function is not just a drop-in replacement: its signature is a little bit different, and `mode` is not the third parameter, so we need to be more explicit."
   ]
  },
  {
   "cell_type": "code",
   "execution_count": null,
   "metadata": {},
   "outputs": [],
   "source": [
    "step_float = step.astype(np.float)\n",
    "step_response_circ = ndimage.convolve(step_float, filt, mode=\"wrap\")\n",
    "f, ax = plt.subplots()\n",
    "ax.plot(n_range, step_response_circ, \"o-\")\n",
    "f.tight_layout()"
   ]
  },
  {
   "cell_type": "markdown",
   "metadata": {},
   "source": [
    "Now we can see the effects of circular convolution, which \"wraps\" around from the end of the sequence back to the beginning, as if the sequence was a full period of a longer periodic sequence. The consequence of circular convolution is evidence in the step-response. This is one way to handle the endpoints of the sequence. Inspecting the help for `ndimage.convolve` provides a few other options, which I am duplicating here:\n",
    "\n",
    "```\n",
    "The `mode` parameter determines how the input array is extended\n",
    "when the filter overlaps a border. By passing a sequence of modes\n",
    "with length equal to the number of dimensions of the input array,\n",
    "different modes can be specified along each axis. Default value is\n",
    "'reflect'. The valid values and their behavior is as follows:\n",
    "\n",
    "'reflect' (`d c b a | a b c d | d c b a`)\n",
    "    The input is extended by reflecting about the edge of the last\n",
    "    pixel.\n",
    "\n",
    "'constant' (`k k k k | a b c d | k k k k`)\n",
    "    The input is extended by filling all values beyond the edge with\n",
    "    the same constant value, defined by the `cval` parameter.\n",
    "\n",
    "'nearest' (`a a a a | a b c d | d d d d`)\n",
    "    The input is extended by replicating the last pixel.\n",
    "\n",
    "'mirror' (`d c b | a b c d | c b a`)\n",
    "    The input is extended by reflecting about the center of the last\n",
    "    pixel.\n",
    "\n",
    "'wrap' (`a b c d | a b c d | a b c d`)\n",
    "    The input is extended by wrapping around to the opposite edge.\n",
    "```"
   ]
  },
  {
   "cell_type": "markdown",
   "metadata": {},
   "source": [
    "## Properties of linear time-invariant systems\n",
    "\n",
    "Convolution is commutative (i.e. the order of the two consecutive convolution operations is irrelevant):"
   ]
  },
  {
   "cell_type": "code",
   "execution_count": null,
   "metadata": {},
   "outputs": [],
   "source": [
    "filt1 = filt.copy()\n",
    "filt2 = np.array([1, 4, 6, 4, 1]) / 16\n",
    "\n",
    "resp_1_2 = ndimage.convolve(ndimage.convolve(step_float, filt1, mode=\"wrap\"), filt2, mode=\"wrap\")\n",
    "resp_2_1 = ndimage.convolve(ndimage.convolve(step_float, filt2, mode=\"wrap\"), filt1, mode=\"wrap\")\n",
    "\n",
    "f, ax = plt.subplots()\n",
    "ax.plot(n_range, resp_1_2, \"-\")\n",
    "ax.plot(n_range, resp_2_1, \"o\")\n",
    "f.tight_layout()"
   ]
  },
  {
   "cell_type": "markdown",
   "metadata": {},
   "source": [
    "*n.b.:* even though convolution (shift-invariant linear systems) commute, not all linear systetms commute. For example, matrix multiplication is not, in general, commutative.\n",
    "\n",
    "Convolution also follows the distributive property (i.e. the sum of convolutions with two filters equals the convolution with the sum of the filters)."
   ]
  },
  {
   "cell_type": "code",
   "execution_count": null,
   "metadata": {},
   "outputs": [],
   "source": [
    "filt2 = np.array([0, 0, 1, 4, 6, 4, 1, 0, 0]) / 16\n",
    "sum_of_filters = filt1 + filt2\n",
    "\n",
    "resp1 = ndimage.convolve(step_float, filt1, mode=\"wrap\")\n",
    "resp2 = ndimage.convolve(step_float, filt2, mode=\"wrap\")\n",
    "sum_of_responses = resp1 + resp2\n",
    "\n",
    "response_to_sum_of_filters = ndimage.convolve(step_float, sum_of_filters, mode=\"wrap\")\n",
    "\n",
    "assert np.allclose(response_to_sum_of_filters, sum_of_responses)\n",
    "\n",
    "f, ax = plt.subplots()\n",
    "ax.plot(n_range, sum_of_responses, \"-\")\n",
    "ax.plot(n_range, response_to_sum_of_filters, \"o\")\n",
    "f.tight_layout()"
   ]
  },
  {
   "cell_type": "markdown",
   "metadata": {},
   "source": [
    "## Invertible linear systems\n",
    "\n",
    "Here's a simple example of a linear filter that shifts the sequence by two samples. This operation can, of course, be inverted by shifting in the other direction."
   ]
  },
  {
   "cell_type": "code",
   "execution_count": null,
   "metadata": {},
   "outputs": [],
   "source": [
    "shift_filt = np.array([0, 0, 0, 0, 1])\n",
    "unshift_filt = np.array([1, 0, 0, 0, 0])\n",
    "\n",
    "shifted_sinusoid = ndimage.convolve(sinusoid, shift_filt, mode=\"wrap\")\n",
    "unshifted_sinusoid = ndimage.convolve(shifted_sinusoid, unshift_filt, mode=\"wrap\")\n",
    "\n",
    "f, ax = plt.subplots()\n",
    "ax.plot(n_range, shifted_sinusoid, \"o-\")\n",
    "ax.plot(n_range, unshifted_sinusoid, \"o-\")\n",
    "f.tight_layout()"
   ]
  },
  {
   "cell_type": "markdown",
   "metadata": {},
   "source": [
    "Another way to think of inverting a linear transform is in terms of inverting the corresponding transform matrix. The matrix for the shifting operation looks like this:"
   ]
  },
  {
   "cell_type": "code",
   "execution_count": null,
   "metadata": {},
   "outputs": [],
   "source": [
    "Smatrix = np.zeros((32, 32))\n",
    "one_row = [1, 0, 0, 0, 0]\n",
    "for row in range(32):\n",
    "    for k, col in enumerate(range(row - 2, row + 3)):\n",
    "        Smatrix[row, col % 32] = one_row[k]\n",
    "\n",
    "f, ax = plt.subplots(figsize=(4, 4))\n",
    "ax.matshow(Smatrix, cmap=\"gray\")\n",
    "f.tight_layout()"
   ]
  },
  {
   "cell_type": "markdown",
   "metadata": {},
   "source": [
    "Let's recompute the shifted sequences, using matrix multiplication instead of convolution:"
   ]
  },
  {
   "cell_type": "code",
   "execution_count": null,
   "metadata": {},
   "outputs": [],
   "source": [
    "new_shifted_sinusoid = Smatrix @ sinusoid\n",
    "f, ax = plt.subplots()\n",
    "ax.plot(n_range, shifted_sinusoid, \"-\")\n",
    "ax.plot(n_range, new_shifted_sinusoid, \"o\")\n",
    "f.tight_layout()"
   ]
  },
  {
   "cell_type": "markdown",
   "metadata": {},
   "source": [
    "To invert the transform, just invert the matrix and do another matrix multiplication:"
   ]
  },
  {
   "cell_type": "code",
   "execution_count": null,
   "metadata": {},
   "outputs": [],
   "source": [
    "Smatrix_inv = np.linalg.inv(Smatrix)\n",
    "f, ax = plt.subplots(figsize=(4, 4))\n",
    "ax.matshow(Smatrix_inv, cmap=\"gray\")\n",
    "f.tight_layout()"
   ]
  },
  {
   "cell_type": "code",
   "execution_count": null,
   "metadata": {},
   "outputs": [],
   "source": [
    "new_unshifted_sinusoid = Smatrix_inv @ shifted_sinusoid\n",
    "f, ax = plt.subplots()\n",
    "ax.plot(n_range, unshifted_sinusoid, \"-\")\n",
    "ax.plot(n_range, new_unshifted_sinusoid, \"o\")\n",
    "f.tight_layout()"
   ]
  },
  {
   "cell_type": "markdown",
   "metadata": {},
   "source": [
    "### Another example\n",
    "\n",
    "Here's another example of inverting a linear transform. In this example, we split a signal into two bands, a high frequency (or \"highpass\") and a low frequency (or \"lowpass\") band. Each band has the same number of samples as the original sequence, so the entire transform has twice as many samples as the original. The lowpass and highpass filters are carefully chosen so that summing the low and high bands reconstructs the original signal."
   ]
  },
  {
   "cell_type": "code",
   "execution_count": null,
   "metadata": {},
   "outputs": [],
   "source": [
    "lo_filt = [.008, .031, .094, .219, .297, .219, .094, .031, .008]\n",
    "hi_filt = [-.008, -.031, -.094, -.219, .703, -.219, -.094, -.031, -.008]\n",
    "x = np.linspace(-4, 4, len(lo_filt))\n",
    "\n",
    "f, axes = plt.subplots(2, sharex=True, sharey=True)\n",
    "axes[0].plot(x, lo_filt)\n",
    "axes[1].plot(x, hi_filt)\n",
    "f.tight_layout()"
   ]
  },
  {
   "cell_type": "code",
   "execution_count": null,
   "metadata": {},
   "outputs": [],
   "source": [
    "lo_impulse_resp = np.convolve(impulse, lo_filt, \"same\")\n",
    "hi_impulse_resp = np.convolve(impulse, hi_filt, \"same\")\n",
    "\n",
    "f, axes = plt.subplots(2, sharex=True, sharey=True)\n",
    "axes[0].plot(n_range, lo_impulse_resp, \"o-\")\n",
    "axes[1].plot(n_range, hi_impulse_resp, \"o-\")\n",
    "f.tight_layout()"
   ]
  },
  {
   "cell_type": "code",
   "execution_count": null,
   "metadata": {},
   "outputs": [],
   "source": [
    "reconstructed_impulse = lo_impulse_resp + hi_impulse_resp\n",
    "assert np.allclose(impulse, reconstructed_impulse)\n",
    "\n",
    "f, ax = plt.subplots()\n",
    "ax.plot(n_range, reconstructed_impulse, \"o-\")\n",
    "f.tight_layout()"
   ]
  },
  {
   "cell_type": "markdown",
   "metadata": {},
   "source": [
    "### Linear system responses to a sinusoid\n"
   ]
  },
  {
   "cell_type": "code",
   "execution_count": null,
   "metadata": {},
   "outputs": [],
   "source": [
    "lo_sin_response = ndimage.convolve(sinusoid, lo_filt, mode=\"wrap\")\n",
    "hi_sin_response = ndimage.convolve(sinusoid, hi_filt, mode=\"wrap\")\n",
    "\n",
    "f, axes = plt.subplots(2, sharex=True)\n",
    "axes[0].plot(n_range, lo_sin_response, marker=\"o\")\n",
    "axes[1].plot(n_range, hi_sin_response, marker=\"o\", color=\"C1\")\n",
    "f.tight_layout()"
   ]
  },
  {
   "cell_type": "code",
   "execution_count": null,
   "metadata": {},
   "outputs": [],
   "source": [
    "reconstructed_sin = lo_sin_response + hi_sin_response\n",
    "\n",
    "f, ax = plt.subplots()\n",
    "ax.plot(n_range, reconstructed_sin, marker=\"o\", mec=\"C1\", mfc=\"C1\")\n",
    "\n",
    "assert np.allclose(reconstructed_sin, sinusoid)"
   ]
  },
  {
   "cell_type": "markdown",
   "metadata": {},
   "source": [
    "Now let's see what the matrix looks like for this transform:"
   ]
  },
  {
   "cell_type": "code",
   "execution_count": null,
   "metadata": {},
   "outputs": [],
   "source": [
    "n = 32\n",
    "lh_matrix = np.zeros((2 * n, n))\n",
    "for i in range(n):\n",
    "    for k, j in enumerate(range(i - 4, i + 5)):\n",
    "        lh_matrix[i, (j + n) %  n] = lo_filt[k]\n",
    "        lh_matrix[i + n, (j + n) %  n] = hi_filt[k]\n",
    "\n",
    "f, ax = plt.subplots(figsize=(4, 8))\n",
    "ax.matshow(lh_matrix, cmap=\"gray\")\n",
    "f.tight_layout()"
   ]
  },
  {
   "cell_type": "markdown",
   "metadata": {},
   "source": [
    "The top half of the rectangular matrix represents the shifted filter coefficients for the low-pass filter. The bottom half represents those of the hi-pass filter.\n",
    "\n",
    "To invert the transform, we can use the pseudo-inverse, $(M^T M)^{-1} M^T$, where M is the matrix, $M^T$ is the matrix transpose, and the $^{-1}$ indicates matrix inverse.\n",
    "\n"
   ]
  },
  {
   "cell_type": "code",
   "execution_count": null,
   "metadata": {},
   "outputs": [],
   "source": [
    "lh_matrix_inv = np.linalg.inv(lh_matrix.T @ lh_matrix) @ lh_matrix.T"
   ]
  },
  {
   "cell_type": "code",
   "execution_count": null,
   "metadata": {},
   "outputs": [],
   "source": [
    "f, ax = plt.subplots(figsize=(8, 4))\n",
    "ax.matshow(lh_matrix_inv, cmap=\"gray\")\n",
    "f.tight_layout()"
   ]
  },
  {
   "cell_type": "markdown",
   "metadata": {},
   "source": [
    "Let's check that this really is the inverse:"
   ]
  },
  {
   "cell_type": "code",
   "execution_count": null,
   "metadata": {},
   "outputs": [],
   "source": [
    "assert np.allclose(lh_matrix_inv @ lh_matrix, np.eye(n))"
   ]
  },
  {
   "cell_type": "markdown",
   "metadata": {},
   "source": [
    "Now, recompute the transform (the lo-pass and hi-pass transform coefficients are displayed in one double-length sequence, next to each other):"
   ]
  },
  {
   "cell_type": "code",
   "execution_count": null,
   "metadata": {},
   "outputs": [],
   "source": [
    "impulse_transform = lh_matrix @ impulse.T\n",
    "\n",
    "f, ax = plt.subplots()\n",
    "ax.plot(impulse_transform)\n",
    "f.tight_layout()"
   ]
  },
  {
   "cell_type": "markdown",
   "metadata": {},
   "source": [
    "Now, invert the transform:"
   ]
  },
  {
   "cell_type": "code",
   "execution_count": null,
   "metadata": {},
   "outputs": [],
   "source": [
    "new_reconstruct_impulse = lh_matrix_inv @ impulse_transform\n",
    "\n",
    "f, ax = plt.subplots()\n",
    "ax.plot(new_reconstruct_impulse, \"o-\")\n",
    "f.tight_layout()\n",
    "\n",
    "assert np.allclose(impulse, new_reconstruct_impulse)"
   ]
  },
  {
   "cell_type": "markdown",
   "metadata": {},
   "source": [
    "The inverse that we just used is different from just adding together the coefficients of the two bands (used above). There is more than one way to invert an overcomplete transform. Let's construct the matrix that corresponds to adding the coefficients from the two bands, and make sure that it also inverts the transform:"
   ]
  },
  {
   "cell_type": "code",
   "execution_count": null,
   "metadata": {},
   "outputs": [],
   "source": [
    "new_lh_matrix_inv = np.c_[np.eye(n), np.eye(n)]\n",
    "\n",
    "f, ax = plt.subplots(figsize=(8, 4))\n",
    "ax.matshow(new_lh_matrix_inv, cmap=\"gray\")\n",
    "f.tight_layout()"
   ]
  },
  {
   "cell_type": "markdown",
   "metadata": {},
   "source": [
    "Check that this is also an inverse:"
   ]
  },
  {
   "cell_type": "code",
   "execution_count": null,
   "metadata": {},
   "outputs": [],
   "source": [
    "assert np.allclose(new_lh_matrix_inv @ lh_matrix, np.eye(n))"
   ]
  },
  {
   "cell_type": "markdown",
   "metadata": {},
   "source": [
    "## Sinusoidal sequences\n",
    "\n",
    "Sinusoidal and cosinusoidal sequences play a particularly important role in representing signals, because complex exponential sequences (including sines and cosines) are the eigenfunctions of finite-dimensional linear time-invariant systems.  For example, a sinusoidal sequence convolved with a linear filter gives another sinusoidal sequence of the same frequency.  Only the phase and amplitude of the output sinusoid will be different.\n"
   ]
  },
  {
   "cell_type": "code",
   "execution_count": null,
   "metadata": {},
   "outputs": [],
   "source": [
    "f, ax = plt.subplots()\n",
    "ax.plot(sinusoid, \"o-\")\n",
    "result = ndimage.convolve(sinusoid, filt, mode=\"wrap\")\n",
    "ax.plot(result, \"o-\")\n",
    "f.tight_layout()"
   ]
  },
  {
   "cell_type": "markdown",
   "metadata": {},
   "source": [
    "That filter changes only the amplitude, not the phase. Here's one that also changes the phase (via shift/delay):"
   ]
  },
  {
   "cell_type": "code",
   "execution_count": null,
   "metadata": {},
   "outputs": [],
   "source": [
    "shift_filt = np.r_[0, 0, filt]\n",
    "result = ndimage.convolve(sinusoid, shift_filt, mode=\"wrap\")\n",
    "ax.plot(result, \"o-\")\n",
    "display(f)"
   ]
  },
  {
   "cell_type": "markdown",
   "metadata": {},
   "source": [
    "Let's try some really weird (in fact random) filters, just to demonstrate that no matter what you use, you still get a sinusoid of the same frequency:"
   ]
  },
  {
   "cell_type": "code",
   "execution_count": null,
   "metadata": {},
   "outputs": [],
   "source": [
    "results = np.zeros((10, n))\n",
    "for i in range(len(results)):\n",
    "    filt = np.random.rand(5)\n",
    "    results[i] = ndimage.convolve(sinusoid, filt, mode=\"wrap\")\n",
    "\n",
    "f, ax = plt.subplots()\n",
    "ax.plot(results.T, \"o-\")\n",
    "f.tight_layout()"
   ]
  },
  {
   "cell_type": "markdown",
   "metadata": {},
   "source": [
    "## Fourier series representation\n",
    "\n",
    "Any signal can be expressed as a (weighted) linear sum of impulses. Likewise, a signal can be expressed as a (weighted) linear sum of sines and cosines.\n",
    "\n",
    "### Gaussian example\n",
    "\n",
    "Example: make a gaussaian as a sum of cosines."
   ]
  },
  {
   "cell_type": "code",
   "execution_count": null,
   "metadata": {},
   "outputs": [],
   "source": [
    "gaussian = np.exp(-(n_range - n / 2) ** 2 / (2 * 4 ** 2))\n",
    "f, ax = plt.subplots()\n",
    "ax.plot(gaussian, \"o-\")\n",
    "f.tight_layout()"
   ]
  },
  {
   "cell_type": "markdown",
   "metadata": {},
   "source": [
    "Fourier series approximation of a gaussian:"
   ]
  },
  {
   "cell_type": "code",
   "execution_count": null,
   "metadata": {},
   "outputs": [],
   "source": [
    "coefs = [.33, .470, .166, .029, .0025]\n",
    "gaussian_series = np.sum([\n",
    "    coef * np.cos(2 * np.pi * i / n * (n_range - n / 2))\n",
    "    for i, coef in enumerate(coefs)\n",
    "], axis=0)\n",
    "\n",
    "f, ax = plt.subplots()\n",
    "ax.plot(gaussian_series, \"o-\")\n",
    "f.tight_layout()\n",
    "\n",
    "assert np.allclose(gaussian, gaussian_series, atol=.05)"
   ]
  },
  {
   "cell_type": "markdown",
   "metadata": {},
   "source": [
    "## Fourier transform\n",
    "\n",
    "The Fourier transform is a particular linear transform that is used to compute the Fourier coefficients of a signal. The transform matrix looks like this:"
   ]
  },
  {
   "cell_type": "code",
   "execution_count": null,
   "metadata": {},
   "outputs": [],
   "source": [
    "fourier_mat = np.zeros((n * 2, n))\n",
    "for k in n_range:\n",
    "    fourier_mat[k] = np.cos(2 * np.pi * k / n * n_range) / np.sqrt(n)\n",
    "    fourier_mat[k + n] = np.sin(-2 * np.pi * k / n * n_range) / np.sqrt(n)\n",
    "\n",
    "f, ax = plt.subplots(figsize=(4, 8))\n",
    "ax.matshow(fourier_mat, cmap=\"gray\")\n",
    "f.tight_layout()"
   ]
  },
  {
   "cell_type": "markdown",
   "metadata": {},
   "source": [
    "Each row is a sine or cosine. Rows 2 and 6, for example:"
   ]
  },
  {
   "cell_type": "code",
   "execution_count": null,
   "metadata": {},
   "outputs": [],
   "source": [
    "f, ax = plt.subplots()\n",
    "ax.plot(fourier_mat[2], \"o-\")\n",
    "ax.plot(fourier_mat[6], \"o-\")\n",
    "f.tight_layout()"
   ]
  },
  {
   "cell_type": "markdown",
   "metadata": {},
   "source": [
    "The top half of the matrix contains cosines of various frequencies, and the bottom half contains sines of various frequencies. The very top row is a constant that pulls out the average (dc) component of a signal. The transform is self-inverting, that is, multiplying the matrix by its transpose gives the identity transform."
   ]
  },
  {
   "cell_type": "code",
   "execution_count": null,
   "metadata": {},
   "outputs": [],
   "source": [
    "fourier_inv_mat = fourier_mat.T\n",
    "f, ax = plt.subplots(figsize=(8, 4))\n",
    "ax.matshow(fourier_inv_mat, cmap=\"gray\")\n",
    "f.tight_layout()"
   ]
  },
  {
   "cell_type": "code",
   "execution_count": null,
   "metadata": {},
   "outputs": [],
   "source": [
    "assert np.allclose(fourier_inv_mat @ fourier_mat, np.eye(n))"
   ]
  },
  {
   "cell_type": "markdown",
   "metadata": {},
   "source": [
    "Let's look at the rows of the inverse (transpose) matrix. The first half of each row is a cosine, and the second half of each row is a sine. These sines and cosines are the same as the rows of the the Fourier matrix."
   ]
  },
  {
   "cell_type": "code",
   "execution_count": null,
   "metadata": {},
   "outputs": [],
   "source": [
    "f, ax = plt.subplots()\n",
    "ax.plot(fourier_inv_mat[2, :n], \"o-\")\n",
    "ax.plot(fourier_inv_mat[2, n:], \"o-\")\n",
    "f.tight_layout()"
   ]
  },
  {
   "cell_type": "markdown",
   "metadata": {},
   "source": [
    "Let's take the Fourier transform of a cosinusoid."
   ]
  },
  {
   "cell_type": "code",
   "execution_count": null,
   "metadata": {},
   "outputs": [],
   "source": [
    "num_cycles = 4\n",
    "cosinusoid = np.cos(2 * np.pi * num_cycles / n * n_range)\n",
    "ft_cosinusoid = fourier_mat @ cosinusoid\n",
    "\n",
    "f, axes = plt.subplots(2)\n",
    "axes[0].plot(cosinusoid, \"o-\")\n",
    "axes[1].plot(ft_cosinusoid, \"o-\")\n",
    "f.tight_layout()"
   ]
  },
  {
   "cell_type": "markdown",
   "metadata": {},
   "source": [
    "We get a pair of impulses in the transform.  One of the impulses corresponds to the frequency of the signal (4 cycles per image) at position 4 in the transform.  **Why is there a second impulse?**\n",
    "\n",
    "The Fourier transform is really set up to analyze complex signals.  For real signals, the transform has certain symmetry properties.  We will go into those in more detail below.\n",
    "\n",
    "First, try a different frequency:"
   ]
  },
  {
   "cell_type": "code",
   "execution_count": null,
   "metadata": {},
   "outputs": [],
   "source": [
    "num_cycles = 8\n",
    "cosinusoid = np.cos(2 * np.pi * num_cycles / n * n_range)\n",
    "ft_cosinusoid = fourier_mat @ cosinusoid\n",
    "\n",
    "f, axes = plt.subplots(2)\n",
    "axes[0].plot(cosinusoid, \"o-\")\n",
    "axes[1].plot(ft_cosinusoid, \"o-\")\n",
    "f.tight_layout()"
   ]
  },
  {
   "cell_type": "markdown",
   "metadata": {},
   "source": [
    "For a sinusoid, we get impulses in the second half (positions > 32) of the output because the sinusoids are in the bottom half of the system matrix."
   ]
  },
  {
   "cell_type": "code",
   "execution_count": null,
   "metadata": {},
   "outputs": [],
   "source": [
    "transform = fourier_mat @ sinusoid\n",
    "\n",
    "f, axes = plt.subplots(2)\n",
    "axes[0].plot(sinusoid, \"o-\")\n",
    "axes[1].plot(transform, \"o-\")\n",
    "f.tight_layout()"
   ]
  },
  {
   "cell_type": "markdown",
   "metadata": {},
   "source": [
    "The Fourier transform is inverted by using the transpose of the system matrix:"
   ]
  },
  {
   "cell_type": "code",
   "execution_count": null,
   "metadata": {},
   "outputs": [],
   "source": [
    "invert_transform = fourier_mat.T @ transform\n",
    "assert np.allclose(invert_transform, sinusoid)\n",
    "\n",
    "axes[0].plot(invert_transform, \".--\")\n",
    "display(f)"
   ]
  },
  {
   "cell_type": "markdown",
   "metadata": {},
   "source": [
    "## FFTs\n",
    "\n",
    "The FFT (Fast Fourier Transform) is an efficient way of computing the Fourier transform, without bothering with the matrix multiplication."
   ]
  },
  {
   "cell_type": "code",
   "execution_count": null,
   "metadata": {},
   "outputs": [],
   "source": [
    "ft_sinusoid = fft(sinusoid)\n",
    "\n",
    "f, axes = plt.subplots(2, sharey=True)\n",
    "axes[0].plot(ft_sinusoid.real, \"o-\")\n",
    "axes[1].plot(ft_sinusoid.imag, \"o-\")\n",
    "f.tight_layout()"
   ]
  },
  {
   "cell_type": "markdown",
   "metadata": {},
   "source": [
    "FFT returns complex numbers. The imaginary part contains the sine components and the real-part contains the cosine components. The first sample corresponds to the \"DC\" or constant coefficient.\n",
    "\n",
    "Often, people represent Fourier coefficients in terms of magnitude and phase, rather than real and imaginary:"
   ]
  },
  {
   "cell_type": "code",
   "execution_count": null,
   "metadata": {},
   "outputs": [],
   "source": [
    "mag_sin = np.abs(ft_sinusoid)\n",
    "\n",
    "f, ax = plt.subplots()\n",
    "ax.plot(mag_sin, \"o-\")\n",
    "f.tight_layout()"
   ]
  },
  {
   "cell_type": "markdown",
   "metadata": {},
   "source": [
    "Here's a whole series of Fourier transforms for different frequency sinusoids by looping through all of the possible frequencies of periodic sinuoisides."
   ]
  },
  {
   "cell_type": "code",
   "execution_count": null,
   "metadata": {},
   "outputs": [],
   "source": [
    "f, ax = plt.subplots()\n",
    "colors = plt.cm.coolwarm(np.linspace(.1, .9, n))\n",
    "for freq in n_range:\n",
    "    sin_freq = np.sin(2 * np.pi * freq / 32 * n_range)\n",
    "    imag_ft_sin_freq = fft(sin_freq).imag\n",
    "    ax.plot(imag_ft_sin_freq, \"o-\", color=colors[freq])\n",
    "f.tight_layout()"
   ]
  },
  {
   "cell_type": "markdown",
   "metadata": {},
   "source": [
    "## Fourier transforms of other signals\n",
    "\n",
    "Now, let's compute Fourier transforms of some other signals.\n",
    "\n",
    "First, Fourier transform of a constant function:"
   ]
  },
  {
   "cell_type": "code",
   "execution_count": null,
   "metadata": {},
   "outputs": [],
   "source": [
    "constant = np.ones(n)\n",
    "mag_constant = np.abs(fft(constant))\n",
    "\n",
    "f, axes = plt.subplots(2, sharex=True)\n",
    "axes[0].plot(constant, \"o-\")\n",
    "axes[1].plot(mag_constant, \"o-\")\n",
    "f.tight_layout()"
   ]
  },
  {
   "cell_type": "markdown",
   "metadata": {},
   "source": [
    "The `fftshift` function shifts the frequency axis to put the dc component in the middle:"
   ]
  },
  {
   "cell_type": "code",
   "execution_count": null,
   "metadata": {},
   "outputs": [],
   "source": [
    "mag_constant = fftshift(mag_constant)\n",
    "f, axes = plt.subplots(2, sharex=False)\n",
    "axes[0].plot(constant, \"o-\")\n",
    "axes[1].plot(n_range - n / 2, mag_constant, \"o-\")\n",
    "f.tight_layout()"
   ]
  },
  {
   "cell_type": "markdown",
   "metadata": {},
   "source": [
    "## Fourier transform of a Gaussian function\n",
    "\n",
    "In the Fourier transform of a Gaussian, the real part is itself a Gaussian and the imaginary part is zero:"
   ]
  },
  {
   "cell_type": "code",
   "execution_count": null,
   "metadata": {},
   "outputs": [],
   "source": [
    "gaussian = np.exp(-((n_range - 16) / 6) ** 2)\n",
    "ft_gaussian = fftshift(fft(ifftshift(gaussian)))\n",
    "\n",
    "f, axes = plt.subplots(2, sharex=True)\n",
    "\n",
    "axes[0].plot(gaussian, \"o-\")\n",
    "axes[1].plot(ft_gaussian.real, \"o-\")\n",
    "axes[1].plot(ft_gaussian.imag, \"o-\")\n",
    "f.tight_layout()"
   ]
  },
  {
   "cell_type": "markdown",
   "metadata": {},
   "source": [
    "Making the Gaussian smaller in one domain makes it larger in the other domain:"
   ]
  },
  {
   "cell_type": "code",
   "execution_count": null,
   "metadata": {},
   "outputs": [],
   "source": [
    "little_gauss = np.exp(-((n_range - 16) ** 2 / 2))\n",
    "ft_little_gauss = fftshift(fft(ifftshift(little_gauss)))\n",
    "\n",
    "f, axes = plt.subplots(2, sharex=True)\n",
    "axes[0].plot(little_gauss, \"o-\")\n",
    "axes[1].plot(ft_little_gauss.real, \"o-\")\n",
    "f.tight_layout()"
   ]
  },
  {
   "cell_type": "markdown",
   "metadata": {},
   "source": [
    "## Symmetry properties of the Fourier transform\n",
    "\n",
    "For any real-valued, antisymmetric (odd) function, in with $f(x) = -f(-x)$, the real part of the FT is zero, and the imaginary part of the FT is antisymmetric (odd). For any real-valued, symmetric (even) function, in which $f(x) = f(-x)$, the imaginary part of the FT is zero and the real part is symmetric (even).\n",
    "\n",
    "To show this, we decompose a random signal into its even and odd components:"
   ]
  },
  {
   "cell_type": "code",
   "execution_count": null,
   "metadata": {},
   "outputs": [],
   "source": [
    "even_odd_x = np.arange(-n, n + 1)\n",
    "random_signal = .5 - np.random.rand(even_odd_x.size)\n",
    "\n",
    "even_signal = .5 * (random_signal + random_signal[::-1])\n",
    "assert np.allclose(even_signal, even_signal[::-1])\n",
    "\n",
    "odd_signal = .5 * (random_signal - random_signal[::-1])\n",
    "assert np.allclose(odd_signal, -odd_signal[::-1])\n",
    "\n",
    "assert np.allclose(random_signal, even_signal + odd_signal)"
   ]
  },
  {
   "cell_type": "code",
   "execution_count": null,
   "metadata": {},
   "outputs": [],
   "source": [
    "f, axes = plt.subplots(3, sharex=True, sharey=True)\n",
    "axes[0].plot(even_odd_x, random_signal, \"o-\")\n",
    "axes[1].plot(even_odd_x, even_signal, \"o-\")\n",
    "axes[2].plot(even_odd_x, odd_signal, \"o-\")\n",
    "f.tight_layout()"
   ]
  },
  {
   "cell_type": "code",
   "execution_count": null,
   "metadata": {},
   "outputs": [],
   "source": [
    "ft_even_signal = fftshift(fft(ifftshift(even_signal)))\n",
    "ft_odd_signal = fftshift(fft(ifftshift(odd_signal)))\n",
    "\n",
    "f, axes = plt.subplots(2, sharex=True, sharey=True)\n",
    "axes[0].plot(even_odd_x, ft_even_signal.real, \"o-\")\n",
    "axes[0].plot(even_odd_x, ft_even_signal.imag, \"o-\")\n",
    "axes[1].plot(even_odd_x, ft_odd_signal.real, \"o-\")\n",
    "axes[1].plot(even_odd_x, ft_odd_signal.imag, \"o-\")\n",
    "f.tight_layout()"
   ]
  },
  {
   "cell_type": "markdown",
   "metadata": {},
   "source": [
    "For any real-valued signal, the real part of the FT is even-symmetric and the imaginary part of the FT is odd-symmetric."
   ]
  },
  {
   "cell_type": "code",
   "execution_count": null,
   "metadata": {},
   "outputs": [],
   "source": [
    "ft_random_signal = fftshift(fft(random_signal))\n",
    "\n",
    "f, axes = plt.subplots(2, sharex=True, sharey=True)\n",
    "axes[0].plot(ft_random_signal.real, \"o-\", color=\"C0\")\n",
    "axes[1].plot(ft_random_signal.imag, \"o-\", color=\"C1\")\n",
    "f.tight_layout()"
   ]
  },
  {
   "cell_type": "markdown",
   "metadata": {},
   "source": [
    "Taken together, these symmetry properties mean that there is quite a lot of redundancy in the FT of a real signal. A simple way to count the amount of redundancy is to compare the number of samples. Take a real-valued input signal with 64 samples. Computing its FFT gives a total of 128 samples (half in the real part and half in the imaginary part), a factor of 2 redundant."
   ]
  },
  {
   "cell_type": "markdown",
   "metadata": {},
   "source": [
    "## Parseval's Theorem\n",
    "\n",
    "\"The sum of squared values over space domain equals sum of squared values over frequency domain.\""
   ]
  },
  {
   "cell_type": "code",
   "execution_count": null,
   "metadata": {},
   "outputs": [],
   "source": [
    "assert np.allclose(np.sum(gaussian ** 2), np.sum(ft_gaussian ** 2) / n)"
   ]
  },
  {
   "cell_type": "markdown",
   "metadata": {},
   "source": [
    "## Circular Shifting\n",
    "\n",
    "If we shift the signal as if it were periodic (i.e., translate the signal, wrapping around at the edges), this does not affect the Fourier transform magnitude:"
   ]
  },
  {
   "cell_type": "code",
   "execution_count": null,
   "metadata": {},
   "outputs": [],
   "source": [
    "ft_gauss = fftshift(fft(ifftshift(gaussian)))\n",
    "ft_shift_gauss = fftshift(fft(ifftshift(np.roll(gaussian, 3))))\n",
    "\n",
    "mag_ft_gauss = np.abs(ft_gauss)\n",
    "mag_ft_shift_gauss = np.abs(ft_shift_gauss)\n",
    "\n",
    "f, axes = plt.subplots(2, sharex=True)\n",
    "axes[0].plot(n_range - n / 2, mag_ft_gauss, \"o-\")\n",
    "axes[1].plot(n_range - n / 2, mag_ft_shift_gauss, \"o-\")\n",
    "\n",
    "assert np.allclose(mag_ft_gauss, mag_ft_shift_gauss)"
   ]
  },
  {
   "cell_type": "markdown",
   "metadata": {},
   "source": [
    "## Differentiation"
   ]
  },
  {
   "cell_type": "markdown",
   "metadata": {},
   "source": [
    "Taking a derivative of a signal in time is the same as multiplying by an imaginary ramp in frequency. In particular, $$\\mathrm{Fourier}\\Big(\\frac{d}{dx} f(x)\\Big) = -i\\,w\\,\\mathrm{Fourier}\\Big(f(x)\\Big),$$ where $i = \\sqrt{-1}$ and $w$ is normalized frequency.\n",
    "\n",
    "For an intuition for the derivative property, recall that $$\\frac{d}{dx}\\cos{wx} = -w\\sin{wx}.$$\n",
    "\n",
    "For example, consider a Gaussian and the first derivative of a Gaussian."
   ]
  },
  {
   "cell_type": "code",
   "execution_count": null,
   "metadata": {},
   "outputs": [],
   "source": [
    "gaussian = np.exp(-((n_range - n / 2) ** 2) / (2 * 4 ** 2))\n",
    "gaussian_deriv = -2 / (2 * 4 ** 2) * (n_range - n / 2) * gaussian\n",
    "\n",
    "ft_gaussian = fftshift(fft(ifftshift(gaussian)))\n",
    "ft_gaussian_deriv = fftshift(fft(ifftshift(gaussian_deriv)))\n",
    "\n",
    "f, axes = plt.subplots(2, sharex=True)\n",
    "axes[0].plot(n_range - n / 2, gaussian, \"o-\")\n",
    "axes[0].plot(n_range - n / 2, gaussian_deriv, \"o-\")\n",
    "\n",
    "axes[1].plot(n_range - n / 2, ft_gaussian.real, \"o-\")\n",
    "axes[1].plot(n_range - n / 2, ft_gaussian_deriv.imag, \"o-\")\n",
    "f.tight_layout()"
   ]
  },
  {
   "cell_type": "code",
   "execution_count": null,
   "metadata": {},
   "outputs": [],
   "source": [
    "ramp = 2 * np.pi / n * 1j * (n_range - n / 2)  # 1j is i, or sqrt(-1)\n",
    "ft_gaussian_mul_ramp = ramp * ft_gaussian\n",
    "assert np.allclose(ft_gaussian_deriv, ft_gaussian_mul_ramp, atol=1e-3)\n",
    "\n",
    "axes[1].plot(n_range - n / 2, ft_gaussian_mul_ramp.imag, \"o\", color=\"C2\")\n",
    "display(f)"
   ]
  },
  {
   "cell_type": "markdown",
   "metadata": {},
   "source": [
    "## Modulation Theorem\n",
    "\n",
    "Multiplication in time domain is the same as convolution in the frequency domain, up to a known scale factor.  For example, a Gabor function is a sinusoid multiplied by a Gaussian window. Thus, the FT of a Gabor is the convolution of the FT of a Gaussian with the FT of a sinusoid. This is an easy way tto gain an intuition for the filtering properties of a gabor filter."
   ]
  },
  {
   "cell_type": "code",
   "execution_count": null,
   "metadata": {},
   "outputs": [],
   "source": [
    "gabor = gaussian * sinusoid\n",
    "ft_gabor = fftshift(fft(ifftshift(gabor)))\n",
    "\n",
    "f, axes = plt.subplots(2, sharex=True)\n",
    "axes[0].plot(n_range - n / 2, gabor, \"o-\")\n",
    "axes[1].plot(n_range - n / 2, ft_gabor.imag, \"o-\")\n",
    "f.tight_layout()"
   ]
  },
  {
   "cell_type": "code",
   "execution_count": null,
   "metadata": {},
   "outputs": [],
   "source": [
    "ft_sinusoid = fftshift(fft(ifftshift(sinusoid)))\n",
    "axes[1].plot(n_range - n / 2, ft_sinusoid.imag, \"o-\")\n",
    "\n",
    "ft_gaussian = fftshift(fft(ifftshift(gaussian)))\n",
    "axes[1].plot(n_range - n / 2, ft_gaussian.imag, \"o-\")\n",
    "\n",
    "display(f)"
   ]
  },
  {
   "cell_type": "code",
   "execution_count": null,
   "metadata": {},
   "outputs": [],
   "source": [
    "conv_of_fts = ndimage.convolve(ft_gaussian.real, ft_sinusoid.imag, mode=\"wrap\") / n\n",
    "axes[1].plot(n_range - n / 2, conv_of_fts, \"*\")\n",
    "assert np.allclose(ft_gabor.imag, conv_of_fts)\n",
    "display(f)"
   ]
  },
  {
   "cell_type": "markdown",
   "metadata": {},
   "source": [
    "## Convolution Theorem\n",
    "\n",
    "Convolution in the time domain is the same as multiplication in the frequency domain, up to a known scale factor. This theorem is extremely useful. Sometimes, you have a filter that is simple to characterize in the frequency domain but complicated in the time domain. For example, it may be comtact in the frequency domain (i.e., nearly zero everywhere), but very big (i.e., lots of samples needed) in the time domain. In such cases, you can do the filtering by Fourier transforming the signal, multiplying in the frequency domain, and then Fourier transforming back."
   ]
  },
  {
   "cell_type": "code",
   "execution_count": null,
   "metadata": {},
   "outputs": [],
   "source": [
    "from numpy.fft import fftfreq"
   ]
  },
  {
   "cell_type": "code",
   "execution_count": null,
   "metadata": {},
   "outputs": [],
   "source": [
    "gabor_filter = gabor.copy()\n",
    "impulse_x = np.arange(128)\n",
    "impulse_x_ctr = impulse_x - impulse_x.size / 2\n",
    "impulse_signal = (impulse_x == 64).astype(float)\n",
    "impulse_response = ndimage.convolve(impulse_signal, gabor_filter, mode=\"wrap\")\n",
    "\n",
    "f, ax = plt.subplots()\n",
    "ax.plot(impulse_x, impulse_response)\n",
    "f.tight_layout()"
   ]
  },
  {
   "cell_type": "code",
   "execution_count": null,
   "metadata": {},
   "outputs": [],
   "source": [
    "random_signal = .5 - np.random.rand(impulse_signal.size)\n",
    "filtered_signal = ndimage.convolve(random_signal, gabor_filter, mode=\"wrap\")\n",
    "f, ax = plt.subplots()\n",
    "ax.plot(impulse_x, filtered_signal)\n",
    "f.tight_layout()"
   ]
  },
  {
   "cell_type": "code",
   "execution_count": null,
   "metadata": {},
   "outputs": [],
   "source": [
    "ft_filtered_signal = fftshift(fft(ifftshift(filtered_signal)))\n",
    "f, ax = plt.subplots()\n",
    "ax.plot(impulse_x_ctr, np.abs(ft_filtered_signal))\n",
    "f.tight_layout()"
   ]
  },
  {
   "cell_type": "code",
   "execution_count": null,
   "metadata": {},
   "outputs": [],
   "source": [
    "frequency_response = fftshift(fft(ifftshift(impulse_response)))\n",
    "f, ax = plt.subplots()\n",
    "ax.plot(impulse_x_ctr, np.abs(frequency_response))\n",
    "f.tight_layout()"
   ]
  },
  {
   "cell_type": "code",
   "execution_count": null,
   "metadata": {},
   "outputs": [],
   "source": [
    "ft_random_signal = fftshift(fft(ifftshift(random_signal)))\n",
    "product_of_fts = frequency_response * ft_random_signal\n",
    "assert np.allclose(ft_filtered_signal, product_of_fts)\n",
    "f, ax = plt.subplots()\n",
    "ax.plot(impulse_x_ctr, np.abs(product_of_fts))\n",
    "f.tight_layout()"
   ]
  },
  {
   "cell_type": "markdown",
   "metadata": {},
   "source": [
    "## Frequency Response\n",
    "\n",
    "Since the Convolution Theorem is so useful, the Fourier transform of the impulse response of a time-invariant linear system has a special name. It is called the Frequency Response of the linear system.\n",
    "\n",
    "Remember that for a sinusoidal input, the output of a time-invariant linear system is sinusoidal with the same frequency. Only the amplitude and phase will be changed by filtering. The frequency response of a filter can be used to \"read-off\" of the amplitude attenuation and the phase shift, for each frequency. For a complicated signal, that can be expressed as the sum of a number of sinusoids, the frequency response can be used to \"read-off\" the attenuation and phase shift for each component.\n",
    "\n",
    "As anotherr example, let's compute the frequency response of the one sample delay system. For the delay system, the magnitude of the frequency response is constant (1 for all frequencies), and the phase is $-w$)."
   ]
  },
  {
   "cell_type": "code",
   "execution_count": null,
   "metadata": {},
   "outputs": [],
   "source": [
    "delay_filter = [0, 0, 1]\n",
    "impulse_response = ndimage.convolve(impulse_signal, delay_filter, mode=\"wrap\")\n",
    "frequency_response = fftshift(fft(ifftshift(impulse_response)))\n",
    "mag_frequency_response = np.abs(frequency_response)\n",
    "phase_frequency_response = np.angle(frequency_response)\n",
    "\n",
    "f, axes = plt.subplots(2, sharex=True)\n",
    "axes[0].plot(impulse_x_ctr, mag_frequency_response)\n",
    "axes[1].plot(impulse_x_ctr, phase_frequency_response)\n",
    "f.tight_layout()"
   ]
  },
  {
   "cell_type": "markdown",
   "metadata": {},
   "source": [
    "You may have noticed in a few places, we multiplied by the square root of the number of samples (e.g. 32). This scale factor is needed given the way that the fft is implemented in `numpy`. In some textbooks (e.g., Oppenheim and Schafer), the discrete Fourier transform (DFT) is dfined so that you divide by the number of samples (N) when doing the inverse transform (from the frequency domain back into the space/time domain). In other texts, the DFT is dfined so that youdivded by N when doing the forward transform. In still other texts, you divided by $\\sqrt{N}$ when doing both the forward and the inverse transforms, so that the Fourier transform is an orthonormal transform. The implementation in `numpy` follows the first (divide by N in the inverse transform) of these conventions.\n",
    "\n",
    "If you lose track of which convention is being used, it is, unfortunately, easy to get confused. For example, using the `numpy` convention, we write Parseval's theorem as follows (with a factor of $\\frac{1}{N}$):\n",
    "\n",
    "$$\\sum{x[n]^2} = \\frac{1}{N}\\sum{X[w]^2}.$$\n",
    "\n",
    "Using the orthonormal (divide by root-N for the forward and inverse transforms) convention, Parseval's theorem has no scale factor:\n",
    "\n",
    "$$\\sum{x[n]^2} = \\sum{X[w]^2}.$$\n",
    "\n",
    "Using the `numpy` convention, the convolution theorem has no scale factor:\n",
    "\n",
    "$$F(x_1[n] * x_2[n]) = X_1[k]\\,X_2[k]$$.\n",
    "\n",
    "Using the orthonormal convention, the convolution theorem has a factor of $\\sqrt(N)$:\n",
    "\n",
    "$$F(x_1[n] * x_2[n]) = \\sqrt(N)\\,X_1[k]\\,X2[k].$$"
   ]
  },
  {
   "cell_type": "markdown",
   "metadata": {},
   "source": [
    "## Discrete Cosine Transform\n",
    "\n",
    "the DCT is another linear transform that is closely related to the DFT. The rows of the DCT transform matrix are cosines:\n",
    "\n",
    "$$c(k) \\,\\frac{1}{\\sqrt{n}}\\,\\cos{\\frac{\\pi}{2N}\\,k\\,(2n+1)}$$\n",
    "\n",
    "Where $c(k)=1$ for $k=0$ and $c(k)=\\sqrt{2}$ otherwise. Here, $k$ indexes the row and $n$ indexes the column. In other words, $n$ indexes the sample position of the original sample, and $k$ indexes the transform coefficients."
   ]
  },
  {
   "cell_type": "code",
   "execution_count": null,
   "metadata": {},
   "outputs": [],
   "source": [
    "N = 16\n",
    "dct_mat = np.zeros((N, N))\n",
    "nnrange = np.arange(N)\n",
    "kkrange = nnrange[:, np.newaxis]\n",
    "cs = np.where(kkrange > 0, np.sqrt(2), 1)\n",
    "dct_mat = cs / np.sqrt(N) * np.cos(np.pi / (2 * N) * kkrange * (2 * nnrange + 1))\n",
    "\n",
    "f, ax = plt.subplots(figsize=(4, 4))\n",
    "ax.matshow(dct_mat, cmap=\"gray\")\n",
    "f.tight_layout()"
   ]
  },
  {
   "cell_type": "markdown",
   "metadata": {},
   "source": [
    "The DCT matrix is square and orthonormal:"
   ]
  },
  {
   "cell_type": "code",
   "execution_count": null,
   "metadata": {},
   "outputs": [],
   "source": [
    "assert np.allclose(dct_mat @ dct_mat.T, np.eye(N))\n",
    "assert np.allclose(dct_mat.T @ dct_mat, np.eye(N))"
   ]
  },
  {
   "cell_type": "code",
   "execution_count": null,
   "metadata": {},
   "outputs": [],
   "source": []
  }
 ],
 "metadata": {
  "kernelspec": {
   "display_name": "Python 3",
   "language": "python",
   "name": "python3"
  },
  "language_info": {
   "codemirror_mode": {
    "name": "ipython",
    "version": 3
   },
   "file_extension": ".py",
   "mimetype": "text/x-python",
   "name": "python",
   "nbconvert_exporter": "python",
   "pygments_lexer": "ipython3",
   "version": "3.7.3"
  }
 },
 "nbformat": 4,
 "nbformat_minor": 4
}

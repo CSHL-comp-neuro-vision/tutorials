{
 "cells": [
  {
   "cell_type": "markdown",
   "id": "641dca6d-8290-4547-8b17-f23667d9a684",
   "metadata": {},
   "source": [
    "# This tutorial is in progress! Please come back to it later"
   ]
  },
  {
   "cell_type": "code",
   "execution_count": 6,
   "id": "8f4526e5-2761-4ba2-8dec-05c54575f5d1",
   "metadata": {},
   "outputs": [],
   "source": [
    "import numpy as np\n",
    "import matplotlib.pyplot as plt"
   ]
  },
  {
   "cell_type": "markdown",
   "id": "0e9300c6-9256-4e21-a136-14c717deadb6",
   "metadata": {},
   "source": [
    "# Simulating basic neurons\n",
    "We're going to build some simulations of neurons using orientation tuning functions. As a starting point, lets build a function that returns a von Mises distribution which is a Gaussian in circular space."
   ]
  },
  {
   "cell_type": "code",
   "execution_count": null,
   "id": "94da45aa-c0ba-4f6b-b96e-cacadba11dac",
   "metadata": {},
   "outputs": [],
   "source": []
  },
  {
   "cell_type": "code",
   "execution_count": 10,
   "id": "b6073d2e-1051-4732-8936-f36d03a75fd0",
   "metadata": {},
   "outputs": [],
   "source": [
    "def von_mises(x, mu, kappa):\n",
    "    return np.exp(kappa*np.cos(x-mu))/(2*np.pi*np.i0(kappa))"
   ]
  },
  {
   "cell_type": "code",
   "execution_count": 34,
   "id": "62b43b99-4af5-4a8d-bba7-813913f94fc2",
   "metadata": {},
   "outputs": [],
   "source": [
    "x = np.linspace(-np.pi,np.pi,361)\n",
    "y = von_mises(x,0,2)\n",
    "y /= 361/2/np.pi # rescale by the spacing to normalize"
   ]
  },
  {
   "cell_type": "markdown",
   "id": "a634060c-bb13-45bc-8154-dc1ff5141372",
   "metadata": {},
   "source": [
    "Let's now define a function that will sample firing rates from this neuron "
   ]
  }
 ],
 "metadata": {
  "kernelspec": {
   "display_name": "Python 3 (ipykernel)",
   "language": "python",
   "name": "python3"
  },
  "language_info": {
   "codemirror_mode": {
    "name": "ipython",
    "version": 3
   },
   "file_extension": ".py",
   "mimetype": "text/x-python",
   "name": "python",
   "nbconvert_exporter": "python",
   "pygments_lexer": "ipython3",
   "version": "3.10.4"
  }
 },
 "nbformat": 4,
 "nbformat_minor": 5
}

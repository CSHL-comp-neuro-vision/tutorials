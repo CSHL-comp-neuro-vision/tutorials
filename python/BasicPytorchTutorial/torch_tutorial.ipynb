{
 "cells": [
  {
   "cell_type": "markdown",
   "id": "e1b073f5-2d60-48a3-91f9-d5df5fd456d5",
   "metadata": {},
   "source": [
    "## Adapted (mostly comments added) from [pytorch.org](https://pytorch.org/tutorials/beginner/basics/quickstart_tutorial.html)\n",
    "js(jserences@ucsd.edu) for CSHL 2024"
   ]
  },
  {
   "cell_type": "code",
   "execution_count": 1,
   "id": "f5bbc9a8-d2ae-4fa8-8d4c-a6222648d93a",
   "metadata": {},
   "outputs": [],
   "source": [
    "import torch\n",
    "from torch import nn\n",
    "from torch.utils.data import DataLoader\n",
    "from torchvision import datasets\n",
    "from torchvision.transforms import ToTensor\n",
    "import matplotlib.pyplot as plt"
   ]
  },
  {
   "cell_type": "code",
   "execution_count": 2,
   "id": "14109205-8ecd-4367-bc1c-f50014f40be9",
   "metadata": {},
   "outputs": [],
   "source": [
    "# Download training data from open datasets.\n",
    "training_data = datasets.FashionMNIST(\n",
    "    root=\"data\",\n",
    "    train=True,\n",
    "    download=True,\n",
    "    transform=ToTensor(),\n",
    ")\n",
    "\n",
    "# Download test data from open datasets.\n",
    "test_data = datasets.FashionMNIST(\n",
    "    root=\"data\",\n",
    "    train=False,\n",
    "    download=True,\n",
    "    transform=ToTensor(),\n",
    ")"
   ]
  },
  {
   "cell_type": "code",
   "execution_count": 3,
   "id": "6168df53-d53d-4e22-b966-f5966728c7e5",
   "metadata": {},
   "outputs": [
    {
     "name": "stdout",
     "output_type": "stream",
     "text": [
      "Shape of X [N, C, H, W]: torch.Size([64, 1, 28, 28])\n",
      "Shape of y: torch.Size([64]) torch.int64\n"
     ]
    }
   ],
   "source": [
    "# number of 'samples' or 'trials' in each training batch\n",
    "# send in >1 before backprop - usually leads to more effecient \n",
    "# training\n",
    "batch_size = 64\n",
    "\n",
    "# Create data loaders.\n",
    "train_dataloader = DataLoader(training_data, batch_size=batch_size)\n",
    "test_dataloader = DataLoader(test_data, batch_size=batch_size)\n",
    "\n",
    "# y is the image label\n",
    "\n",
    "for X, y in test_dataloader:\n",
    "    print(f\"Shape of X [N, C, H, W]: {X.shape}\")\n",
    "    print(f\"Shape of y: {y.shape} {y.dtype}\")\n",
    "    break"
   ]
  },
  {
   "cell_type": "markdown",
   "id": "4b2fe0b8-a5aa-448e-b9e7-15c22df49e81",
   "metadata": {},
   "source": [
    "#### Have a look at stuff in dataloader (X,y)"
   ]
  },
  {
   "cell_type": "code",
   "execution_count": 4,
   "id": "9ce0af42-0c30-4114-800e-bf8f558da586",
   "metadata": {},
   "outputs": [
    {
     "name": "stdout",
     "output_type": "stream",
     "text": [
      "tensor([9, 2, 1, 1, 6, 1, 4, 6, 5, 7, 4, 5, 7, 3, 4, 1, 2, 4, 8, 0, 2, 5, 7, 9,\n",
      "        1, 4, 6, 0, 9, 3, 8, 8, 3, 3, 8, 0, 7, 5, 7, 9, 6, 1, 3, 7, 6, 7, 2, 1,\n",
      "        2, 2, 4, 4, 5, 8, 2, 2, 8, 4, 8, 0, 7, 7, 8, 5])\n"
     ]
    },
    {
     "data": {
      "image/png": "[encoded data removed]",
      "text/plain": [
       "<Figure size 640x480 with 1 Axes>"
      ]
     },
     "metadata": {},
     "output_type": "display_data"
    }
   ],
   "source": [
    "# image label\n",
    "print(y)\n",
    "\n",
    "# show a training image from this batch\n",
    "# image is 1x24x24 - greyscale so only 1 channel\n",
    "# and 24x24 pixels\n",
    "img = 0\n",
    "plt.imshow(X[img,0,:,:],cmap='gray')\n",
    "plt.show()"
   ]
  },
  {
   "cell_type": "markdown",
   "id": "cd2396cd-f46b-4b14-9df8-bcf92186fab1",
   "metadata": {},
   "source": [
    "#### And other relevant properties of the dataset"
   ]
  },
  {
   "cell_type": "code",
   "execution_count": 5,
   "id": "6a125b81-99e0-4974-b0c2-343229fb0d86",
   "metadata": {},
   "outputs": [
    {
     "data": {
      "text/plain": [
       "Dataset FashionMNIST\n",
       "    Number of datapoints: 60000\n",
       "    Root location: data\n",
       "    Split: Train\n",
       "    StandardTransform\n",
       "Transform: ToTensor()"
      ]
     },
     "execution_count": 5,
     "metadata": {},
     "output_type": "execute_result"
    }
   ],
   "source": [
    "train_dataloader.dataset"
   ]
  },
  {
   "cell_type": "markdown",
   "id": "66a11120-5062-4af0-8daa-8dbe92eed570",
   "metadata": {},
   "source": [
    "### Get cpu, gpu or mps (apple M1,M2,MX) device for training.\n"
   ]
  },
  {
   "cell_type": "code",
   "execution_count": 6,
   "id": "e6da9ca4-6bfa-4b80-bd26-b24e85c7b5f4",
   "metadata": {},
   "outputs": [
    {
     "name": "stdout",
     "output_type": "stream",
     "text": [
      "Using mps device\n",
      "NeuralNetwork(\n",
      "  (flatten): Flatten(start_dim=1, end_dim=-1)\n",
      "  (linear_relu_stack): Sequential(\n",
      "    (0): Linear(in_features=784, out_features=512, bias=True)\n",
      "    (1): ReLU()\n",
      "    (2): Linear(in_features=512, out_features=512, bias=True)\n",
      "    (3): ReLU()\n",
      "    (4): Linear(in_features=512, out_features=10, bias=True)\n",
      "  )\n",
      ")\n"
     ]
    }
   ],
   "source": [
    "# query available devices \n",
    "# and save name - do in order: cuda/mps/cpu\n",
    "device = (\n",
    "    \"cuda\"\n",
    "    if torch.cuda.is_available()\n",
    "    else \"mps\"\n",
    "    if torch.backends.mps.is_available()\n",
    "    else \"cpu\"\n",
    ")\n",
    "print(f\"Using {device} device\")\n",
    "\n",
    "# Define model\n",
    "class NeuralNetwork(nn.Module):\n",
    "    \n",
    "    # init the model - main part is to make a 'Sequential' container\n",
    "    # accepts an input and sends it to the first module in the container. \n",
    "    # Outputs are sequentially passed into subsequent modules (“chaining”) \n",
    "    # and an output is returned by the last module.\n",
    "    # In this case we have a series of 'Linear' modules, with ReLU (rectified\n",
    "    # linear unit) activation functions in between hidden layers. \n",
    "    def __init__(self):\n",
    "\n",
    "        # init from nn.Module super class to inherit all methods\n",
    "        super().__init__()\n",
    "        \n",
    "        # give flatten to self to shape the inputs to the sequential \n",
    "        # processing chain\n",
    "        self.flatten = nn.Flatten() \n",
    "\n",
    "        # build the sequential container \n",
    "        self.linear_relu_stack = nn.Sequential(\n",
    "            nn.Linear(28*28, 512),\n",
    "            nn.ReLU(),\n",
    "            nn.Linear(512, 512),\n",
    "            nn.ReLU(),\n",
    "            nn.Linear(512, 10)\n",
    "        )\n",
    "\n",
    "    # define what to do on each forward pass of the model\n",
    "    # 1) flatten input to convert 28x28 image into a vector \n",
    "    #    with 784 pixel values \n",
    "    # 2) pass input to sequential relu stack\n",
    "    # 3) \n",
    "    def forward(self, x):\n",
    "        x = self.flatten(x)\n",
    "        logits = self.linear_relu_stack(x)\n",
    "        return logits\n",
    "\n",
    "# send the network to the desired device\n",
    "model = NeuralNetwork().to(device)\n",
    "print(model)"
   ]
  },
  {
   "cell_type": "markdown",
   "id": "995ccae5-65e1-4402-8e36-547bcc1d1c3b",
   "metadata": {},
   "source": [
    "#### define a loss function and an optimizer\n",
    "* loss function: function you are trying to minimize during training, in this case the cross entropy (difference between two probability distributions) between input logits (log-probabilities) and target...useful when training a classification problem with C classes. \n",
    "* optimizer object to store the current state and will then update the parameters based on the computed gradients (lots of different kinds...often use an Adam optimizer)"
   ]
  },
  {
   "cell_type": "code",
   "execution_count": 7,
   "id": "3c3d477b-2327-4141-950e-c9c41d975c02",
   "metadata": {},
   "outputs": [],
   "source": [
    "loss_fn = nn.CrossEntropyLoss()\n",
    "optimizer = torch.optim.SGD(model.parameters(), lr=1e-3)"
   ]
  },
  {
   "cell_type": "markdown",
   "id": "9da4d1ff-24f8-4c24-96e2-bd89779a2bb9",
   "metadata": {},
   "source": [
    "#### Define what happens in each training loop\n",
    "* Train model (compute current weights)\n",
    "* Makes predictions on the current batch of training images\n",
    "* backprop the prediction error to adjust model parameters using the optimizer"
   ]
  },
  {
   "cell_type": "code",
   "execution_count": 8,
   "id": "b7331a20-3b9b-4b8e-8ea2-7c175d8250bf",
   "metadata": {},
   "outputs": [],
   "source": [
    "def train(dataloader, model, loss_fn, optimizer):\n",
    "\n",
    "    # get the number of batches \n",
    "    size = len(dataloader.dataset)\n",
    "    \n",
    "    # train the model object \n",
    "    # (note that there is no output because the weights, etc\n",
    "    # are stored internally in this instance of the object so\n",
    "    # they are modified in the object)...below you will send in \n",
    "    # new training data, compute loss, do backprop...\n",
    "    model.train()\n",
    "\n",
    "    # pass in the batch \n",
    "    for batch, (X, y) in enumerate(dataloader):\n",
    "        \n",
    "        X, y = X.to(device), y.to(device)\n",
    "\n",
    "        # Compute prediction\n",
    "        pred = model(X)\n",
    "\n",
    "        # compute difference between pred \n",
    "        # and actual label (in y)\n",
    "        loss = loss_fn(pred, y)\n",
    "\n",
    "        # Backpropagation\n",
    "        loss.backward()\n",
    "\n",
    "        # perform a single parameter update\n",
    "        optimizer.step()\n",
    "\n",
    "        # zero out the gradient buffers before updating model params (e.g. Weights/biases)\n",
    "        # because gradients accumulate so the new gradient will be \n",
    "        # combined with the old gradient which has already been used to update the model \n",
    "        # parameters and the combined gradient may point in the wrong direction\n",
    "        optimizer.zero_grad()\n",
    "\n",
    "        # print out progress...\n",
    "        if batch % 100 == 0:\n",
    "            loss, current = loss.item(), (batch + 1) * len(X)\n",
    "            print(f\"loss: {loss:>7f}  [{current:>5d}/{size:>5d}]\")"
   ]
  },
  {
   "cell_type": "markdown",
   "id": "d8d6b25e-15b1-4b91-a2ab-d16c5d4f20a0",
   "metadata": {},
   "source": [
    "#### Functon to evaluate (test) the model with held out images"
   ]
  },
  {
   "cell_type": "code",
   "execution_count": 9,
   "id": "711c6ffc-62b9-4e42-9c9e-a546e83e5970",
   "metadata": {},
   "outputs": [],
   "source": [
    "def test(dataloader, model, loss_fn):\n",
    "    size = len(dataloader.dataset)\n",
    "    num_batches = len(dataloader)\n",
    "\n",
    "    # get the model ready for evaluation (testing)\n",
    "    model.eval()\n",
    "    test_loss, correct = 0, 0\n",
    "\n",
    "    # this means \"do this stuff with the gradients turned off\" \n",
    "    # i.e. fix the gradients during testing\n",
    "    with torch.no_grad():\n",
    "\n",
    "        # loop over images in batch\n",
    "        for X, y in dataloader:\n",
    "\n",
    "            # move the images to the current device (e.g. gpu, mps, or cpu)\n",
    "            X, y = X.to(device), y.to(device)\n",
    "            \n",
    "            # make a prediction for each image in the current batch\n",
    "            pred = model(X)\n",
    "\n",
    "            # pass predictions and real labels into our loss function\n",
    "            test_loss += loss_fn(pred, y).item()\n",
    "\n",
    "            # keep track of how well we're doing by comparing each prediction\n",
    "            # with the actual label \n",
    "            correct += (pred.argmax(1) == y).type(torch.float).sum().item()\n",
    "\n",
    "    # print it out\n",
    "    test_loss /= num_batches\n",
    "    correct /= size\n",
    "    print(f\"Test Error: \\n Accuracy: {(100*correct):>0.1f}%, Avg loss: {test_loss:>8f} \\n\")"
   ]
  },
  {
   "cell_type": "markdown",
   "id": "3d215f43-408b-4753-bdf0-2dbf954d4501",
   "metadata": {},
   "source": [
    "#### Train the model in 10 epochs, with each epoch containing 60000 training iterations. Then test the model after each epoch to see how training is going."
   ]
  },
  {
   "cell_type": "code",
   "execution_count": 10,
   "id": "de6f9ef9-11a6-4c98-81f7-f3555d6649c7",
   "metadata": {},
   "outputs": [
    {
     "name": "stdout",
     "output_type": "stream",
     "text": [
      "Epoch 1\n",
      "-------------------------------\n",
      "loss: 2.304897  [   64/60000]\n",
      "loss: 2.285691  [ 6464/60000]\n",
      "loss: 2.265212  [12864/60000]\n",
      "loss: 2.259078  [19264/60000]\n",
      "loss: 2.232242  [25664/60000]\n",
      "loss: 2.210690  [32064/60000]\n",
      "loss: 2.209539  [38464/60000]\n",
      "loss: 2.172639  [44864/60000]\n",
      "loss: 2.177558  [51264/60000]\n",
      "loss: 2.136769  [57664/60000]\n",
      "Test Error: \n",
      " Accuracy: 43.0%, Avg loss: 2.132194 \n",
      "\n",
      "Epoch 2\n",
      "-------------------------------\n",
      "loss: 2.153867  [   64/60000]\n",
      "loss: 2.139712  [ 6464/60000]\n",
      "loss: 2.077411  [12864/60000]\n",
      "loss: 2.087494  [19264/60000]\n",
      "loss: 2.023602  [25664/60000]\n",
      "loss: 1.977502  [32064/60000]\n",
      "loss: 1.995322  [38464/60000]\n",
      "loss: 1.915332  [44864/60000]\n",
      "loss: 1.927176  [51264/60000]\n",
      "loss: 1.841603  [57664/60000]\n",
      "Test Error: \n",
      " Accuracy: 52.9%, Avg loss: 1.839641 \n",
      "\n",
      "Epoch 3\n",
      "-------------------------------\n",
      "loss: 1.892559  [   64/60000]\n",
      "loss: 1.855560  [ 6464/60000]\n",
      "loss: 1.730505  [12864/60000]\n",
      "loss: 1.760389  [19264/60000]\n",
      "loss: 1.643277  [25664/60000]\n",
      "loss: 1.618183  [32064/60000]\n",
      "loss: 1.627528  [38464/60000]\n",
      "loss: 1.534569  [44864/60000]\n",
      "loss: 1.564135  [51264/60000]\n",
      "loss: 1.454360  [57664/60000]\n",
      "Test Error: \n",
      " Accuracy: 58.1%, Avg loss: 1.472053 \n",
      "\n",
      "Epoch 4\n",
      "-------------------------------\n",
      "loss: 1.554820  [   64/60000]\n",
      "loss: 1.517772  [ 6464/60000]\n",
      "loss: 1.362466  [12864/60000]\n",
      "loss: 1.427711  [19264/60000]\n",
      "loss: 1.307897  [25664/60000]\n",
      "loss: 1.321471  [32064/60000]\n",
      "loss: 1.329491  [38464/60000]\n",
      "loss: 1.257857  [44864/60000]\n",
      "loss: 1.295869  [51264/60000]\n",
      "loss: 1.199783  [57664/60000]\n",
      "Test Error: \n",
      " Accuracy: 62.2%, Avg loss: 1.224137 \n",
      "\n",
      "Epoch 5\n",
      "-------------------------------\n",
      "loss: 1.310794  [   64/60000]\n",
      "loss: 1.292580  [ 6464/60000]\n",
      "loss: 1.122488  [12864/60000]\n",
      "loss: 1.225618  [19264/60000]\n",
      "loss: 1.099413  [25664/60000]\n",
      "loss: 1.134541  [32064/60000]\n",
      "loss: 1.156311  [38464/60000]\n",
      "loss: 1.092009  [44864/60000]\n",
      "loss: 1.133574  [51264/60000]\n",
      "loss: 1.057150  [57664/60000]\n",
      "Test Error: \n",
      " Accuracy: 64.4%, Avg loss: 1.075184 \n",
      "\n",
      "Epoch 6\n",
      "-------------------------------\n",
      "loss: 1.152064  [   64/60000]\n",
      "loss: 1.156007  [ 6464/60000]\n",
      "loss: 0.968176  [12864/60000]\n",
      "loss: 1.103586  [19264/60000]\n",
      "loss: 0.974589  [25664/60000]\n",
      "loss: 1.010029  [32064/60000]\n",
      "loss: 1.051321  [38464/60000]\n",
      "loss: 0.987477  [44864/60000]\n",
      "loss: 1.027040  [51264/60000]\n",
      "loss: 0.968943  [57664/60000]\n",
      "Test Error: \n",
      " Accuracy: 65.7%, Avg loss: 0.979464 \n",
      "\n",
      "Epoch 7\n",
      "-------------------------------\n",
      "loss: 1.041392  [   64/60000]\n",
      "loss: 1.068094  [ 6464/60000]\n",
      "loss: 0.861938  [12864/60000]\n",
      "loss: 1.022321  [19264/60000]\n",
      "loss: 0.895885  [25664/60000]\n",
      "loss: 0.920374  [32064/60000]\n",
      "loss: 0.981729  [38464/60000]\n",
      "loss: 0.918388  [44864/60000]\n",
      "loss: 0.951127  [51264/60000]\n",
      "loss: 0.908413  [57664/60000]\n",
      "Test Error: \n",
      " Accuracy: 67.0%, Avg loss: 0.912775 \n",
      "\n",
      "Epoch 8\n",
      "-------------------------------\n",
      "loss: 0.958756  [   64/60000]\n",
      "loss: 1.005713  [ 6464/60000]\n",
      "loss: 0.784107  [12864/60000]\n",
      "loss: 0.962847  [19264/60000]\n",
      "loss: 0.842266  [25664/60000]\n",
      "loss: 0.852531  [32064/60000]\n",
      "loss: 0.931289  [38464/60000]\n",
      "loss: 0.870521  [44864/60000]\n",
      "loss: 0.894659  [51264/60000]\n",
      "loss: 0.863358  [57664/60000]\n",
      "Test Error: \n",
      " Accuracy: 68.0%, Avg loss: 0.863305 \n",
      "\n",
      "Epoch 9\n",
      "-------------------------------\n",
      "loss: 0.893899  [   64/60000]\n",
      "loss: 0.957448  [ 6464/60000]\n",
      "loss: 0.724273  [12864/60000]\n",
      "loss: 0.916753  [19264/60000]\n",
      "loss: 0.802823  [25664/60000]\n",
      "loss: 0.800082  [32064/60000]\n",
      "loss: 0.892141  [38464/60000]\n",
      "loss: 0.836105  [44864/60000]\n",
      "loss: 0.851622  [51264/60000]\n",
      "loss: 0.827621  [57664/60000]\n",
      "Test Error: \n",
      " Accuracy: 69.0%, Avg loss: 0.824847 \n",
      "\n",
      "Epoch 10\n",
      "-------------------------------\n",
      "loss: 0.841214  [   64/60000]\n",
      "loss: 0.917417  [ 6464/60000]\n",
      "loss: 0.676911  [12864/60000]\n",
      "loss: 0.880008  [19264/60000]\n",
      "loss: 0.772144  [25664/60000]\n",
      "loss: 0.759061  [32064/60000]\n",
      "loss: 0.860163  [38464/60000]\n",
      "loss: 0.810130  [44864/60000]\n",
      "loss: 0.817971  [51264/60000]\n",
      "loss: 0.798018  [57664/60000]\n",
      "Test Error: \n",
      " Accuracy: 70.5%, Avg loss: 0.793710 \n",
      "\n",
      "Done!\n"
     ]
    }
   ],
   "source": [
    "epochs = 10\n",
    "for t in range(epochs):\n",
    "    print(f\"Epoch {t+1}\\n-------------------------------\")\n",
    "    train(train_dataloader, model, loss_fn, optimizer)\n",
    "    test(test_dataloader, model, loss_fn)\n",
    "print(\"Done!\")"
   ]
  },
  {
   "cell_type": "markdown",
   "id": "5433ef91-52de-4ac1-b914-d3ccd7d637c2",
   "metadata": {},
   "source": [
    "#### Save the model (structure + weights and other parameters)"
   ]
  },
  {
   "cell_type": "code",
   "execution_count": 11,
   "id": "c6da5b57-fe35-49b5-9960-9987322cb6a0",
   "metadata": {},
   "outputs": [
    {
     "name": "stdout",
     "output_type": "stream",
     "text": [
      "Saved PyTorch Model State to model.pth\n"
     ]
    }
   ],
   "source": [
    "torch.save(model.state_dict(), \"model.pth\")\n",
    "print(\"Saved PyTorch Model State to model.pth\")"
   ]
  },
  {
   "cell_type": "markdown",
   "id": "13bdd455-7aba-4534-837f-90f245863e40",
   "metadata": {},
   "source": [
    "#### Load the model structure and the state dictionary (i.e. state of all layer weights, etc)"
   ]
  },
  {
   "cell_type": "code",
   "execution_count": 12,
   "id": "37a85ef3-9849-4f3e-85bb-edd77c1adc03",
   "metadata": {},
   "outputs": [
    {
     "data": {
      "text/plain": [
       "<All keys matched successfully>"
      ]
     },
     "execution_count": 12,
     "metadata": {},
     "output_type": "execute_result"
    }
   ],
   "source": [
    "model = NeuralNetwork().to(device)\n",
    "model.load_state_dict(torch.load(\"model.pth\"))"
   ]
  },
  {
   "cell_type": "markdown",
   "id": "f23164c9-d995-4e26-a8ea-123492c431e7",
   "metadata": {},
   "source": [
    "#### General approach for accessing wieghts via the `state_dictionary` (dict with all params for all layers)"
   ]
  },
  {
   "cell_type": "code",
   "execution_count": 13,
   "id": "ce4aeb72-d42c-4896-893c-433a367482c4",
   "metadata": {},
   "outputs": [
    {
     "name": "stdout",
     "output_type": "stream",
     "text": [
      "linear_relu_stack.0.weight\n",
      "linear_relu_stack.0.bias\n",
      "linear_relu_stack.2.weight\n",
      "linear_relu_stack.2.bias\n",
      "linear_relu_stack.4.weight\n",
      "linear_relu_stack.4.bias\n"
     ]
    },
    {
     "data": {
      "text/plain": [
       "tensor([[-0.0090, -0.0086,  0.0087,  ...,  0.0033, -0.0352, -0.0137],\n",
       "        [-0.0147, -0.0360,  0.0345,  ..., -0.0132, -0.0312, -0.0161],\n",
       "        [-0.0293,  0.0251, -0.0069,  ..., -0.0293,  0.0340,  0.0213],\n",
       "        ...,\n",
       "        [ 0.0072, -0.0389,  0.0280,  ..., -0.0282, -0.0104,  0.0107],\n",
       "        [-0.0132, -0.0167,  0.0272,  ...,  0.0435, -0.0412, -0.0356],\n",
       "        [ 0.0238,  0.0243,  0.0061,  ..., -0.0242, -0.0357,  0.0052]],\n",
       "       device='mps:0')"
      ]
     },
     "execution_count": 13,
     "metadata": {},
     "output_type": "execute_result"
    }
   ],
   "source": [
    "sd = model.state_dict()\n",
    "\n",
    "# print out dictionary keys\n",
    "for k in sd.keys():\n",
    "    print(k)\n",
    "\n",
    "# Then can access values in the dictionary...\n",
    "# e.g. weights from hidden 2\n",
    "sd['linear_relu_stack.2.weight']"
   ]
  }
 ],
 "metadata": {
  "kernelspec": {
   "display_name": "Python 3 (ipykernel)",
   "language": "python",
   "name": "python3"
  },
  "language_info": {
   "codemirror_mode": {
    "name": "ipython",
    "version": 3
   },
   "file_extension": ".py",
   "mimetype": "text/x-python",
   "name": "python",
   "nbconvert_exporter": "python",
   "pygments_lexer": "ipython3",
   "version": "3.9.6"
  }
 },
 "nbformat": 4,
 "nbformat_minor": 5
}

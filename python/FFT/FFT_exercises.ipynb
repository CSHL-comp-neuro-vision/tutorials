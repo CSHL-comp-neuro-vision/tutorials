{
 "cells": [
  {
   "cell_type": "markdown",
   "metadata": {},
   "source": [
    "# FFT exercises\n",
    "\n",
    "[npy file format](https://www.numpy.org/devdocs/reference/generated/numpy.lib.format.html)\n",
    "\n",
    "[npz file format (save several arrays)](https://docs.scipy.org/doc/numpy-1.15.1/reference/generated/numpy.savez.html)\n",
    "\n",
    "[article about advantages of npy/npz format compared to csv and other common formats](https://towardsdatascience.com/why-you-should-start-using-npy-file-more-often-df2a13cc0161)"
   ]
  },
  {
   "cell_type": "markdown",
   "metadata": {},
   "source": [
    "## First import data from eeg_data00.npz"
   ]
  },
  {
   "cell_type": "code",
   "execution_count": 1,
   "metadata": {},
   "outputs": [],
   "source": [
    "# first import the modules that you'll need. \n",
    "import numpy as np\n",
    "import scipy.io as sio\n",
    "import matplotlib.pyplot as plt"
   ]
  },
  {
   "cell_type": "markdown",
   "metadata": {},
   "source": [
    "## load eeg_data00.npz...\n",
    "* you should find that it has three arrays: data, tx, and sr (with 'data' a #trials x # timepoints array containing the EEG data, the time of each data acquisition in tx, and the sample rate stored as sr).  "
   ]
  },
  {
   "cell_type": "code",
   "execution_count": 2,
   "metadata": {},
   "outputs": [
    {
     "name": "stdout",
     "output_type": "stream",
     "text": [
      "Shape of the eeg data set:  (960, 876)\n",
      "Sample rate:  250\n"
     ]
    }
   ],
   "source": [
    "# load the data...\n",
    "eeg = np.load('eeg_data00.npz')\n",
    "\n",
    "# get the different arrays - dictionary structure, so access with keys 'data', 'sr', 'tx'\n",
    "# eeg['data']\n",
    "# eeg['sr']\n",
    "# eeg['tx']\n",
    "\n",
    "# and can query the attributes of the data like this...\n",
    "# which will tell us that there 960 trials and 876 timepoints per trial sampled\n",
    "# at 250Hz\n",
    "print('Shape of the eeg data set: ', eeg['data'].shape)\n",
    "print('Sample rate: ', eeg['sr'])\n",
    "\n",
    "# and if you want to save some typing, especially because we only have a few variables, \n",
    "# you can reassign the different arrays like this\n",
    "data = eeg['data']\n",
    "sr = eeg['sr']\n",
    "tx = eeg['tx']\n"
   ]
  },
  {
   "cell_type": "markdown",
   "metadata": {},
   "source": [
    "## First - plot the data! (always do this first). \n",
    "* Compute the mean across all trials and then plot with tx on the xaxis. \n",
    "* Remember - good form is to explicitly specify the axis that you want to average over when using np.mean!"
   ]
  },
  {
   "cell_type": "code",
   "execution_count": null,
   "metadata": {},
   "outputs": [],
   "source": []
  },
  {
   "cell_type": "markdown",
   "metadata": {},
   "source": [
    "## Now grab the data from time 0 until time 2000 and plot it then FFT it..\n",
    "* Use boolean indexing by selecting the columns from the 'data' matrix that meet: (tx>=0)  & (tx<2000)\n",
    "* while you're at it, go ahead and grab the timepoints corresponding to that interval as well for use as an x-axis label while plotting\n",
    "* Now plot the timeseries to make sure it looks right (compare with plot of entire timeseries above)"
   ]
  },
  {
   "cell_type": "code",
   "execution_count": null,
   "metadata": {},
   "outputs": [],
   "source": []
  },
  {
   "cell_type": "markdown",
   "metadata": {},
   "source": [
    "## Do the FFT on the data averaged across trials (so first avg the data across trials, and then FFT)\n",
    "* Plot the FFT amplitudes after you run it"
   ]
  },
  {
   "cell_type": "code",
   "execution_count": null,
   "metadata": {},
   "outputs": [],
   "source": []
  },
  {
   "cell_type": "markdown",
   "metadata": {},
   "source": [
    "## Now lets look at a few frequency segments to see what is going on\n",
    "* First plot just the frequencies in between 55 and 65Hz (use boolean indexing)\n",
    "* Then look at the frequencies in between 5 and 20Hz"
   ]
  },
  {
   "cell_type": "code",
   "execution_count": null,
   "metadata": {},
   "outputs": [],
   "source": []
  },
  {
   "cell_type": "code",
   "execution_count": null,
   "metadata": {},
   "outputs": [],
   "source": []
  },
  {
   "cell_type": "markdown",
   "metadata": {},
   "source": [
    "## Remember what the above plots look like, and then do something that *seems* just a little different\n",
    "* FFT each trial \n",
    "* Then compute the amplitude on each trial\n",
    "* Then compute the average amplitude across all trials\n",
    "* Then plot like you did above - first over all frequs, then zoom in and plot the 55-65hz window and the 5-20Hz window \n",
    "* To make this work, note that np.fft.rfft can operate on the entire data matrix at once. You should ALWAYS specify the axis that you want the FFT to work over (in this case the time axis, or axis 1). np.fft.rfft will default to the LAST axis if you specify nothing, which in this case is ok but it would totally NOT be ok if your data were transposed\n",
    "* Hint: handy to store the shape of the data matrix before you do all this so that you can pass in the number of timepoints to the amplitude normalization function and the freq-axis function. e.g. r,c = data.shape\n",
    "\n",
    "[np.fft.rfft documentation](https://docs.scipy.org/doc/numpy-1.15.1/reference/generated/numpy.fft.rfft.html)"
   ]
  },
  {
   "cell_type": "code",
   "execution_count": null,
   "metadata": {},
   "outputs": [],
   "source": []
  },
  {
   "cell_type": "code",
   "execution_count": null,
   "metadata": {},
   "outputs": [],
   "source": []
  },
  {
   "cell_type": "code",
   "execution_count": null,
   "metadata": {},
   "outputs": [],
   "source": []
  },
  {
   "cell_type": "markdown",
   "metadata": {},
   "source": [
    "## Now compare the plots you got just now (FFT each trial, then compute amp, then average) with the plots you got when you averaged in time domain first and THEN did the FFT. Why are they different?\n",
    "* hint: think about phase..."
   ]
  },
  {
   "cell_type": "markdown",
   "metadata": {},
   "source": [
    "## Switch to a new data set...load eeg_data01.npz."
   ]
  },
  {
   "cell_type": "code",
   "execution_count": 3,
   "metadata": {},
   "outputs": [
    {
     "name": "stdout",
     "output_type": "stream",
     "text": [
      "Shape of the big eeg data set:  (1600, 4102)\n",
      "Sample rate:  1024\n"
     ]
    }
   ],
   "source": [
    "# load the data...\n",
    "eeg = np.load('eeg_data01.npz')\n",
    "\n",
    "# get the different arrays like this...kind of like a structure in matlab. \n",
    "# eeg['data']\n",
    "# eeg['sr']\n",
    "# eeg['tx']\n",
    "\n",
    "# and can query the attributes of the data like this...which will tell us that there 1600 trials and 4102 timepoints per trial sampled\n",
    "# at 1024Hz\n",
    "print('Shape of the big eeg data set: ', eeg['data'].shape)\n",
    "print('Sample rate: ', eeg['sr'])\n",
    "\n",
    "# and if you want to save some typing, especially because we only have a few variables, you reassign the different arrays like this\n",
    "data = eeg['data']\n",
    "sr = eeg['sr']\n",
    "tx = eeg['tx']"
   ]
  },
  {
   "cell_type": "markdown",
   "metadata": {},
   "source": [
    "## Plot the data, just like we did above"
   ]
  },
  {
   "cell_type": "code",
   "execution_count": null,
   "metadata": {},
   "outputs": [],
   "source": []
  },
  {
   "cell_type": "markdown",
   "metadata": {},
   "source": [
    "## Now segment the data from time 0 to time 1753 and plot to make sure it looks right"
   ]
  },
  {
   "cell_type": "code",
   "execution_count": null,
   "metadata": {},
   "outputs": [],
   "source": []
  },
  {
   "cell_type": "markdown",
   "metadata": {},
   "source": [
    "## Next:\n",
    "* compute the FFT of the data on each trial\n",
    "* then compute the amp on each trial\n",
    "* then plot the average amplitude over a window from 12Hz to 35Hz"
   ]
  },
  {
   "cell_type": "code",
   "execution_count": null,
   "metadata": {},
   "outputs": [],
   "source": []
  },
  {
   "cell_type": "markdown",
   "metadata": {},
   "source": [
    "## Not much going on...so now \n",
    "* average the data in the time domain (i.e. avg across all trials)\n",
    "* then FFT, compute amp, then plot over the same window"
   ]
  },
  {
   "cell_type": "code",
   "execution_count": null,
   "metadata": {},
   "outputs": [],
   "source": []
  },
  {
   "cell_type": "markdown",
   "metadata": {},
   "source": [
    "## now what do you see? \n",
    "* what can infer about the experiment based on the difference in the amplitude spectrum from the two different methods (FFT all trials, then convert to amp, then average versus Average in time domain, then FFT and then compute amp)"
   ]
  }
 ],
 "metadata": {
  "kernelspec": {
   "display_name": "Python 3 (ipykernel)",
   "language": "python",
   "name": "python3"
  },
  "language_info": {
   "codemirror_mode": {
    "name": "ipython",
    "version": 3
   },
   "file_extension": ".py",
   "mimetype": "text/x-python",
   "name": "python",
   "nbconvert_exporter": "python",
   "pygments_lexer": "ipython3",
   "version": "3.9.7"
  }
 },
 "nbformat": 4,
 "nbformat_minor": 2
}
